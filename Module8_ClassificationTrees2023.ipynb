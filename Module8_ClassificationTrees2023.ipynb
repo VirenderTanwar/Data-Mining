{
 "cells": [
  {
   "cell_type": "markdown",
   "metadata": {
    "id": "TAbTzFEkU3X8"
   },
   "source": [
    "# **Module 8: CLASSIFICATION: Trees**\n",
    "In this notebook, we are going to study different ways of setting up the classic decision tree model in Python. At the end of this module, you will be able to:\n",
    "* Explain what classification trees do\n",
    "* Differentiate between types of classification trees\n",
    "* Build simple classification trees\n",
    "<center>\n",
    "<img src = \"https://miro.medium.com/v2/resize:fit:640/format:webp/1*qMrZJof4R4LRnCFDvTj_Sg.jpeg\">\n",
    "\n",
    "**Be sure to expand all the hidden cells, run all the code, and do all the exercises--you will need the techniques for the lesson lab!**\n"
   ]
  },
  {
   "cell_type": "markdown",
   "metadata": {
    "id": "Yj-zwToQQfKv"
   },
   "source": [
    "#**What is a Classification Tree (and why should you care)?**\n",
    "A Classification tree assigns data records to discrete levels (or labels) in a class attribute. It is built through binary recursive partitioning, which means that data is being split into partitions, then sub-partitions, and sub-sub-partitions, and so on. The outcome is a tree with a root, several branches, and leaves like the one below (which comes from [this awesome post](https://towardsdatascience.com/https-medium-com-lorrli-classification-and-regression-analysis-with-decision-trees-c43cdbc58054) on classification trees that will tell you almost everything you need to know):\n",
    "\n",
    "<div>\n",
    "<img src=\"https://raw.githubusercontent.com/shstreuber/Data-Mining/master/images/classtree.jpeg\" width=\"400\">\n",
    "</div>\n"
   ]
  },
  {
   "cell_type": "markdown",
   "metadata": {
    "id": "vD7yiF_hb39f"
   },
   "source": [
    "Now take a look at the first video in which I explain this in more detail (and with examples):\n"
   ]
  },
  {
   "cell_type": "code",
   "execution_count": 1,
   "metadata": {
    "colab": {
     "base_uri": "https://localhost:8080/",
     "height": 371
    },
    "executionInfo": {
     "elapsed": 9,
     "status": "ok",
     "timestamp": 1696132184513,
     "user": {
      "displayName": "Sonja Streuber",
      "userId": "03872648719424952237"
     },
     "user_tz": 240
    },
    "id": "Nx_Do6Cqcb-i",
    "outputId": "3e7c551f-9bdd-49b7-a784-223b7d6ba482"
   },
   "outputs": [
    {
     "name": "stderr",
     "output_type": "stream",
     "text": [
      "/usr/local/lib/python3.10/dist-packages/IPython/core/display.py:724: UserWarning: Consider using IPython.display.IFrame instead\n",
      "  warnings.warn(\"Consider using IPython.display.IFrame instead\")\n"
     ]
    },
    {
     "data": {
      "text/html": [
       "<iframe width=\"560\" height=\"315\" src=\"https://www.youtube.com/embed/BxQAIyDxDKg\" title=\"YouTube video player\" frameborder=\"0\" allow=\"accelerometer; autoplay; clipboard-write; encrypted-media; gyroscope; picture-in-picture\" allowfullscreen></iframe>"
      ],
      "text/plain": [
       "<IPython.core.display.HTML object>"
      ]
     },
     "execution_count": 1,
     "metadata": {},
     "output_type": "execute_result"
    }
   ],
   "source": [
    "from IPython.display import HTML # This is just for me so I can embed videos\n",
    "HTML('<iframe width=\"560\" height=\"315\" src=\"https://www.youtube.com/embed/BxQAIyDxDKg\" title=\"YouTube video player\" frameborder=\"0\" allow=\"accelerometer; autoplay; clipboard-write; encrypted-media; gyroscope; picture-in-picture\" allowfullscreen></iframe>')"
   ]
  },
  {
   "cell_type": "markdown",
   "metadata": {
    "id": "Lg817VSMSgNm"
   },
   "source": [
    "The **BIG QUESTION** about Classification Trees is: How does the machine know when to split off a new branch? And then, on a more practical level: How do you tell it when you want it to split the data?\n",
    "\n",
    "Well, there's some math involved.\n",
    "\n",
    "There are TWO major strategies to use for classification tree splits:\n",
    "1. Information Gain\n",
    "2. Gini Index\n",
    "\n",
    "Find out how these work in my video below:\n"
   ]
  },
  {
   "cell_type": "code",
   "execution_count": 2,
   "metadata": {
    "colab": {
     "base_uri": "https://localhost:8080/",
     "height": 336
    },
    "executionInfo": {
     "elapsed": 6,
     "status": "ok",
     "timestamp": 1696132184513,
     "user": {
      "displayName": "Sonja Streuber",
      "userId": "03872648719424952237"
     },
     "user_tz": 240
    },
    "id": "JIrmZo2SeXM3",
    "outputId": "43d315e4-73cc-42b7-c568-6c3003f0637a"
   },
   "outputs": [
    {
     "data": {
      "text/html": [
       "<iframe width=\"560\" height=\"315\" src=\"https://www.youtube.com/embed/d1AKQgjc4Ag\" title=\"YouTube video player\" frameborder=\"0\" allow=\"accelerometer; autoplay; clipboard-write; encrypted-media; gyroscope; picture-in-picture\" allowfullscreen></iframe>"
      ],
      "text/plain": [
       "<IPython.core.display.HTML object>"
      ]
     },
     "execution_count": 2,
     "metadata": {},
     "output_type": "execute_result"
    }
   ],
   "source": [
    "from IPython.display import HTML # This is just for me so I can embed videos\n",
    "HTML('<iframe width=\"560\" height=\"315\" src=\"https://www.youtube.com/embed/d1AKQgjc4Ag\" title=\"YouTube video player\" frameborder=\"0\" allow=\"accelerometer; autoplay; clipboard-write; encrypted-media; gyroscope; picture-in-picture\" allowfullscreen></iframe>')"
   ]
  },
  {
   "cell_type": "markdown",
   "metadata": {
    "id": "FOnGM8ejepIg"
   },
   "source": [
    "Still not quite sure about this? Go back to the [post on Towards Data Science](https://towardsdatascience.com/https-medium-com-lorrli-classification-and-regression-analysis-with-decision-trees-c43cdbc58054)."
   ]
  },
  {
   "cell_type": "markdown",
   "metadata": {
    "id": "2dQO2OAj4P3N"
   },
   "source": [
    "#**0. Preparation and Setup**\n",
    "There really isn't anything new going on between the modules on k Nearest Neighbor and Naive Bayes and this one. We are still lassifying our data, which means that we follow this process:\n",
    "In machine learning, classification has these steps:\n",
    "\n",
    "1. Exploratory Data Analysis to see how the data is distributed and to determine what the class attribute in the dataset should be. This will be the attribute you'll predict later on\n",
    "2. Preprocess the data (remove n/a, transform data types as needed, deal with missing data) and ensure that the dependent attribute is CATEGORICAL\n",
    "3. Split the data into a training set and a test set\n",
    "4. Build the model based on the training set\n",
    "5. Test the model on the test set and compare the calculated class values to the actual class values shown in the test set with the help of a Confusion Matrix\n",
    "6. Determine the quality of the model with the help of a Classification Report.\n",
    "\n",
    "As with our previous problems, we will use the insurance dataset again."
   ]
  },
  {
   "cell_type": "code",
   "execution_count": 1,
   "metadata": {
    "id": "rKqieySsTlEi"
   },
   "outputs": [
    {
     "data": {
      "text/html": [
       "<div>\n",
       "<style scoped>\n",
       "    .dataframe tbody tr th:only-of-type {\n",
       "        vertical-align: middle;\n",
       "    }\n",
       "\n",
       "    .dataframe tbody tr th {\n",
       "        vertical-align: top;\n",
       "    }\n",
       "\n",
       "    .dataframe thead th {\n",
       "        text-align: right;\n",
       "    }\n",
       "</style>\n",
       "<table border=\"1\" class=\"dataframe\">\n",
       "  <thead>\n",
       "    <tr style=\"text-align: right;\">\n",
       "      <th></th>\n",
       "      <th>age</th>\n",
       "      <th>sex</th>\n",
       "      <th>bmi</th>\n",
       "      <th>children</th>\n",
       "      <th>smoker</th>\n",
       "      <th>region</th>\n",
       "      <th>charges</th>\n",
       "    </tr>\n",
       "  </thead>\n",
       "  <tbody>\n",
       "    <tr>\n",
       "      <th>0</th>\n",
       "      <td>19</td>\n",
       "      <td>female</td>\n",
       "      <td>27.900</td>\n",
       "      <td>0</td>\n",
       "      <td>yes</td>\n",
       "      <td>southwest</td>\n",
       "      <td>16884.92400</td>\n",
       "    </tr>\n",
       "    <tr>\n",
       "      <th>1</th>\n",
       "      <td>18</td>\n",
       "      <td>male</td>\n",
       "      <td>33.770</td>\n",
       "      <td>1</td>\n",
       "      <td>no</td>\n",
       "      <td>southeast</td>\n",
       "      <td>1725.55230</td>\n",
       "    </tr>\n",
       "    <tr>\n",
       "      <th>2</th>\n",
       "      <td>28</td>\n",
       "      <td>male</td>\n",
       "      <td>33.000</td>\n",
       "      <td>3</td>\n",
       "      <td>no</td>\n",
       "      <td>southeast</td>\n",
       "      <td>4449.46200</td>\n",
       "    </tr>\n",
       "    <tr>\n",
       "      <th>3</th>\n",
       "      <td>33</td>\n",
       "      <td>male</td>\n",
       "      <td>22.705</td>\n",
       "      <td>0</td>\n",
       "      <td>no</td>\n",
       "      <td>northwest</td>\n",
       "      <td>21984.47061</td>\n",
       "    </tr>\n",
       "    <tr>\n",
       "      <th>4</th>\n",
       "      <td>32</td>\n",
       "      <td>male</td>\n",
       "      <td>28.880</td>\n",
       "      <td>0</td>\n",
       "      <td>no</td>\n",
       "      <td>northwest</td>\n",
       "      <td>3866.85520</td>\n",
       "    </tr>\n",
       "  </tbody>\n",
       "</table>\n",
       "</div>"
      ],
      "text/plain": [
       "   age     sex     bmi  children smoker     region      charges\n",
       "0   19  female  27.900         0    yes  southwest  16884.92400\n",
       "1   18    male  33.770         1     no  southeast   1725.55230\n",
       "2   28    male  33.000         3     no  southeast   4449.46200\n",
       "3   33    male  22.705         0     no  northwest  21984.47061\n",
       "4   32    male  28.880         0     no  northwest   3866.85520"
      ]
     },
     "execution_count": 1,
     "metadata": {},
     "output_type": "execute_result"
    }
   ],
   "source": [
    "import numpy as np\n",
    "import pandas as pd\n",
    "import matplotlib.pyplot as plt\n",
    "from scipy import spatial\n",
    "import statsmodels.api as sm\n",
    "\n",
    "from IPython.display import HTML # This is just for me so I can embed videos\n",
    "from IPython.display import Image # This is just for me so I can embed images\n",
    "\n",
    "#Reading in the data as insurance dataframe\n",
    "insurance = pd.read_csv(\"https://raw.githubusercontent.com/shstreuber/Data-Mining/master/data/insurance_with_categories.csv\")\n",
    "\n",
    "#Verifying that we can see the data\n",
    "insurance.head()"
   ]
  },
  {
   "cell_type": "markdown",
   "metadata": {
    "id": "8WIw-g2X17xr"
   },
   "source": [
    "Now we are ready for our Exploratory Data Analysis (EDA)."
   ]
  },
  {
   "cell_type": "markdown",
   "metadata": {
    "id": "O_5mxtgN0z1V"
   },
   "source": [
    "#**1. Exploratory Data Analysis (EDA)**\n",
    "This is always the first step. Even though we already know this dataset, let's walk through the motions again. In the previous module, we used the Pandas profiling package to generate a beautiful HTML interface with tabs that showed us everything we needed to know and then some more--but it required installing a new package. You may not always have the user permissions to do this. So, below is the basic process of data investigation."
   ]
  },
  {
   "cell_type": "markdown",
   "metadata": {
    "id": "6biFr9F-3ElZ"
   },
   "source": [
    "##**1.1 Data Shape and Distribution**\n",
    "Run each code line below to see what it does."
   ]
  },
  {
   "cell_type": "code",
   "execution_count": 4,
   "metadata": {
    "id": "6Mhdmb_f3MEX"
   },
   "outputs": [
    {
     "name": "stdout",
     "output_type": "stream",
     "text": [
      "***DATA OVERVIEW***\n"
     ]
    },
    {
     "data": {
      "text/plain": [
       "(                age   sex          bmi     children smoker     region  \\\n",
       " count   1338.000000  1338  1338.000000  1338.000000   1338       1338   \n",
       " unique          NaN     2          NaN          NaN      2          4   \n",
       " top             NaN  male          NaN          NaN     no  southeast   \n",
       " freq            NaN   676          NaN          NaN   1064        364   \n",
       " mean      39.207025   NaN    30.663397     1.094918    NaN        NaN   \n",
       " std       14.049960   NaN     6.098187     1.205493    NaN        NaN   \n",
       " min       18.000000   NaN    15.960000     0.000000    NaN        NaN   \n",
       " 25%       27.000000   NaN    26.296250     0.000000    NaN        NaN   \n",
       " 50%       39.000000   NaN    30.400000     1.000000    NaN        NaN   \n",
       " 75%       51.000000   NaN    34.693750     2.000000    NaN        NaN   \n",
       " max       64.000000   NaN    53.130000     5.000000    NaN        NaN   \n",
       " \n",
       "              charges  \n",
       " count    1338.000000  \n",
       " unique           NaN  \n",
       " top              NaN  \n",
       " freq             NaN  \n",
       " mean    13270.422265  \n",
       " std     12110.011237  \n",
       " min      1121.873900  \n",
       " 25%      4740.287150  \n",
       " 50%      9382.033000  \n",
       " 75%     16639.912515  \n",
       " max     63770.428010  ,\n",
       " None)"
      ]
     },
     "execution_count": 4,
     "metadata": {},
     "output_type": "execute_result"
    }
   ],
   "source": [
    "insurance.describe(include = 'all'), print(\"***DATA OVERVIEW***\")"
   ]
  },
  {
   "cell_type": "code",
   "execution_count": 5,
   "metadata": {
    "id": "st5DIA7pAk5b",
    "scrolled": true
   },
   "outputs": [
    {
     "name": "stdout",
     "output_type": "stream",
     "text": [
      "***DATA CORRELATIONS\n"
     ]
    },
    {
     "data": {
      "text/plain": [
       "(               age       bmi  children   charges\n",
       " age       1.000000  0.109272  0.042469  0.299008\n",
       " bmi       0.109272  1.000000  0.012759  0.198341\n",
       " children  0.042469  0.012759  1.000000  0.067998\n",
       " charges   0.299008  0.198341  0.067998  1.000000,\n",
       " None)"
      ]
     },
     "execution_count": 5,
     "metadata": {},
     "output_type": "execute_result"
    }
   ],
   "source": [
    "insurance.corr(numeric_only = True), print(\"***DATA CORRELATIONS\")"
   ]
  },
  {
   "cell_type": "code",
   "execution_count": 16,
   "metadata": {},
   "outputs": [
    {
     "name": "stderr",
     "output_type": "stream",
     "text": [
      "C:\\Users\\User\\AppData\\Local\\Temp\\ipykernel_15408\\330660132.py:1: FutureWarning: The default value of numeric_only in DataFrame.corr is deprecated. In a future version, it will default to False. Select only valid columns or specify the value of numeric_only to silence this warning.\n",
      "  insurance.corr()\n"
     ]
    },
    {
     "data": {
      "text/html": [
       "<div>\n",
       "<style scoped>\n",
       "    .dataframe tbody tr th:only-of-type {\n",
       "        vertical-align: middle;\n",
       "    }\n",
       "\n",
       "    .dataframe tbody tr th {\n",
       "        vertical-align: top;\n",
       "    }\n",
       "\n",
       "    .dataframe thead th {\n",
       "        text-align: right;\n",
       "    }\n",
       "</style>\n",
       "<table border=\"1\" class=\"dataframe\">\n",
       "  <thead>\n",
       "    <tr style=\"text-align: right;\">\n",
       "      <th></th>\n",
       "      <th>age</th>\n",
       "      <th>bmi</th>\n",
       "      <th>children</th>\n",
       "      <th>charges</th>\n",
       "    </tr>\n",
       "  </thead>\n",
       "  <tbody>\n",
       "    <tr>\n",
       "      <th>age</th>\n",
       "      <td>1.000000</td>\n",
       "      <td>0.109272</td>\n",
       "      <td>0.042469</td>\n",
       "      <td>0.299008</td>\n",
       "    </tr>\n",
       "    <tr>\n",
       "      <th>bmi</th>\n",
       "      <td>0.109272</td>\n",
       "      <td>1.000000</td>\n",
       "      <td>0.012759</td>\n",
       "      <td>0.198341</td>\n",
       "    </tr>\n",
       "    <tr>\n",
       "      <th>children</th>\n",
       "      <td>0.042469</td>\n",
       "      <td>0.012759</td>\n",
       "      <td>1.000000</td>\n",
       "      <td>0.067998</td>\n",
       "    </tr>\n",
       "    <tr>\n",
       "      <th>charges</th>\n",
       "      <td>0.299008</td>\n",
       "      <td>0.198341</td>\n",
       "      <td>0.067998</td>\n",
       "      <td>1.000000</td>\n",
       "    </tr>\n",
       "  </tbody>\n",
       "</table>\n",
       "</div>"
      ],
      "text/plain": [
       "               age       bmi  children   charges\n",
       "age       1.000000  0.109272  0.042469  0.299008\n",
       "bmi       0.109272  1.000000  0.012759  0.198341\n",
       "children  0.042469  0.012759  1.000000  0.067998\n",
       "charges   0.299008  0.198341  0.067998  1.000000"
      ]
     },
     "execution_count": 16,
     "metadata": {},
     "output_type": "execute_result"
    }
   ],
   "source": [
    "insurance.corr()"
   ]
  },
  {
   "cell_type": "markdown",
   "metadata": {
    "id": "wpRT_lu-A7oO"
   },
   "source": [
    "What do these commands show you? Why is this important? Explain in the text field below:"
   ]
  },
  {
   "cell_type": "markdown",
   "metadata": {
    "id": "Ms5D7ikkCQdA"
   },
   "source": []
  },
  {
   "cell_type": "markdown",
   "metadata": {
    "id": "RzsJMd2c8VzN"
   },
   "source": [
    "##**1.2 Some Basic Visualiations**"
   ]
  },
  {
   "cell_type": "code",
   "execution_count": 6,
   "metadata": {
    "id": "Hc5RRKrV6XHH"
   },
   "outputs": [
    {
     "data": {
      "text/plain": [
       "<Axes: >"
      ]
     },
     "execution_count": 6,
     "metadata": {},
     "output_type": "execute_result"
    },
    {
     "data": {
      "image/png": "[encoded data removed]",
      "text/plain": [
       "<Figure size 640x480 with 4 Axes>"
      ]
     },
     "metadata": {},
     "output_type": "display_data"
    },
    {
     "data": {
      "image/png": "[encoded data removed]",
      "text/plain": [
       "<Figure size 640x480 with 1 Axes>"
      ]
     },
     "metadata": {},
     "output_type": "display_data"
    }
   ],
   "source": [
    "# Data Distribution (numeric data only)\n",
    "insurance.hist()\n",
    "insurance.plot()"
   ]
  },
  {
   "cell_type": "markdown",
   "metadata": {
    "id": "0cLAXDbdCy1h"
   },
   "source": [
    "I know ... I promised you a pie plot in Module 1, and that was too hard back then. Here are two ways to do this.\n",
    "\n",
    "**NOTE** that all plots require numeric information, so you have to first count the size of each level in a categorical attribute and then build the pie size based on that. You already know groupby, so all you need to do is get the size of each group with the size() command--or you can make an array from the attribute and count the values. Both ways are shown below.\n",
    "\n",
    "**Uncomment each of the code lines below separately to see how they work**:"
   ]
  },
  {
   "cell_type": "code",
   "execution_count": 7,
   "metadata": {
    "executionInfo": {
     "elapsed": 34,
     "status": "ok",
     "timestamp": 1696132189796,
     "user": {
      "displayName": "Sonja Streuber",
      "userId": "03872648719424952237"
     },
     "user_tz": 240
    },
    "id": "Oxif4cJsGwrw"
   },
   "outputs": [
    {
     "data": {
      "text/plain": [
       "<Axes: ylabel='sex'>"
      ]
     },
     "execution_count": 7,
     "metadata": {},
     "output_type": "execute_result"
    },
    {
     "data": {
      "image/png": "[encoded data removed]",
      "text/plain": [
       "<Figure size 640x480 with 1 Axes>"
      ]
     },
     "metadata": {},
     "output_type": "display_data"
    }
   ],
   "source": [
    "# You can also use the groupby command we have learned earlier in this course.\n",
    "insurance.groupby('sex').size().plot(kind='pie', autopct='%.2f')\n",
    "insurance['sex'].value_counts().plot(kind='pie', autopct='%.2f')"
   ]
  },
  {
   "cell_type": "markdown",
   "metadata": {
    "id": "YiO1ZGogF-qz"
   },
   "source": [
    "##Your Turn\n",
    "Now analyze the second code line above and then display just the counts for the levels in the 'region' attribute:"
   ]
  },
  {
   "cell_type": "code",
   "execution_count": 7,
   "metadata": {
    "executionInfo": {
     "elapsed": 32,
     "status": "ok",
     "timestamp": 1696132189797,
     "user": {
      "displayName": "Sonja Streuber",
      "userId": "03872648719424952237"
     },
     "user_tz": 240
    },
    "id": "BQrh01KwGLPy"
   },
   "outputs": [],
   "source": []
  },
  {
   "cell_type": "markdown",
   "metadata": {
    "id": "CFDdFQr400ml"
   },
   "source": [
    "#**2. Preprocessing: Building the Dataframe for Analysis**\n",
    "We will, as before, use the \"region\" attribute as the class attribute and the numeric attributes (age, bmi, children, charges) in the insurance dataframe as the predictors. Since we already know that no data is missing, all we have to do is assemble the insurance2 dataframe we are going to use.\n",
    "\n",
    "In the code row below, **build the insurance2 dataframe we need** (if you don't remember how to do this, review last week's module in which we built this dataframe already):"
   ]
  },
  {
   "cell_type": "code",
   "execution_count": 7,
   "metadata": {
    "executionInfo": {
     "elapsed": 30,
     "status": "ok",
     "timestamp": 1696132189797,
     "user": {
      "displayName": "Sonja Streuber",
      "userId": "03872648719424952237"
     },
     "user_tz": 240
    },
    "id": "Co5zZ6tv1TEs"
   },
   "outputs": [],
   "source": []
  },
  {
   "cell_type": "markdown",
   "metadata": {
    "id": "GdBOZ8EFL31k"
   },
   "source": [
    "#**3. Setting up the Training and the Test Sets**\n",
    "Just like before, we need to build the training set and the test set again. We want a **80% training/ 20% test split**. Finish the code below to build this (if you can't remember how to do this, use the code from any of the two previous workbooks):"
   ]
  },
  {
   "cell_type": "code",
   "execution_count": 8,
   "metadata": {
    "id": "fqnZw_LrL2eZ"
   },
   "outputs": [
    {
     "ename": "SyntaxError",
     "evalue": "invalid syntax (610469917.py, line 4)",
     "output_type": "error",
     "traceback": [
      "\u001b[1;36m  Cell \u001b[1;32mIn[8], line 4\u001b[1;36m\u001b[0m\n\u001b[1;33m    X_train, X_test, y_train, y_test =                              # COMPLETE THIS LINE!\u001b[0m\n\u001b[1;37m                                                                    ^\u001b[0m\n\u001b[1;31mSyntaxError\u001b[0m\u001b[1;31m:\u001b[0m invalid syntax\n"
     ]
    }
   ],
   "source": [
    "from sklearn.model_selection import train_test_split\n",
    "x=insurance2.iloc[:,:4] # all parameters\n",
    "y=insurance2['region'] # class labels 'southwest', 'southeast', 'northwest', 'northeast'\n",
    "X_train, X_test, y_train, y_test =                              # COMPLETE THIS LINE!\n",
    "print(\"X_train shape: {}\".format(X_train.shape))\n",
    "print(\"X_test shape: {}\".format(X_test.shape))"
   ]
  },
  {
   "cell_type": "markdown",
   "metadata": {
    "id": "LPq3h9nMZeWj"
   },
   "source": [
    "#**4. Build and Train the Tree classifier**\n",
    "We are building a classifier with the [DecisionTreeClassifier](https://scikit-learn.org/stable/modules/generated/sklearn.tree.DecisionTreeClassifier.html) function from scikit learn.\n",
    "\n",
    "##**4.1 Building the Classifier**\n",
    "Some of the more interesting parameters are:\n",
    "* criterion{“gini”, “entropy”}, default=”gini”\n",
    "The function to measure the quality of a split. Supported criteria are “gini” for the Gini impurity and “entropy” for the information gain. Need more information? Click [here](https://towardsdatascience.com/gini-index-vs-information-entropy-7a7e4fed3fcb).\n",
    "\n",
    "* splitter{“best”, “random”}, default=”best”\n",
    "The strategy used to choose the split at each node. Supported strategies are “best” to choose the best split and “random” to choose the best random split.\n",
    "\n",
    "* max_depthint, default=None\n",
    "The maximum depth of the tree. If None, then nodes are expanded until all leaves are pure or until all leaves contain less than min_samples_split samples. This may easily cause overfitting."
   ]
  },
  {
   "cell_type": "code",
   "execution_count": 23,
   "metadata": {
    "executionInfo": {
     "elapsed": 26,
     "status": "aborted",
     "timestamp": 1696132189799,
     "user": {
      "displayName": "Sonja Streuber",
      "userId": "03872648719424952237"
     },
     "user_tz": 240
    },
    "id": "mf_3YnrvabQ6"
   },
   "outputs": [],
   "source": [
    "# Importing the tree library.\n",
    "# We are setting the quality of the split measurement to entropy, so that the tree will work with Information Gain, and calling our classifier \"clf\".\n",
    "\n",
    "from sklearn import tree\n",
    "clf = tree.DecisionTreeClassifier(criterion='entropy')"
   ]
  },
  {
   "cell_type": "markdown",
   "metadata": {
    "id": "a9Bz5lp9bkUm"
   },
   "source": [
    "##**4.2 Training the Classifier**\n",
    "clf is our decision tree classifier. As before, we use .fit to train the classifier on the dataset.\n",
    "X_train[['age', 'bmi', 'children', 'charges']] are all the feature columns of the training set, and y_train is 'region'. Based on these we want to make a prediction."
   ]
  },
  {
   "cell_type": "code",
   "execution_count": 24,
   "metadata": {
    "executionInfo": {
     "elapsed": 21,
     "status": "aborted",
     "timestamp": 1696132189799,
     "user": {
      "displayName": "Sonja Streuber",
      "userId": "03872648719424952237"
     },
     "user_tz": 240
    },
    "id": "FbCEF6dBbpTI"
   },
   "outputs": [
    {
     "data": {
      "text/html": [
       "<style>#sk-container-id-1 {color: black;background-color: white;}#sk-container-id-1 pre{padding: 0;}#sk-container-id-1 div.sk-toggleable {background-color: white;}#sk-container-id-1 label.sk-toggleable__label {cursor: pointer;display: block;width: 100%;margin-bottom: 0;padding: 0.3em;box-sizing: border-box;text-align: center;}#sk-container-id-1 label.sk-toggleable__label-arrow:before {content: \"▸\";float: left;margin-right: 0.25em;color: #696969;}#sk-container-id-1 label.sk-toggleable__label-arrow:hover:before {color: black;}#sk-container-id-1 div.sk-estimator:hover label.sk-toggleable__label-arrow:before {color: black;}#sk-container-id-1 div.sk-toggleable__content {max-height: 0;max-width: 0;overflow: hidden;text-align: left;background-color: #f0f8ff;}#sk-container-id-1 div.sk-toggleable__content pre {margin: 0.2em;color: black;border-radius: 0.25em;background-color: #f0f8ff;}#sk-container-id-1 input.sk-toggleable__control:checked~div.sk-toggleable__content {max-height: 200px;max-width: 100%;overflow: auto;}#sk-container-id-1 input.sk-toggleable__control:checked~label.sk-toggleable__label-arrow:before {content: \"▾\";}#sk-container-id-1 div.sk-estimator input.sk-toggleable__control:checked~label.sk-toggleable__label {background-color: #d4ebff;}#sk-container-id-1 div.sk-label input.sk-toggleable__control:checked~label.sk-toggleable__label {background-color: #d4ebff;}#sk-container-id-1 input.sk-hidden--visually {border: 0;clip: rect(1px 1px 1px 1px);clip: rect(1px, 1px, 1px, 1px);height: 1px;margin: -1px;overflow: hidden;padding: 0;position: absolute;width: 1px;}#sk-container-id-1 div.sk-estimator {font-family: monospace;background-color: #f0f8ff;border: 1px dotted black;border-radius: 0.25em;box-sizing: border-box;margin-bottom: 0.5em;}#sk-container-id-1 div.sk-estimator:hover {background-color: #d4ebff;}#sk-container-id-1 div.sk-parallel-item::after {content: \"\";width: 100%;border-bottom: 1px solid gray;flex-grow: 1;}#sk-container-id-1 div.sk-label:hover label.sk-toggleable__label {background-color: #d4ebff;}#sk-container-id-1 div.sk-serial::before {content: \"\";position: absolute;border-left: 1px solid gray;box-sizing: border-box;top: 0;bottom: 0;left: 50%;z-index: 0;}#sk-container-id-1 div.sk-serial {display: flex;flex-direction: column;align-items: center;background-color: white;padding-right: 0.2em;padding-left: 0.2em;position: relative;}#sk-container-id-1 div.sk-item {position: relative;z-index: 1;}#sk-container-id-1 div.sk-parallel {display: flex;align-items: stretch;justify-content: center;background-color: white;position: relative;}#sk-container-id-1 div.sk-item::before, #sk-container-id-1 div.sk-parallel-item::before {content: \"\";position: absolute;border-left: 1px solid gray;box-sizing: border-box;top: 0;bottom: 0;left: 50%;z-index: -1;}#sk-container-id-1 div.sk-parallel-item {display: flex;flex-direction: column;z-index: 1;position: relative;background-color: white;}#sk-container-id-1 div.sk-parallel-item:first-child::after {align-self: flex-end;width: 50%;}#sk-container-id-1 div.sk-parallel-item:last-child::after {align-self: flex-start;width: 50%;}#sk-container-id-1 div.sk-parallel-item:only-child::after {width: 0;}#sk-container-id-1 div.sk-dashed-wrapped {border: 1px dashed gray;margin: 0 0.4em 0.5em 0.4em;box-sizing: border-box;padding-bottom: 0.4em;background-color: white;}#sk-container-id-1 div.sk-label label {font-family: monospace;font-weight: bold;display: inline-block;line-height: 1.2em;}#sk-container-id-1 div.sk-label-container {text-align: center;}#sk-container-id-1 div.sk-container {/* jupyter's `normalize.less` sets `[hidden] { display: none; }` but bootstrap.min.css set `[hidden] { display: none !important; }` so we also need the `!important` here to be able to override the default hidden behavior on the sphinx rendered scikit-learn.org. See: https://github.com/scikit-learn/scikit-learn/issues/21755 */display: inline-block !important;position: relative;}#sk-container-id-1 div.sk-text-repr-fallback {display: none;}</style><div id=\"sk-container-id-1\" class=\"sk-top-container\"><div class=\"sk-text-repr-fallback\"><pre>DecisionTreeClassifier(criterion=&#x27;entropy&#x27;)</pre><b>In a Jupyter environment, please rerun this cell to show the HTML representation or trust the notebook. <br />On GitHub, the HTML representation is unable to render, please try loading this page with nbviewer.org.</b></div><div class=\"sk-container\" hidden><div class=\"sk-item\"><div class=\"sk-estimator sk-toggleable\"><input class=\"sk-toggleable__control sk-hidden--visually\" id=\"sk-estimator-id-1\" type=\"checkbox\" checked><label for=\"sk-estimator-id-1\" class=\"sk-toggleable__label sk-toggleable__label-arrow\">DecisionTreeClassifier</label><div class=\"sk-toggleable__content\"><pre>DecisionTreeClassifier(criterion=&#x27;entropy&#x27;)</pre></div></div></div></div></div>"
      ],
      "text/plain": [
       "DecisionTreeClassifier(criterion='entropy')"
      ]
     },
     "execution_count": 24,
     "metadata": {},
     "output_type": "execute_result"
    }
   ],
   "source": [
    "clf.fit(X_train, y_train)"
   ]
  },
  {
   "cell_type": "markdown",
   "metadata": {
    "id": "P10slgA6gAtJ"
   },
   "source": [
    "Check out the configuration of this classifier! We could already set a max_depth, so that the tree won't overfit. We call that \"pruning.\" Here, pruning means to limit how many branches and leaves a tree can develop:\n",
    "\n",
    "<center>\n",
    "<img src = \"https://miro.medium.com/v2/resize:fit:1400/1*ElW-ERvIfiV6RSbs74RO_A.png\" width = 600>\n",
    "</center>\n",
    "\n",
    "And here is an example:\n",
    "<center>\n",
    "<img src = \"https://miro.medium.com/v2/resize:fit:1086/0*Yy738UDqVRlsRwxJ\" width = 600>\n",
    "</center>\n",
    "\n",
    "In this example, the right side of the tree shows that more nodes lead to \"No Loan\" than \"Loan\"--but we're not really interested in whether or not the loan applicant has a criminal record in the first place; our focus is on whether the loan applicant has another loan from the same bank. So, we simplify the tree on the left by not even considering the Criminal Record? branch; instead, we decide that anyone with an income < 30K is not eligible for a loan at all (confirmed by the 2 green leaves vs the single blue leaf on the Criminal Record? branch).\n",
    "\n",
    "You can also see that, **in our insurance classification tree above**, the min_samples_split is set to 2 (default), which shows you that the basic assumption is a binary split, just like in the loan example. Of course, 2 samples is also really small ..."
   ]
  },
  {
   "cell_type": "markdown",
   "metadata": {
    "id": "On1vma21c6lI"
   },
   "source": [
    "##**4.3 Visualizing the tree**\n",
    "\n",
    "We are going to use [pydotplus](https://pydotplus.readthedocs.io/) for this purpose. This will create a neat tree as a graphic that we can export and embed in another document, even. Run the code below. **NOTE**: This may take a while to execute!"
   ]
  },
  {
   "cell_type": "code",
   "execution_count": null,
   "metadata": {
    "executionInfo": {
     "elapsed": 22,
     "status": "aborted",
     "timestamp": 1696132189800,
     "user": {
      "displayName": "Sonja Streuber",
      "userId": "03872648719424952237"
     },
     "user_tz": 240
    },
    "id": "1IAHWgZmdHRW"
   },
   "outputs": [],
   "source": [
    "from IPython.display import Image\n",
    "import pydotplus\n",
    "dot_data = tree.export_graphviz(clf, out_file=\"insurance.dot\",\n",
    "                         feature_names=['age', 'bmi', 'children', 'charges'],\n",
    "                         class_names=['southwest', 'southeast', 'northwest','northeast'],\n",
    "                         filled=True, rounded=True,\n",
    "                         special_characters=True)\n",
    "graph = pydotplus.graphviz.graph_from_dot_file(\"insurance.dot\")\n",
    "#graph = pydotplus.graph_from_dot_data(dot_data)\n",
    "Image(graph.create_png())"
   ]
  },
  {
   "cell_type": "markdown",
   "metadata": {
    "id": "oDbf18YjeKbG"
   },
   "source": [
    "WOW! That is a big tree (but then, this isn't the [tiny iris dataset](https://towardsdatascience.com/https-medium-com-lorrli-classification-and-regression-analysis-with-decision-trees-c43cdbc58054), either!). Click on the image to see more detail.\n",
    "\n",
    "In the shapes above, we are seeing something like this:\n",
    "<center>\n",
    "<img src=\"https://raw.githubusercontent.com/shstreuber/Data-Mining/master/images/ctree_insurance_node.JPG\" width=\"300\" align=center>\n",
    "</center>\n",
    "\n",
    "So the number of samples is 1,070. 261 are southwest, 256 are southeast, 295 are northwest, and 258 northeast. Hence, class = northwest (because it has the highest count with 295).\n",
    "\n",
    "From the samples and values lines we can calculate entropy, or [information gain](https://victorzhou.com/blog/information-gain):\n",
    "\n",
    "$$\n",
    "info([261, 256, 295,258])=-\\sum{261\\over1070}log_2{({261\\over1070})}+{256\\over1070}log_2{({256\\over1070})}+{295\\over1070}log_2{({295\\over1070})}+{258\\over1070}log_2{({258\\over1070})} = 1.997\n",
    "$$\n",
    "So the entropy of the node is 1.997.\n",
    "\n",
    "Lastly, the first line of the node graphic contains the first split criterion:  The bmi must be smaller or equal to 32.983 to get to the next node in the hierarchy."
   ]
  },
  {
   "cell_type": "markdown",
   "metadata": {
    "id": "gy2eEMq3gHGC"
   },
   "source": [
    "##**5. Apply the model to the Test Set**\n",
    "Once we fit our classifier to the data (i.e. we trained it) we can use the classifier to classify samples."
   ]
  },
  {
   "cell_type": "code",
   "execution_count": 25,
   "metadata": {
    "executionInfo": {
     "elapsed": 21,
     "status": "aborted",
     "timestamp": 1696132189800,
     "user": {
      "displayName": "Sonja Streuber",
      "userId": "03872648719424952237"
     },
     "user_tz": 240
    },
    "id": "etLxnittWVnw"
   },
   "outputs": [],
   "source": [
    "insurance_predictions = clf.predict(X_test)"
   ]
  },
  {
   "cell_type": "markdown",
   "metadata": {
    "id": "MiN9SqhmvqqZ"
   },
   "source": [
    "#**6. Evaluate the Quality of the Model**\n",
    "OK, now we can calculate the accuracy score and then look at the Confusion Matrix. We did the same thing in the previous module, so what follows should look familiar to you."
   ]
  },
  {
   "cell_type": "markdown",
   "metadata": {
    "id": "mp9p8I9Mw5Xj"
   },
   "source": [
    "##**6.1 Accuracy Score**\n",
    "\n",
    "First, the accuracy score:"
   ]
  },
  {
   "cell_type": "code",
   "execution_count": 26,
   "metadata": {
    "executionInfo": {
     "elapsed": 20,
     "status": "aborted",
     "timestamp": 1696132189800,
     "user": {
      "displayName": "Sonja Streuber",
      "userId": "03872648719424952237"
     },
     "user_tz": 240
    },
    "id": "wJfmd6xhwE_k"
   },
   "outputs": [
    {
     "data": {
      "text/plain": [
       "0.3333333333333333"
      ]
     },
     "execution_count": 26,
     "metadata": {},
     "output_type": "execute_result"
    }
   ],
   "source": [
    "from sklearn.metrics import accuracy_score\n",
    "accuracy_score(y_test, insurance_predictions)"
   ]
  },
  {
   "cell_type": "markdown",
   "metadata": {
    "id": "gu6Xr18NyOMo"
   },
   "source": [
    "Would you accept a result of 34% on an exam? (Take a look at the grading scale for this course to see where that would land you). Let's see what the Confusion Matrix tells us about this lousy score."
   ]
  },
  {
   "cell_type": "markdown",
   "metadata": {
    "id": "PP2tHRaOiKdO"
   },
   "source": [
    "##**6.2 Confusion Matrix**\n",
    "And now the Confusion Matrix:"
   ]
  },
  {
   "cell_type": "code",
   "execution_count": 27,
   "metadata": {
    "executionInfo": {
     "elapsed": 20,
     "status": "aborted",
     "timestamp": 1696132189801,
     "user": {
      "displayName": "Sonja Streuber",
      "userId": "03872648719424952237"
     },
     "user_tz": 240
    },
    "id": "vkFxx6fzhoki"
   },
   "outputs": [
    {
     "data": {
      "image/png": "[encoded data removed]",
      "text/plain": [
       "<Figure size 640x480 with 2 Axes>"
      ]
     },
     "metadata": {},
     "output_type": "display_data"
    }
   ],
   "source": [
    "from sklearn.metrics import confusion_matrix\n",
    "from sklearn.metrics import ConfusionMatrixDisplay\n",
    "\n",
    "cm = confusion_matrix(y_test, insurance_predictions, labels=clf.classes_)\n",
    "cm_display = ConfusionMatrixDisplay(cm, display_labels=clf.classes_).plot()"
   ]
  },
  {
   "cell_type": "markdown",
   "metadata": {
    "id": "2xCQYkOTyoQT"
   },
   "source": [
    "Let's look at the \"northwest\" row: Out of 16+20+20+16 = 72 true northwest values, only 20 were predicted correctly. 16 were predicted as northeast, 20 as southeast, and 16 as southwest.\n",
    "What about the \"southwest\" row? Are the results better or worse? Write your explanation into the text field below:"
   ]
  },
  {
   "cell_type": "markdown",
   "metadata": {
    "id": "VimEARFQznBx"
   },
   "source": []
  },
  {
   "cell_type": "markdown",
   "metadata": {
    "id": "jCwtXVeikzSe"
   },
   "source": [
    "##**6.3 Classification Report**\n",
    "Let's predict our y values so that we can build our classification report:"
   ]
  },
  {
   "cell_type": "markdown",
   "metadata": {
    "id": "Hvz4DcRRiYsl"
   },
   "source": [
    "And here is the classification report:"
   ]
  },
  {
   "cell_type": "code",
   "execution_count": null,
   "metadata": {
    "id": "7WtL372SimXm"
   },
   "outputs": [],
   "source": [
    "import sklearn.metrics as metrics\n",
    "from sklearn.metrics import classification_report\n",
    "\n",
    "print(metrics.classification_report(y_test, insurance_predictions, labels=['southwest', 'southeast', 'northwest','northeast']))"
   ]
  },
  {
   "cell_type": "markdown",
   "metadata": {
    "id": "v0jsX4ft0GtM"
   },
   "source": [
    "Can you explain what these numbers mean for the insurance2 dataset? If you're not sure, take a look at the previous workbook, in which they are all explained."
   ]
  },
  {
   "cell_type": "markdown",
   "metadata": {
    "id": "UIPD_vWAX6Is"
   },
   "source": [
    "#**Your Turn**\n",
    "Here is the buys_computer dataset from the instructor video. See if you can build and analyze a tree yourself!"
   ]
  },
  {
   "cell_type": "code",
   "execution_count": 9,
   "metadata": {
    "id": "ay-MUbt0V5ZZ",
    "scrolled": true
   },
   "outputs": [
    {
     "data": {
      "text/html": [
       "<div>\n",
       "<style scoped>\n",
       "    .dataframe tbody tr th:only-of-type {\n",
       "        vertical-align: middle;\n",
       "    }\n",
       "\n",
       "    .dataframe tbody tr th {\n",
       "        vertical-align: top;\n",
       "    }\n",
       "\n",
       "    .dataframe thead th {\n",
       "        text-align: right;\n",
       "    }\n",
       "</style>\n",
       "<table border=\"1\" class=\"dataframe\">\n",
       "  <thead>\n",
       "    <tr style=\"text-align: right;\">\n",
       "      <th></th>\n",
       "      <th>age</th>\n",
       "      <th>income</th>\n",
       "      <th>student</th>\n",
       "      <th>credit_rating</th>\n",
       "      <th>buys_computer</th>\n",
       "    </tr>\n",
       "  </thead>\n",
       "  <tbody>\n",
       "    <tr>\n",
       "      <th>0</th>\n",
       "      <td>&lt;=30</td>\n",
       "      <td>high</td>\n",
       "      <td>no</td>\n",
       "      <td>fair</td>\n",
       "      <td>no</td>\n",
       "    </tr>\n",
       "    <tr>\n",
       "      <th>1</th>\n",
       "      <td>&lt;=30</td>\n",
       "      <td>high</td>\n",
       "      <td>no</td>\n",
       "      <td>excellent</td>\n",
       "      <td>no</td>\n",
       "    </tr>\n",
       "    <tr>\n",
       "      <th>2</th>\n",
       "      <td>31…40</td>\n",
       "      <td>high</td>\n",
       "      <td>no</td>\n",
       "      <td>fair</td>\n",
       "      <td>yes</td>\n",
       "    </tr>\n",
       "    <tr>\n",
       "      <th>3</th>\n",
       "      <td>&gt;40</td>\n",
       "      <td>medium</td>\n",
       "      <td>no</td>\n",
       "      <td>fair</td>\n",
       "      <td>yes</td>\n",
       "    </tr>\n",
       "    <tr>\n",
       "      <th>4</th>\n",
       "      <td>&gt;40</td>\n",
       "      <td>low</td>\n",
       "      <td>yes</td>\n",
       "      <td>fair</td>\n",
       "      <td>yes</td>\n",
       "    </tr>\n",
       "  </tbody>\n",
       "</table>\n",
       "</div>"
      ],
      "text/plain": [
       "     age  income student credit_rating buys_computer\n",
       "0   <=30    high      no          fair            no\n",
       "1   <=30    high      no     excellent            no\n",
       "2  31…40    high      no          fair           yes\n",
       "3    >40  medium      no          fair           yes\n",
       "4    >40     low     yes          fair           yes"
      ]
     },
     "execution_count": 9,
     "metadata": {},
     "output_type": "execute_result"
    }
   ],
   "source": [
    "# Importing the buys_computer dataset\n",
    "\n",
    "buys_computer = pd.read_csv('https://raw.githubusercontent.com/shstreuber/Data-Mining/master/data/buys_computer.csv')\n",
    "buys_computer.head()"
   ]
  },
  {
   "cell_type": "code",
   "execution_count": 15,
   "metadata": {},
   "outputs": [
    {
     "data": {
      "text/plain": [
       "array(['<=30', '31…40', '>40'], dtype=object)"
      ]
     },
     "execution_count": 15,
     "metadata": {},
     "output_type": "execute_result"
    }
   ],
   "source": [
    "buys_computer.age.unique()"
   ]
  },
  {
   "cell_type": "code",
   "execution_count": 17,
   "metadata": {},
   "outputs": [
    {
     "data": {
      "text/plain": [
       "Index(['age', 'income', 'student', 'credit_rating', 'buys_computer'], dtype='object')"
      ]
     },
     "execution_count": 17,
     "metadata": {},
     "output_type": "execute_result"
    }
   ],
   "source": [
    "buys_computer.columns"
   ]
  },
  {
   "cell_type": "code",
   "execution_count": 18,
   "metadata": {},
   "outputs": [
    {
     "data": {
      "text/html": [
       "<div>\n",
       "<style scoped>\n",
       "    .dataframe tbody tr th:only-of-type {\n",
       "        vertical-align: middle;\n",
       "    }\n",
       "\n",
       "    .dataframe tbody tr th {\n",
       "        vertical-align: top;\n",
       "    }\n",
       "\n",
       "    .dataframe thead th {\n",
       "        text-align: right;\n",
       "    }\n",
       "</style>\n",
       "<table border=\"1\" class=\"dataframe\">\n",
       "  <thead>\n",
       "    <tr style=\"text-align: right;\">\n",
       "      <th></th>\n",
       "      <th>age</th>\n",
       "      <th>income</th>\n",
       "      <th>student</th>\n",
       "      <th>credit_rating</th>\n",
       "      <th>buys_computer</th>\n",
       "    </tr>\n",
       "  </thead>\n",
       "  <tbody>\n",
       "    <tr>\n",
       "      <th>0</th>\n",
       "      <td>1</td>\n",
       "      <td>0</td>\n",
       "      <td>0</td>\n",
       "      <td>1</td>\n",
       "      <td>no</td>\n",
       "    </tr>\n",
       "    <tr>\n",
       "      <th>1</th>\n",
       "      <td>1</td>\n",
       "      <td>0</td>\n",
       "      <td>0</td>\n",
       "      <td>0</td>\n",
       "      <td>no</td>\n",
       "    </tr>\n",
       "    <tr>\n",
       "      <th>2</th>\n",
       "      <td>0</td>\n",
       "      <td>0</td>\n",
       "      <td>0</td>\n",
       "      <td>1</td>\n",
       "      <td>yes</td>\n",
       "    </tr>\n",
       "    <tr>\n",
       "      <th>3</th>\n",
       "      <td>2</td>\n",
       "      <td>2</td>\n",
       "      <td>0</td>\n",
       "      <td>1</td>\n",
       "      <td>yes</td>\n",
       "    </tr>\n",
       "    <tr>\n",
       "      <th>4</th>\n",
       "      <td>2</td>\n",
       "      <td>1</td>\n",
       "      <td>1</td>\n",
       "      <td>1</td>\n",
       "      <td>yes</td>\n",
       "    </tr>\n",
       "  </tbody>\n",
       "</table>\n",
       "</div>"
      ],
      "text/plain": [
       "   age  income  student  credit_rating buys_computer\n",
       "0    1       0        0              1            no\n",
       "1    1       0        0              0            no\n",
       "2    0       0        0              1           yes\n",
       "3    2       2        0              1           yes\n",
       "4    2       1        1              1           yes"
      ]
     },
     "execution_count": 18,
     "metadata": {},
     "output_type": "execute_result"
    }
   ],
   "source": [
    "for i in ['age', 'income', 'student', 'credit_rating']:\n",
    "    buys_computer[i]= buys_computer[i].astype('category')\n",
    "    buys_computer[i]= buys_computer[i].cat.codes\n",
    "    \n",
    "buys_computer.head()"
   ]
  },
  {
   "cell_type": "code",
   "execution_count": 19,
   "metadata": {},
   "outputs": [
    {
     "data": {
      "text/html": [
       "<div>\n",
       "<style scoped>\n",
       "    .dataframe tbody tr th:only-of-type {\n",
       "        vertical-align: middle;\n",
       "    }\n",
       "\n",
       "    .dataframe tbody tr th {\n",
       "        vertical-align: top;\n",
       "    }\n",
       "\n",
       "    .dataframe thead th {\n",
       "        text-align: right;\n",
       "    }\n",
       "</style>\n",
       "<table border=\"1\" class=\"dataframe\">\n",
       "  <thead>\n",
       "    <tr style=\"text-align: right;\">\n",
       "      <th></th>\n",
       "      <th>age</th>\n",
       "      <th>income</th>\n",
       "      <th>student</th>\n",
       "      <th>credit_rating</th>\n",
       "    </tr>\n",
       "  </thead>\n",
       "  <tbody>\n",
       "    <tr>\n",
       "      <th>count</th>\n",
       "      <td>14.000000</td>\n",
       "      <td>14.000000</td>\n",
       "      <td>14.000000</td>\n",
       "      <td>14.000000</td>\n",
       "    </tr>\n",
       "    <tr>\n",
       "      <th>mean</th>\n",
       "      <td>1.071429</td>\n",
       "      <td>1.142857</td>\n",
       "      <td>0.500000</td>\n",
       "      <td>0.571429</td>\n",
       "    </tr>\n",
       "    <tr>\n",
       "      <th>std</th>\n",
       "      <td>0.828742</td>\n",
       "      <td>0.864438</td>\n",
       "      <td>0.518875</td>\n",
       "      <td>0.513553</td>\n",
       "    </tr>\n",
       "    <tr>\n",
       "      <th>min</th>\n",
       "      <td>0.000000</td>\n",
       "      <td>0.000000</td>\n",
       "      <td>0.000000</td>\n",
       "      <td>0.000000</td>\n",
       "    </tr>\n",
       "    <tr>\n",
       "      <th>25%</th>\n",
       "      <td>0.250000</td>\n",
       "      <td>0.250000</td>\n",
       "      <td>0.000000</td>\n",
       "      <td>0.000000</td>\n",
       "    </tr>\n",
       "    <tr>\n",
       "      <th>50%</th>\n",
       "      <td>1.000000</td>\n",
       "      <td>1.000000</td>\n",
       "      <td>0.500000</td>\n",
       "      <td>1.000000</td>\n",
       "    </tr>\n",
       "    <tr>\n",
       "      <th>75%</th>\n",
       "      <td>2.000000</td>\n",
       "      <td>2.000000</td>\n",
       "      <td>1.000000</td>\n",
       "      <td>1.000000</td>\n",
       "    </tr>\n",
       "    <tr>\n",
       "      <th>max</th>\n",
       "      <td>2.000000</td>\n",
       "      <td>2.000000</td>\n",
       "      <td>1.000000</td>\n",
       "      <td>1.000000</td>\n",
       "    </tr>\n",
       "  </tbody>\n",
       "</table>\n",
       "</div>"
      ],
      "text/plain": [
       "             age     income    student  credit_rating\n",
       "count  14.000000  14.000000  14.000000      14.000000\n",
       "mean    1.071429   1.142857   0.500000       0.571429\n",
       "std     0.828742   0.864438   0.518875       0.513553\n",
       "min     0.000000   0.000000   0.000000       0.000000\n",
       "25%     0.250000   0.250000   0.000000       0.000000\n",
       "50%     1.000000   1.000000   0.500000       1.000000\n",
       "75%     2.000000   2.000000   1.000000       1.000000\n",
       "max     2.000000   2.000000   1.000000       1.000000"
      ]
     },
     "execution_count": 19,
     "metadata": {},
     "output_type": "execute_result"
    }
   ],
   "source": [
    "buys_computer.describe()"
   ]
  },
  {
   "cell_type": "code",
   "execution_count": 20,
   "metadata": {},
   "outputs": [
    {
     "name": "stderr",
     "output_type": "stream",
     "text": [
      "C:\\Users\\User\\AppData\\Local\\Temp\\ipykernel_15408\\339366492.py:1: FutureWarning: The default value of numeric_only in DataFrame.corr is deprecated. In a future version, it will default to False. Select only valid columns or specify the value of numeric_only to silence this warning.\n",
      "  buys_computer.corr()\n"
     ]
    },
    {
     "data": {
      "text/html": [
       "<div>\n",
       "<style scoped>\n",
       "    .dataframe tbody tr th:only-of-type {\n",
       "        vertical-align: middle;\n",
       "    }\n",
       "\n",
       "    .dataframe tbody tr th {\n",
       "        vertical-align: top;\n",
       "    }\n",
       "\n",
       "    .dataframe thead th {\n",
       "        text-align: right;\n",
       "    }\n",
       "</style>\n",
       "<table border=\"1\" class=\"dataframe\">\n",
       "  <thead>\n",
       "    <tr style=\"text-align: right;\">\n",
       "      <th></th>\n",
       "      <th>age</th>\n",
       "      <th>income</th>\n",
       "      <th>student</th>\n",
       "      <th>credit_rating</th>\n",
       "    </tr>\n",
       "  </thead>\n",
       "  <tbody>\n",
       "    <tr>\n",
       "      <th>age</th>\n",
       "      <td>1.000000</td>\n",
       "      <td>0.414161</td>\n",
       "      <td>8.944272e-02</td>\n",
       "      <td>7.745967e-02</td>\n",
       "    </tr>\n",
       "    <tr>\n",
       "      <th>income</th>\n",
       "      <td>0.414161</td>\n",
       "      <td>1.000000</td>\n",
       "      <td>0.000000e+00</td>\n",
       "      <td>-1.980295e-01</td>\n",
       "    </tr>\n",
       "    <tr>\n",
       "      <th>student</th>\n",
       "      <td>0.089443</td>\n",
       "      <td>0.000000</td>\n",
       "      <td>1.000000e+00</td>\n",
       "      <td>-6.409876e-17</td>\n",
       "    </tr>\n",
       "    <tr>\n",
       "      <th>credit_rating</th>\n",
       "      <td>0.077460</td>\n",
       "      <td>-0.198030</td>\n",
       "      <td>-6.409876e-17</td>\n",
       "      <td>1.000000e+00</td>\n",
       "    </tr>\n",
       "  </tbody>\n",
       "</table>\n",
       "</div>"
      ],
      "text/plain": [
       "                    age    income       student  credit_rating\n",
       "age            1.000000  0.414161  8.944272e-02   7.745967e-02\n",
       "income         0.414161  1.000000  0.000000e+00  -1.980295e-01\n",
       "student        0.089443  0.000000  1.000000e+00  -6.409876e-17\n",
       "credit_rating  0.077460 -0.198030 -6.409876e-17   1.000000e+00"
      ]
     },
     "execution_count": 20,
     "metadata": {},
     "output_type": "execute_result"
    }
   ],
   "source": [
    "buys_computer.corr()"
   ]
  },
  {
   "cell_type": "code",
   "execution_count": 22,
   "metadata": {},
   "outputs": [
    {
     "name": "stdout",
     "output_type": "stream",
     "text": [
      "X_train shape: (11, 3)\n",
      "X_test shape: (3, 3)\n"
     ]
    }
   ],
   "source": [
    "from sklearn.model_selection import train_test_split\n",
    "\n",
    "x=buys_computer.iloc[:,:3] # all parameters\n",
    "y=buys_computer['buys_computer']\n",
    "X_train, X_test, y_train, y_test = train_test_split(x, y, test_size = 0.2)\n",
    "print(\"X_train shape: {}\".format(X_train.shape))\n",
    "print(\"X_test shape: {}\".format(X_test.shape))"
   ]
  },
  {
   "cell_type": "code",
   "execution_count": null,
   "metadata": {
    "executionInfo": {
     "elapsed": 5926,
     "status": "aborted",
     "timestamp": 1696132189803,
     "user": {
      "displayName": "Sonja Streuber",
      "userId": "03872648719424952237"
     },
     "user_tz": 240
    },
    "id": "1tYqwbLZ0kVI"
   },
   "outputs": [],
   "source": [
    "# Set up the training and test sets in this code cell"
   ]
  },
  {
   "cell_type": "code",
   "execution_count": null,
   "metadata": {
    "executionInfo": {
     "elapsed": 5926,
     "status": "aborted",
     "timestamp": 1696132189804,
     "user": {
      "displayName": "Sonja Streuber",
      "userId": "03872648719424952237"
     },
     "user_tz": 240
    },
    "id": "f6q_sR6Z0lKD"
   },
   "outputs": [],
   "source": [
    "# Build and train the classifier in this cell"
   ]
  },
  {
   "cell_type": "code",
   "execution_count": null,
   "metadata": {
    "executionInfo": {
     "elapsed": 5925,
     "status": "aborted",
     "timestamp": 1696132189804,
     "user": {
      "displayName": "Sonja Streuber",
      "userId": "03872648719424952237"
     },
     "user_tz": 240
    },
    "id": "r9QOVAMe0mkY"
   },
   "outputs": [],
   "source": [
    "# Calculate the accuracy score in this cell"
   ]
  },
  {
   "cell_type": "code",
   "execution_count": null,
   "metadata": {
    "executionInfo": {
     "elapsed": 5926,
     "status": "aborted",
     "timestamp": 1696132189805,
     "user": {
      "displayName": "Sonja Streuber",
      "userId": "03872648719424952237"
     },
     "user_tz": 240
    },
    "id": "25uGQ2Kq00s6"
   },
   "outputs": [],
   "source": [
    "# Build the Confusion matrix in this cell"
   ]
  },
  {
   "cell_type": "code",
   "execution_count": null,
   "metadata": {
    "executionInfo": {
     "elapsed": 5925,
     "status": "aborted",
     "timestamp": 1696132189805,
     "user": {
      "displayName": "Sonja Streuber",
      "userId": "03872648719424952237"
     },
     "user_tz": 240
    },
    "id": "dhl3yCbf03yX"
   },
   "outputs": [],
   "source": [
    "# Build the Classification report in this cell"
   ]
  },
  {
   "cell_type": "markdown",
   "metadata": {
    "id": "dfXirpEz07fE"
   },
   "source": [
    "Now interpret your findings in the text field below."
   ]
  },
  {
   "cell_type": "markdown",
   "metadata": {
    "id": "lBRXsve51BdF"
   },
   "source": []
  },
  {
   "cell_type": "markdown",
   "metadata": {
    "id": "Yzm2qZq42gK7"
   },
   "source": [
    "# Solutions (to help you get to the end of this workbook)"
   ]
  },
  {
   "cell_type": "code",
   "execution_count": null,
   "metadata": {
    "executionInfo": {
     "elapsed": 5925,
     "status": "aborted",
     "timestamp": 1696132189805,
     "user": {
      "displayName": "Sonja Streuber",
      "userId": "03872648719424952237"
     },
     "user_tz": 240
    },
    "id": "qwVb732S1061"
   },
   "outputs": [],
   "source": [
    "# This is the solution for task 2 above.\n",
    "insurance2 = pd.DataFrame(insurance, columns = ['age', 'bmi', 'children','charges','region'])\n",
    "insurance2.head()"
   ]
  },
  {
   "cell_type": "code",
   "execution_count": null,
   "metadata": {
    "executionInfo": {
     "elapsed": 5925,
     "status": "aborted",
     "timestamp": 1696132189806,
     "user": {
      "displayName": "Sonja Streuber",
      "userId": "03872648719424952237"
     },
     "user_tz": 240
    },
    "id": "uN7kB8IM1NXF"
   },
   "outputs": [],
   "source": [
    "# This is the solution for task 3 above:\n",
    "X_train, X_test, y_train, y_test = train_test_split(x, y, test_size = 0.2)"
   ]
  }
 ],
 "metadata": {
  "colab": {
   "provenance": [
    {
     "file_id": "1CTQbqlMzAemeIs25P-W4akXN9_O9MoFi",
     "timestamp": 1696132026635
    }
   ],
   "toc_visible": true
  },
  "kernelspec": {
   "display_name": "Python 3 (ipykernel)",
   "language": "python",
   "name": "python3"
  },
  "language_info": {
   "codemirror_mode": {
    "name": "ipython",
    "version": 3
   },
   "file_extension": ".py",
   "mimetype": "text/x-python",
   "name": "python",
   "nbconvert_exporter": "python",
   "pygments_lexer": "ipython3",
   "version": "3.11.3"
  }
 },
 "nbformat": 4,
 "nbformat_minor": 1
}
