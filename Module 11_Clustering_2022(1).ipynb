{
 "cells": [
  {
   "cell_type": "markdown",
   "metadata": {
    "id": "3Wv-PGpnhpIL"
   },
   "source": [
    "# **Clustering**\n",
    "At the end of this module, you will be able to work with these three different types of clustering:\n",
    "1. kMeans/ kMedoids\n",
    "2. Hierarchical clustering\n",
    "3. Density-based clustering\n",
    "\n",
    "These three are the most popular ways of determining what happens when you don't have a class attribute, and you have to \"make one.\" They explore how the data falls into \"natural\" groups based on their attribute values. The underlying concept for all of these investigations is, again, distance (with Euclidian distance set as the default in all three algorithms).\n",
    "\n",
    "**Be sure to expand all the sections in this workbook, execute and observe the code, and complete all exercises!**\n",
    "\n",
    "Start by watching the instructor video below to learn what clustering is all about:"
   ]
  },
  {
   "cell_type": "code",
   "execution_count": 2,
   "metadata": {},
   "outputs": [],
   "source": [
    "import warnings\n",
    "warnings.filterwarnings(\"ignore\")"
   ]
  },
  {
   "cell_type": "code",
   "execution_count": 22,
   "metadata": {
    "colab": {
     "base_uri": "https://localhost:8080/",
     "height": 336
    },
    "executionInfo": {
     "elapsed": 209,
     "status": "ok",
     "timestamp": 1657586542738,
     "user": {
      "displayName": "Sonja Streuber",
      "userId": "03872648719424952237"
     },
     "user_tz": 300
    },
    "id": "ZRt92-qjDGDo",
    "outputId": "893aa39f-9014-4fb4-9232-3203b0074ced"
   },
   "outputs": [
    {
     "name": "stderr",
     "output_type": "stream",
     "text": [
      "C:\\Users\\User\\anaconda3\\Lib\\site-packages\\IPython\\core\\display.py:431: UserWarning: Consider using IPython.display.IFrame instead\n",
      "  warnings.warn(\"Consider using IPython.display.IFrame instead\")\n"
     ]
    },
    {
     "data": {
      "text/html": [
       "<iframe width=\"560\" height=\"315\" src=\"https://www.youtube.com/embed/PkSnC4y5fXI\" frameborder=\"0\" allow=\"accelerometer; autoplay; encrypted-media; gyroscope; picture-in-picture\" allowfullscreen></iframe>"
      ],
      "text/plain": [
       "<IPython.core.display.HTML object>"
      ]
     },
     "execution_count": 22,
     "metadata": {},
     "output_type": "execute_result"
    }
   ],
   "source": [
    "from IPython.display import HTML\n",
    "HTML('<iframe width=\"560\" height=\"315\" src=\"https://www.youtube.com/embed/PkSnC4y5fXI\" frameborder=\"0\" allow=\"accelerometer; autoplay; encrypted-media; gyroscope; picture-in-picture\" allowfullscreen></iframe>')"
   ]
  },
  {
   "cell_type": "markdown",
   "metadata": {
    "id": "tIyC9CWnDpT7"
   },
   "source": [
    "Let's dive right in!\n",
    "\n",
    "**Run the code in this module to understand how the concepts and code it together. Be sure to complete all the exercises to get a working knowledge of clustering!**"
   ]
  },
  {
   "cell_type": "markdown",
   "metadata": {
    "id": "xTSC9AxfJyVG"
   },
   "source": [
    "#**0. Preparation and Setup**\n",
    "Similar to what we did before, we are following the basic modeling steps:\n",
    "\n",
    "1. Exploratory Data Analysis (EDA) to see how the data is distributed--**NOTE** that we will not look for a class attribute because clustering itself is exploratory. We don't know about any classes yet!\n",
    "2. Preprocess the data (remove n/a, transform data types as needed, deal with missing data) \n",
    "3. Build the model--since clustering is exploratory in nature, we won't have a training or test set; we're going to explore the \"natural\" groupings in our data.\n",
    "4. Determine the quality of the model. Since this is **NOT** classification, we will use other methods than the Confusion Matrix and the Classification Report.\n",
    "\n",
    "We will explore our clustering algorithms on the basis of a fun dog dataset before we explore the same concept on [the famous iris dataset](PkSnC4y5fXI)."
   ]
  },
  {
   "cell_type": "code",
   "execution_count": 1,
   "metadata": {
    "colab": {
     "base_uri": "https://localhost:8080/",
     "height": 425
    },
    "executionInfo": {
     "elapsed": 3359,
     "status": "ok",
     "timestamp": 1657586546257,
     "user": {
      "displayName": "Sonja Streuber",
      "userId": "03872648719424952237"
     },
     "user_tz": 300
    },
    "id": "rf8vWMHLhpIO",
    "outputId": "7c90ee2d-0e2a-4464-8bc1-2d88f2167f18"
   },
   "outputs": [
    {
     "data": {
      "text/html": [
       "<div>\n",
       "<style scoped>\n",
       "    .dataframe tbody tr th:only-of-type {\n",
       "        vertical-align: middle;\n",
       "    }\n",
       "\n",
       "    .dataframe tbody tr th {\n",
       "        vertical-align: top;\n",
       "    }\n",
       "\n",
       "    .dataframe thead th {\n",
       "        text-align: right;\n",
       "    }\n",
       "</style>\n",
       "<table border=\"1\" class=\"dataframe\">\n",
       "  <thead>\n",
       "    <tr style=\"text-align: right;\">\n",
       "      <th></th>\n",
       "      <th>height (inches)</th>\n",
       "      <th>weight (pounds)</th>\n",
       "    </tr>\n",
       "    <tr>\n",
       "      <th>breed</th>\n",
       "      <th></th>\n",
       "      <th></th>\n",
       "    </tr>\n",
       "  </thead>\n",
       "  <tbody>\n",
       "    <tr>\n",
       "      <th>Border Collie</th>\n",
       "      <td>20</td>\n",
       "      <td>45</td>\n",
       "    </tr>\n",
       "    <tr>\n",
       "      <th>Boston Terrier</th>\n",
       "      <td>16</td>\n",
       "      <td>20</td>\n",
       "    </tr>\n",
       "    <tr>\n",
       "      <th>Brittany Spaniel</th>\n",
       "      <td>18</td>\n",
       "      <td>35</td>\n",
       "    </tr>\n",
       "    <tr>\n",
       "      <th>Bullmastiff</th>\n",
       "      <td>27</td>\n",
       "      <td>120</td>\n",
       "    </tr>\n",
       "    <tr>\n",
       "      <th>Chihuahua</th>\n",
       "      <td>8</td>\n",
       "      <td>8</td>\n",
       "    </tr>\n",
       "    <tr>\n",
       "      <th>German Shepherd</th>\n",
       "      <td>25</td>\n",
       "      <td>78</td>\n",
       "    </tr>\n",
       "    <tr>\n",
       "      <th>Golden Retriever</th>\n",
       "      <td>23</td>\n",
       "      <td>70</td>\n",
       "    </tr>\n",
       "    <tr>\n",
       "      <th>Great Dane</th>\n",
       "      <td>32</td>\n",
       "      <td>160</td>\n",
       "    </tr>\n",
       "    <tr>\n",
       "      <th>Portuguese Water Dog</th>\n",
       "      <td>21</td>\n",
       "      <td>50</td>\n",
       "    </tr>\n",
       "    <tr>\n",
       "      <th>Standard Poodle</th>\n",
       "      <td>19</td>\n",
       "      <td>65</td>\n",
       "    </tr>\n",
       "    <tr>\n",
       "      <th>Yorkshire Terrier</th>\n",
       "      <td>6</td>\n",
       "      <td>7</td>\n",
       "    </tr>\n",
       "  </tbody>\n",
       "</table>\n",
       "</div>"
      ],
      "text/plain": [
       "                      height (inches)  weight (pounds)\n",
       "breed                                                 \n",
       "Border Collie                      20               45\n",
       "Boston Terrier                     16               20\n",
       "Brittany Spaniel                   18               35\n",
       "Bullmastiff                        27              120\n",
       "Chihuahua                           8                8\n",
       "German Shepherd                    25               78\n",
       "Golden Retriever                   23               70\n",
       "Great Dane                         32              160\n",
       "Portuguese Water Dog               21               50\n",
       "Standard Poodle                    19               65\n",
       "Yorkshire Terrier                   6                7"
      ]
     },
     "execution_count": 1,
     "metadata": {},
     "output_type": "execute_result"
    }
   ],
   "source": [
    "import pandas as pd\n",
    "import numpy as np\n",
    "import matplotlib.pyplot as plt\n",
    "from mpl_toolkits.mplot3d import Axes3D\n",
    "from sklearn import datasets # This is where the iris dataset will come from later\n",
    "from sklearn.cluster import KMeans\n",
    "\n",
    "# First, we import our dog dataset\n",
    "\n",
    "dog_data = pd.read_csv('https://raw.githubusercontent.com/shstreuber/Data-Mining/master/data/dogs.csv')\n",
    "dog_data = dog_data.set_index('breed')\n",
    "dog_data"
   ]
  },
  {
   "cell_type": "markdown",
   "metadata": {
    "id": "CEz5h9fkMNWJ"
   },
   "source": [
    "# **1. Exploratory Data Analysis (EDA)**\n",
    "It's a fun new dataset! If you're curious what these look like, [here](https://www.akc.org/dog-breeds/) is the authoritative description of every single breed recognized in the US (with pictures)! Did you know that there are over 340 different dog breeds in the world (and that does not include the adorable mutts you find in many animal shelters)?\n",
    "\n",
    "<div>\n",
    "<center>\n",
    "<img src=\"https://raw.githubusercontent.com/shstreuber/Data-Mining/master/images/dogs1.jpg\" width=\"600\">\n",
    "</div>\n",
    "\n",
    "Ok, back to the data: It looks like height and weight are in different units (inches and pounds), so in order to calculate our centroids, we have to bring them onto the same scale. You know what this means for preprocessing: NORMALIZATION."
   ]
  },
  {
   "cell_type": "markdown",
   "metadata": {
    "id": "NSFjtMN1P-f8"
   },
   "source": [
    "# **2. Preprocessing**\n",
    "There's very little preprocessing we have to do with this dataset. We will use mean normalization to standardize the features to follow the Normal Distribution. That will also speed up our processing later. As we have done previously in this course, we will use the [StandardScaler](https://scikit-learn.org/stable/modules/generated/sklearn.preprocessing.StandardScaler.html) from scikit-learn."
   ]
  },
  {
   "cell_type": "code",
   "execution_count": 3,
   "metadata": {
    "colab": {
     "base_uri": "https://localhost:8080/"
    },
    "executionInfo": {
     "elapsed": 11,
     "status": "ok",
     "timestamp": 1657586546258,
     "user": {
      "displayName": "Sonja Streuber",
      "userId": "03872648719424952237"
     },
     "user_tz": 300
    },
    "id": "0SOGzHYkhpIX",
    "outputId": "3c8d1b6a-c5c1-4411-d9cf-65511fa18523"
   },
   "outputs": [
    {
     "data": {
      "text/plain": [
       "array([[ 0.06223799, -0.33050712],\n",
       "       [-0.48545628, -0.88811116],\n",
       "       [-0.21160915, -0.55354874],\n",
       "       [ 1.02070295,  1.34230499],\n",
       "       [-1.58084482, -1.1557611 ],\n",
       "       [ 0.74685582,  0.40553021],\n",
       "       [ 0.47300869,  0.22709692],\n",
       "       [ 1.70532079,  2.23447145],\n",
       "       [ 0.19916155, -0.21898631],\n",
       "       [-0.07468558,  0.11557611],\n",
       "       [-1.85469195, -1.17806526]])"
      ]
     },
     "execution_count": 3,
     "metadata": {},
     "output_type": "execute_result"
    }
   ],
   "source": [
    "# # Mean Normalization with StandardScaler\n",
    "\n",
    "from sklearn.preprocessing import StandardScaler\n",
    "sc = StandardScaler() \n",
    "dog_data_array = sc.fit_transform(dog_data.values) #calculate μ & σ (fit) and apply the transformation(transform)\n",
    "dog_data_array"
   ]
  },
  {
   "cell_type": "code",
   "execution_count": 4,
   "metadata": {
    "colab": {
     "base_uri": "https://localhost:8080/",
     "height": 425
    },
    "executionInfo": {
     "elapsed": 10,
     "status": "ok",
     "timestamp": 1657586546260,
     "user": {
      "displayName": "Sonja Streuber",
      "userId": "03872648719424952237"
     },
     "user_tz": 300
    },
    "id": "KfL5S9-Sm1Xr",
    "outputId": "caf68c45-1ef0-47f2-891a-30a71f3fa9f1"
   },
   "outputs": [
    {
     "data": {
      "text/html": [
       "<div>\n",
       "<style scoped>\n",
       "    .dataframe tbody tr th:only-of-type {\n",
       "        vertical-align: middle;\n",
       "    }\n",
       "\n",
       "    .dataframe tbody tr th {\n",
       "        vertical-align: top;\n",
       "    }\n",
       "\n",
       "    .dataframe thead th {\n",
       "        text-align: right;\n",
       "    }\n",
       "</style>\n",
       "<table border=\"1\" class=\"dataframe\">\n",
       "  <thead>\n",
       "    <tr style=\"text-align: right;\">\n",
       "      <th></th>\n",
       "      <th>height (inches)</th>\n",
       "      <th>weight (pounds)</th>\n",
       "    </tr>\n",
       "    <tr>\n",
       "      <th>breed</th>\n",
       "      <th></th>\n",
       "      <th></th>\n",
       "    </tr>\n",
       "  </thead>\n",
       "  <tbody>\n",
       "    <tr>\n",
       "      <th>Border Collie</th>\n",
       "      <td>0.062238</td>\n",
       "      <td>-0.330507</td>\n",
       "    </tr>\n",
       "    <tr>\n",
       "      <th>Boston Terrier</th>\n",
       "      <td>-0.485456</td>\n",
       "      <td>-0.888111</td>\n",
       "    </tr>\n",
       "    <tr>\n",
       "      <th>Brittany Spaniel</th>\n",
       "      <td>-0.211609</td>\n",
       "      <td>-0.553549</td>\n",
       "    </tr>\n",
       "    <tr>\n",
       "      <th>Bullmastiff</th>\n",
       "      <td>1.020703</td>\n",
       "      <td>1.342305</td>\n",
       "    </tr>\n",
       "    <tr>\n",
       "      <th>Chihuahua</th>\n",
       "      <td>-1.580845</td>\n",
       "      <td>-1.155761</td>\n",
       "    </tr>\n",
       "    <tr>\n",
       "      <th>German Shepherd</th>\n",
       "      <td>0.746856</td>\n",
       "      <td>0.405530</td>\n",
       "    </tr>\n",
       "    <tr>\n",
       "      <th>Golden Retriever</th>\n",
       "      <td>0.473009</td>\n",
       "      <td>0.227097</td>\n",
       "    </tr>\n",
       "    <tr>\n",
       "      <th>Great Dane</th>\n",
       "      <td>1.705321</td>\n",
       "      <td>2.234471</td>\n",
       "    </tr>\n",
       "    <tr>\n",
       "      <th>Portuguese Water Dog</th>\n",
       "      <td>0.199162</td>\n",
       "      <td>-0.218986</td>\n",
       "    </tr>\n",
       "    <tr>\n",
       "      <th>Standard Poodle</th>\n",
       "      <td>-0.074686</td>\n",
       "      <td>0.115576</td>\n",
       "    </tr>\n",
       "    <tr>\n",
       "      <th>Yorkshire Terrier</th>\n",
       "      <td>-1.854692</td>\n",
       "      <td>-1.178065</td>\n",
       "    </tr>\n",
       "  </tbody>\n",
       "</table>\n",
       "</div>"
      ],
      "text/plain": [
       "                      height (inches)  weight (pounds)\n",
       "breed                                                 \n",
       "Border Collie                0.062238        -0.330507\n",
       "Boston Terrier              -0.485456        -0.888111\n",
       "Brittany Spaniel            -0.211609        -0.553549\n",
       "Bullmastiff                  1.020703         1.342305\n",
       "Chihuahua                   -1.580845        -1.155761\n",
       "German Shepherd              0.746856         0.405530\n",
       "Golden Retriever             0.473009         0.227097\n",
       "Great Dane                   1.705321         2.234471\n",
       "Portuguese Water Dog         0.199162        -0.218986\n",
       "Standard Poodle             -0.074686         0.115576\n",
       "Yorkshire Terrier           -1.854692        -1.178065"
      ]
     },
     "execution_count": 4,
     "metadata": {},
     "output_type": "execute_result"
    }
   ],
   "source": [
    "# Assign the scaled data to a DataFrame & use the index and columns arguments to keep your original indices and column names:\n",
    "dog_data_norm = pd.DataFrame(dog_data_array, index=dog_data.index, columns=dog_data.columns)\n",
    "dog_data_norm"
   ]
  },
  {
   "cell_type": "code",
   "execution_count": 5,
   "metadata": {
    "colab": {
     "base_uri": "https://localhost:8080/",
     "height": 295
    },
    "executionInfo": {
     "elapsed": 785,
     "status": "ok",
     "timestamp": 1657586547036,
     "user": {
      "displayName": "Sonja Streuber",
      "userId": "03872648719424952237"
     },
     "user_tz": 300
    },
    "id": "4n-YdqvkhpIa",
    "outputId": "e9660380-44c9-4b74-d489-ec17d38b0745"
   },
   "outputs": [
    {
     "data": {
      "image/png": "[encoded data removed]",
      "text/plain": [
       "<Figure size 640x480 with 1 Axes>"
      ]
     },
     "metadata": {},
     "output_type": "display_data"
    }
   ],
   "source": [
    "# Let's build a simple scatter plot\n",
    "plt.scatter(dog_data_norm['weight (pounds)'], dog_data_norm['height (inches)'], alpha=0.5)\n",
    "plt.title('Plot of Dog Breeds')\n",
    "plt.xlabel('Normalized Weight')\n",
    "plt.ylabel('Normalized Height')\n",
    "plt.show()    "
   ]
  },
  {
   "cell_type": "markdown",
   "metadata": {
    "id": "nzJCCktchpIf"
   },
   "source": [
    "Gazing at the scatter plot, it looks like we could group the data into three clusters. There are the 2 data points on the bottom left (Chihuahua and Yorkshire Terrier) The top right group of two (Bull Mastiff and Great Dane) and the middle group with all the other breeds."
   ]
  },
  {
   "cell_type": "markdown",
   "metadata": {
    "id": "aN_L2hj7hpIN"
   },
   "source": [
    "# **3. K-Means and the Elbow Method**\n",
    "K-means clustering is one of the simplest and popular unsupervised machine learning algorithms. The objective is to group similar data points together and discover underlying patterns. To achieve this objective, K-means looks for a fixed number (k) of clusters in a dataset. \n",
    "\n",
    "Clusters are groups of data with similar characateristics. They are built around centroids. As with k Nearest Neighbor, you get to again set the value for k. But this time, **k defines the number of centroids**--that is, the imaginary or real location of the center in a cluster--you want to see in the dataset.\n",
    "\n",
    "## **How does k Means Work?**\n",
    "Basically, the k-means algorithm identifies k number of centroids, and then allocates every data point to the nearest cluster, while keeping the centroids as small as possible. The ‘means’ in the K-means refers to averaging of the data; that is, finding the centroid. Here are the steps k Means takes:\n",
    "1. You define k\n",
    "2. The algorithm randomly places k points into the dataspace.\n",
    "3. It then calculates the best position of these centroids based on which actual datapoints are the closest. This calculation is similar to the bckpropagation in a Neural Network, where the goal is to minimize the error in class assignment. The difference is that here, data points are assigned to clusters (not classes) and the calculation is not an activation function, but a Sum-of-Squares calculation. The position of the centroids adjusts until the algorithm stops.\n",
    "4. The algorithm stops when either the centroids have stabilized and there is no change in their values OR when the defined number of iterations has been reached.\n",
    "\n",
    "##**Coding k Means**\n",
    "\n",
    "We are using the KMeans() function from [scikit-learn.cluster](https://scikit-learn.org/stable/modules/generated/sklearn.cluster.KMeans.html) for this purpose.\n",
    "\n",
    "The most interesting parameters are:\n",
    "\n",
    "**n_clusters** int, default=8\n",
    "The number of clusters to form as well as the number of centroids to generate.\n",
    "\n",
    "**init: {‘k-means++’, ‘random’, ndarray, callable}, default=’k-means++’**\n",
    "Method for initialization:\n",
    "\n",
    "1. ‘k-means++’ : selects initial cluster centers for k-mean clustering in a smart way to speed up convergence. See section Notes in k_init for more details.\n",
    "\n",
    "2. ‘random’: choose n_clusters observations (rows) at random from data for the initial centroids.\n",
    "\n",
    "  If an ndarray is passed, it should be of shape (n_clusters, n_features) and gives the initial centers. If a callable is passed, it should take arguments X, n_clusters and a random state and return an initialization.\n",
    "\n",
    "**n_init**: int, default=10\n",
    "Number of time the k-means algorithm will be run with different centroid seeds. The final results will be the best output of n_init consecutive runs in terms of inertia.\n",
    "\n",
    "**max_iter**: int, default=300\n",
    "Maximum number of iterations of the k-means algorithm for a single run.\n",
    "\n",
    "**verbose**: int, default=0\n",
    "Verbosity mode. (If you like your computer to talk to you)\n",
    "\n",
    "The following two attributes are interesting for us:\n",
    "**cluster_centers_**: ndarray of shape (n_clusters, n_features)\n",
    "Coordinates of cluster centers. If the algorithm stops before fully resolving, these will not be consistent with labels_.\n",
    "\n",
    "**labels_**: ndarray of shape (n_samples,)\n",
    "Labels of each point\n",
    "\n",
    "If you want to see what kMeans used to look like when written from scratch in Python, go [here](https://benalexkeen.com/k-means-clustering-in-python/)."
   ]
  },
  {
   "cell_type": "markdown",
   "metadata": {
    "id": "JFy8D99aWwvq"
   },
   "source": [
    "##**3.1 k Means and the Dog Breeds Dataset**"
   ]
  },
  {
   "cell_type": "code",
   "execution_count": 5,
   "metadata": {
    "colab": {
     "base_uri": "https://localhost:8080/"
    },
    "executionInfo": {
     "elapsed": 447,
     "status": "ok",
     "timestamp": 1657586547478,
     "user": {
      "displayName": "Sonja Streuber",
      "userId": "03872648719424952237"
     },
     "user_tz": 300
    },
    "id": "JdYpgO-6hpIg",
    "outputId": "397a7f04-4af9-4f74-ee24-3649ff63dbd2"
   },
   "outputs": [
    {
     "data": {
      "text/plain": [
       "array([0, 0, 0, 1, 2, 0, 0, 1, 0, 0, 2])"
      ]
     },
     "execution_count": 5,
     "metadata": {},
     "output_type": "execute_result"
    }
   ],
   "source": [
    "# On to clustering with kMeans. Note that the variable \"labels\" is an array which specifies which cluster each dog belongs to:\n",
    "\n",
    "from sklearn.cluster import KMeans\n",
    "kmeans = KMeans(n_clusters=3, ).fit(dog_data_norm)\n",
    "labels = kmeans.labels_\n",
    "labels"
   ]
  },
  {
   "cell_type": "markdown",
   "metadata": {
    "id": "60e65v6jhpIk"
   },
   "source": [
    "My results were: array([0, 0, 0, 1, 2, 0, 0, 1, 0, 0, 2]), which indicates that the first, second, and third dogs are in cluster 0, the next one in cluster 1 and so on. That may be helpful for future tasks but is not the helpful if we are trying to visualize the data. Let's make this more \"uebersichtlich\" (= easy to view), though (but keep in mind that since the initial centroids are selected randomly it is possible that you get a different answer than I do):"
   ]
  },
  {
   "cell_type": "code",
   "execution_count": 7,
   "metadata": {
    "colab": {
     "base_uri": "https://localhost:8080/"
    },
    "executionInfo": {
     "elapsed": 228,
     "status": "ok",
     "timestamp": 1657586547701,
     "user": {
      "displayName": "Sonja Streuber",
      "userId": "03872648719424952237"
     },
     "user_tz": 300
    },
    "id": "nm5Wis17hpIl",
    "outputId": "7764da51-6dd5-48af-db0b-ec0dfc52ce6b"
   },
   "outputs": [
    {
     "name": "stdout",
     "output_type": "stream",
     "text": [
      "CLUSTER 0\n",
      "    Border Collie\n",
      "    Boston Terrier\n",
      "    Brittany Spaniel\n",
      "    German Shepherd\n",
      "    Golden Retriever\n",
      "    Portuguese Water Dog\n",
      "    Standard Poodle\n",
      "\n",
      "\n",
      "CLUSTER 1\n",
      "    Bullmastiff\n",
      "    Great Dane\n",
      "\n",
      "\n",
      "CLUSTER 2\n",
      "    Chihuahua\n",
      "    Yorkshire Terrier\n",
      "\n",
      "\n"
     ]
    }
   ],
   "source": [
    "groups = {0: [], 1: [], 2: []} # We have 3 clusters\n",
    "i = 0                                       # Initializing the row counter\n",
    "for index, row in dog_data.iterrows():      # We are now going through each row in dog_data\n",
    "    groups[labels[i]].append(index)         # and appending the cluster labels/ numbers to each index\n",
    "    i += 1\n",
    "\n",
    "## Now we make a pretty list:\n",
    "\n",
    "for key, value in groups.items():           # the key is the cluster number and the value is the names of the dogs\n",
    "    print ('CLUSTER %i' % key)\n",
    "    for breed in value:\n",
    "        print(\"    %s\" % breed)\n",
    "    print('\\n')"
   ]
  },
  {
   "cell_type": "markdown",
   "metadata": {
    "id": "zk4ugjahtF_5"
   },
   "source": [
    "There you have it! That's all there is to kMeans clustering--sort of.\n",
    "\n",
    "Let's do this with a different dataset!"
   ]
  },
  {
   "cell_type": "markdown",
   "metadata": {
    "id": "wI3DARiyhpIp"
   },
   "source": [
    "##**3.2 k Means and the Iris dataset**\n",
    "Wouldn't you know it, the iris dataset is so popular that it actually comes with the scikit-learn package. It is formatted as an object with an array of 4 variables with one associated target variable: the species attribute. This species attribute contains the following 3 categories:\n",
    "\n",
    "<div>\n",
    "<center>\n",
    "<img src=\"https://raw.githubusercontent.com/shstreuber/Data-Mining/master/images/iris_types.jpg\" width=\"500\">\n",
    "</div>\n",
    "These categories are derived from the values in the following variables:\n",
    "<div>\n",
    "<center>\n",
    "<img src=\"https://raw.githubusercontent.com/shstreuber/Data-Mining/master/images/iris_measurements.png\" width=\"300\">\n",
    "</div>\n",
    "Petal length, petal width and sepal length and sepal width. \n",
    "There you have it. The famous iris dataset.\n",
    "\n",
    "We'll load it, and you get to do some basic EDA with the pandas_profiling package. This is the most famous dataset in Machine Learning. A [basic Google search](https://www.google.com/search?q=iris+dataset) turns up way too much information--don't read all of it; you'll get lost.\n",
    "\n"
   ]
  },
  {
   "cell_type": "code",
   "execution_count": 6,
   "metadata": {
    "colab": {
     "base_uri": "https://localhost:8080/"
    },
    "executionInfo": {
     "elapsed": 24,
     "status": "ok",
     "timestamp": 1657586547702,
     "user": {
      "displayName": "Sonja Streuber",
      "userId": "03872648719424952237"
     },
     "user_tz": 300
    },
    "id": "7bSgGiRrhpIr",
    "outputId": "270c0da3-2074-4564-a9dc-2f443db72d89"
   },
   "outputs": [
    {
     "data": {
      "text/plain": [
       "{'data': array([[5.1, 3.5, 1.4, 0.2],\n",
       "        [4.9, 3. , 1.4, 0.2],\n",
       "        [4.7, 3.2, 1.3, 0.2],\n",
       "        [4.6, 3.1, 1.5, 0.2],\n",
       "        [5. , 3.6, 1.4, 0.2],\n",
       "        [5.4, 3.9, 1.7, 0.4],\n",
       "        [4.6, 3.4, 1.4, 0.3],\n",
       "        [5. , 3.4, 1.5, 0.2],\n",
       "        [4.4, 2.9, 1.4, 0.2],\n",
       "        [4.9, 3.1, 1.5, 0.1],\n",
       "        [5.4, 3.7, 1.5, 0.2],\n",
       "        [4.8, 3.4, 1.6, 0.2],\n",
       "        [4.8, 3. , 1.4, 0.1],\n",
       "        [4.3, 3. , 1.1, 0.1],\n",
       "        [5.8, 4. , 1.2, 0.2],\n",
       "        [5.7, 4.4, 1.5, 0.4],\n",
       "        [5.4, 3.9, 1.3, 0.4],\n",
       "        [5.1, 3.5, 1.4, 0.3],\n",
       "        [5.7, 3.8, 1.7, 0.3],\n",
       "        [5.1, 3.8, 1.5, 0.3],\n",
       "        [5.4, 3.4, 1.7, 0.2],\n",
       "        [5.1, 3.7, 1.5, 0.4],\n",
       "        [4.6, 3.6, 1. , 0.2],\n",
       "        [5.1, 3.3, 1.7, 0.5],\n",
       "        [4.8, 3.4, 1.9, 0.2],\n",
       "        [5. , 3. , 1.6, 0.2],\n",
       "        [5. , 3.4, 1.6, 0.4],\n",
       "        [5.2, 3.5, 1.5, 0.2],\n",
       "        [5.2, 3.4, 1.4, 0.2],\n",
       "        [4.7, 3.2, 1.6, 0.2],\n",
       "        [4.8, 3.1, 1.6, 0.2],\n",
       "        [5.4, 3.4, 1.5, 0.4],\n",
       "        [5.2, 4.1, 1.5, 0.1],\n",
       "        [5.5, 4.2, 1.4, 0.2],\n",
       "        [4.9, 3.1, 1.5, 0.2],\n",
       "        [5. , 3.2, 1.2, 0.2],\n",
       "        [5.5, 3.5, 1.3, 0.2],\n",
       "        [4.9, 3.6, 1.4, 0.1],\n",
       "        [4.4, 3. , 1.3, 0.2],\n",
       "        [5.1, 3.4, 1.5, 0.2],\n",
       "        [5. , 3.5, 1.3, 0.3],\n",
       "        [4.5, 2.3, 1.3, 0.3],\n",
       "        [4.4, 3.2, 1.3, 0.2],\n",
       "        [5. , 3.5, 1.6, 0.6],\n",
       "        [5.1, 3.8, 1.9, 0.4],\n",
       "        [4.8, 3. , 1.4, 0.3],\n",
       "        [5.1, 3.8, 1.6, 0.2],\n",
       "        [4.6, 3.2, 1.4, 0.2],\n",
       "        [5.3, 3.7, 1.5, 0.2],\n",
       "        [5. , 3.3, 1.4, 0.2],\n",
       "        [7. , 3.2, 4.7, 1.4],\n",
       "        [6.4, 3.2, 4.5, 1.5],\n",
       "        [6.9, 3.1, 4.9, 1.5],\n",
       "        [5.5, 2.3, 4. , 1.3],\n",
       "        [6.5, 2.8, 4.6, 1.5],\n",
       "        [5.7, 2.8, 4.5, 1.3],\n",
       "        [6.3, 3.3, 4.7, 1.6],\n",
       "        [4.9, 2.4, 3.3, 1. ],\n",
       "        [6.6, 2.9, 4.6, 1.3],\n",
       "        [5.2, 2.7, 3.9, 1.4],\n",
       "        [5. , 2. , 3.5, 1. ],\n",
       "        [5.9, 3. , 4.2, 1.5],\n",
       "        [6. , 2.2, 4. , 1. ],\n",
       "        [6.1, 2.9, 4.7, 1.4],\n",
       "        [5.6, 2.9, 3.6, 1.3],\n",
       "        [6.7, 3.1, 4.4, 1.4],\n",
       "        [5.6, 3. , 4.5, 1.5],\n",
       "        [5.8, 2.7, 4.1, 1. ],\n",
       "        [6.2, 2.2, 4.5, 1.5],\n",
       "        [5.6, 2.5, 3.9, 1.1],\n",
       "        [5.9, 3.2, 4.8, 1.8],\n",
       "        [6.1, 2.8, 4. , 1.3],\n",
       "        [6.3, 2.5, 4.9, 1.5],\n",
       "        [6.1, 2.8, 4.7, 1.2],\n",
       "        [6.4, 2.9, 4.3, 1.3],\n",
       "        [6.6, 3. , 4.4, 1.4],\n",
       "        [6.8, 2.8, 4.8, 1.4],\n",
       "        [6.7, 3. , 5. , 1.7],\n",
       "        [6. , 2.9, 4.5, 1.5],\n",
       "        [5.7, 2.6, 3.5, 1. ],\n",
       "        [5.5, 2.4, 3.8, 1.1],\n",
       "        [5.5, 2.4, 3.7, 1. ],\n",
       "        [5.8, 2.7, 3.9, 1.2],\n",
       "        [6. , 2.7, 5.1, 1.6],\n",
       "        [5.4, 3. , 4.5, 1.5],\n",
       "        [6. , 3.4, 4.5, 1.6],\n",
       "        [6.7, 3.1, 4.7, 1.5],\n",
       "        [6.3, 2.3, 4.4, 1.3],\n",
       "        [5.6, 3. , 4.1, 1.3],\n",
       "        [5.5, 2.5, 4. , 1.3],\n",
       "        [5.5, 2.6, 4.4, 1.2],\n",
       "        [6.1, 3. , 4.6, 1.4],\n",
       "        [5.8, 2.6, 4. , 1.2],\n",
       "        [5. , 2.3, 3.3, 1. ],\n",
       "        [5.6, 2.7, 4.2, 1.3],\n",
       "        [5.7, 3. , 4.2, 1.2],\n",
       "        [5.7, 2.9, 4.2, 1.3],\n",
       "        [6.2, 2.9, 4.3, 1.3],\n",
       "        [5.1, 2.5, 3. , 1.1],\n",
       "        [5.7, 2.8, 4.1, 1.3],\n",
       "        [6.3, 3.3, 6. , 2.5],\n",
       "        [5.8, 2.7, 5.1, 1.9],\n",
       "        [7.1, 3. , 5.9, 2.1],\n",
       "        [6.3, 2.9, 5.6, 1.8],\n",
       "        [6.5, 3. , 5.8, 2.2],\n",
       "        [7.6, 3. , 6.6, 2.1],\n",
       "        [4.9, 2.5, 4.5, 1.7],\n",
       "        [7.3, 2.9, 6.3, 1.8],\n",
       "        [6.7, 2.5, 5.8, 1.8],\n",
       "        [7.2, 3.6, 6.1, 2.5],\n",
       "        [6.5, 3.2, 5.1, 2. ],\n",
       "        [6.4, 2.7, 5.3, 1.9],\n",
       "        [6.8, 3. , 5.5, 2.1],\n",
       "        [5.7, 2.5, 5. , 2. ],\n",
       "        [5.8, 2.8, 5.1, 2.4],\n",
       "        [6.4, 3.2, 5.3, 2.3],\n",
       "        [6.5, 3. , 5.5, 1.8],\n",
       "        [7.7, 3.8, 6.7, 2.2],\n",
       "        [7.7, 2.6, 6.9, 2.3],\n",
       "        [6. , 2.2, 5. , 1.5],\n",
       "        [6.9, 3.2, 5.7, 2.3],\n",
       "        [5.6, 2.8, 4.9, 2. ],\n",
       "        [7.7, 2.8, 6.7, 2. ],\n",
       "        [6.3, 2.7, 4.9, 1.8],\n",
       "        [6.7, 3.3, 5.7, 2.1],\n",
       "        [7.2, 3.2, 6. , 1.8],\n",
       "        [6.2, 2.8, 4.8, 1.8],\n",
       "        [6.1, 3. , 4.9, 1.8],\n",
       "        [6.4, 2.8, 5.6, 2.1],\n",
       "        [7.2, 3. , 5.8, 1.6],\n",
       "        [7.4, 2.8, 6.1, 1.9],\n",
       "        [7.9, 3.8, 6.4, 2. ],\n",
       "        [6.4, 2.8, 5.6, 2.2],\n",
       "        [6.3, 2.8, 5.1, 1.5],\n",
       "        [6.1, 2.6, 5.6, 1.4],\n",
       "        [7.7, 3. , 6.1, 2.3],\n",
       "        [6.3, 3.4, 5.6, 2.4],\n",
       "        [6.4, 3.1, 5.5, 1.8],\n",
       "        [6. , 3. , 4.8, 1.8],\n",
       "        [6.9, 3.1, 5.4, 2.1],\n",
       "        [6.7, 3.1, 5.6, 2.4],\n",
       "        [6.9, 3.1, 5.1, 2.3],\n",
       "        [5.8, 2.7, 5.1, 1.9],\n",
       "        [6.8, 3.2, 5.9, 2.3],\n",
       "        [6.7, 3.3, 5.7, 2.5],\n",
       "        [6.7, 3. , 5.2, 2.3],\n",
       "        [6.3, 2.5, 5. , 1.9],\n",
       "        [6.5, 3. , 5.2, 2. ],\n",
       "        [6.2, 3.4, 5.4, 2.3],\n",
       "        [5.9, 3. , 5.1, 1.8]]),\n",
       " 'target': array([0, 0, 0, 0, 0, 0, 0, 0, 0, 0, 0, 0, 0, 0, 0, 0, 0, 0, 0, 0, 0, 0,\n",
       "        0, 0, 0, 0, 0, 0, 0, 0, 0, 0, 0, 0, 0, 0, 0, 0, 0, 0, 0, 0, 0, 0,\n",
       "        0, 0, 0, 0, 0, 0, 1, 1, 1, 1, 1, 1, 1, 1, 1, 1, 1, 1, 1, 1, 1, 1,\n",
       "        1, 1, 1, 1, 1, 1, 1, 1, 1, 1, 1, 1, 1, 1, 1, 1, 1, 1, 1, 1, 1, 1,\n",
       "        1, 1, 1, 1, 1, 1, 1, 1, 1, 1, 1, 1, 2, 2, 2, 2, 2, 2, 2, 2, 2, 2,\n",
       "        2, 2, 2, 2, 2, 2, 2, 2, 2, 2, 2, 2, 2, 2, 2, 2, 2, 2, 2, 2, 2, 2,\n",
       "        2, 2, 2, 2, 2, 2, 2, 2, 2, 2, 2, 2, 2, 2, 2, 2, 2, 2]),\n",
       " 'frame': None,\n",
       " 'target_names': array(['setosa', 'versicolor', 'virginica'], dtype='<U10'),\n",
       " 'DESCR': '.. _iris_dataset:\\n\\nIris plants dataset\\n--------------------\\n\\n**Data Set Characteristics:**\\n\\n    :Number of Instances: 150 (50 in each of three classes)\\n    :Number of Attributes: 4 numeric, predictive attributes and the class\\n    :Attribute Information:\\n        - sepal length in cm\\n        - sepal width in cm\\n        - petal length in cm\\n        - petal width in cm\\n        - class:\\n                - Iris-Setosa\\n                - Iris-Versicolour\\n                - Iris-Virginica\\n                \\n    :Summary Statistics:\\n\\n    ============== ==== ==== ======= ===== ====================\\n                    Min  Max   Mean    SD   Class Correlation\\n    ============== ==== ==== ======= ===== ====================\\n    sepal length:   4.3  7.9   5.84   0.83    0.7826\\n    sepal width:    2.0  4.4   3.05   0.43   -0.4194\\n    petal length:   1.0  6.9   3.76   1.76    0.9490  (high!)\\n    petal width:    0.1  2.5   1.20   0.76    0.9565  (high!)\\n    ============== ==== ==== ======= ===== ====================\\n\\n    :Missing Attribute Values: None\\n    :Class Distribution: 33.3% for each of 3 classes.\\n    :Creator: R.A. Fisher\\n    :Donor: Michael Marshall (MARSHALL%PLU@io.arc.nasa.gov)\\n    :Date: July, 1988\\n\\nThe famous Iris database, first used by Sir R.A. Fisher. The dataset is taken\\nfrom Fisher\\'s paper. Note that it\\'s the same as in R, but not as in the UCI\\nMachine Learning Repository, which has two wrong data points.\\n\\nThis is perhaps the best known database to be found in the\\npattern recognition literature.  Fisher\\'s paper is a classic in the field and\\nis referenced frequently to this day.  (See Duda & Hart, for example.)  The\\ndata set contains 3 classes of 50 instances each, where each class refers to a\\ntype of iris plant.  One class is linearly separable from the other 2; the\\nlatter are NOT linearly separable from each other.\\n\\n.. topic:: References\\n\\n   - Fisher, R.A. \"The use of multiple measurements in taxonomic problems\"\\n     Annual Eugenics, 7, Part II, 179-188 (1936); also in \"Contributions to\\n     Mathematical Statistics\" (John Wiley, NY, 1950).\\n   - Duda, R.O., & Hart, P.E. (1973) Pattern Classification and Scene Analysis.\\n     (Q327.D83) John Wiley & Sons.  ISBN 0-471-22361-1.  See page 218.\\n   - Dasarathy, B.V. (1980) \"Nosing Around the Neighborhood: A New System\\n     Structure and Classification Rule for Recognition in Partially Exposed\\n     Environments\".  IEEE Transactions on Pattern Analysis and Machine\\n     Intelligence, Vol. PAMI-2, No. 1, 67-71.\\n   - Gates, G.W. (1972) \"The Reduced Nearest Neighbor Rule\".  IEEE Transactions\\n     on Information Theory, May 1972, 431-433.\\n   - See also: 1988 MLC Proceedings, 54-64.  Cheeseman et al\"s AUTOCLASS II\\n     conceptual clustering system finds 3 classes in the data.\\n   - Many, many more ...',\n",
       " 'feature_names': ['sepal length (cm)',\n",
       "  'sepal width (cm)',\n",
       "  'petal length (cm)',\n",
       "  'petal width (cm)'],\n",
       " 'filename': 'iris.csv',\n",
       " 'data_module': 'sklearn.datasets.data'}"
      ]
     },
     "execution_count": 6,
     "metadata": {},
     "output_type": "execute_result"
    }
   ],
   "source": [
    "iris = datasets.load_iris() \n",
    "iris"
   ]
  },
  {
   "cell_type": "markdown",
   "metadata": {
    "id": "lSy0EtIvhpIv"
   },
   "source": [
    "We will need to stick the object into a dataframe and then extract  the features (sepal length etc.) and the corresponding class (species). The class is here called the target. For cluster analysis, we are **not** going to use the class because we want to see how the algorithm finds the natural groupings in the dataset. Later on, we can \"cheat\" and compare the algorithm results to what we know is the Ground Truth."
   ]
  },
  {
   "cell_type": "code",
   "execution_count": 7,
   "metadata": {
    "executionInfo": {
     "elapsed": 20,
     "status": "ok",
     "timestamp": 1657586547702,
     "user": {
      "displayName": "Sonja Streuber",
      "userId": "03872648719424952237"
     },
     "user_tz": 300
    },
    "id": "YRAQBzUOhpIw"
   },
   "outputs": [],
   "source": [
    "iris_data = pd.DataFrame(iris.data, columns=iris['feature_names'])\n",
    "iris_target = pd.DataFrame(iris.target, columns=['target'])"
   ]
  },
  {
   "cell_type": "markdown",
   "metadata": {
    "id": "cV3y59zzg1lo"
   },
   "source": [
    "### **3.2.1 Exploratory Data Analysis**\n",
    "\n",
    "##Your Turn\n",
    "\n",
    "Use the pandas_profiler package to look around the dataset!\n"
   ]
  },
  {
   "cell_type": "code",
   "execution_count": null,
   "metadata": {
    "executionInfo": {
     "elapsed": 19,
     "status": "ok",
     "timestamp": 1657586547702,
     "user": {
      "displayName": "Sonja Streuber",
      "userId": "03872648719424952237"
     },
     "user_tz": 300
    },
    "id": "GyVOaWIohG61"
   },
   "outputs": [],
   "source": []
  },
  {
   "cell_type": "markdown",
   "metadata": {
    "id": "gwpCNlqkhpIz"
   },
   "source": [
    "### **3.2.2 Preprocessing**\n",
    "The target/class variable is encoded as integers, but if you look at the output of our object, you see that we have target_num and target_names, so all we need to do is map one on the other, and we have the name for each target number:"
   ]
  },
  {
   "cell_type": "code",
   "execution_count": 10,
   "metadata": {
    "colab": {
     "base_uri": "https://localhost:8080/"
    },
    "executionInfo": {
     "elapsed": 18,
     "status": "ok",
     "timestamp": 1657586547703,
     "user": {
      "displayName": "Sonja Streuber",
      "userId": "03872648719424952237"
     },
     "user_tz": 300
    },
    "id": "F7HOFO2AhpIz",
    "outputId": "30183df3-3854-4c03-ef8a-11c883ba1093"
   },
   "outputs": [
    {
     "data": {
      "text/plain": [
       "0         setosa\n",
       "1         setosa\n",
       "2         setosa\n",
       "3         setosa\n",
       "4         setosa\n",
       "         ...    \n",
       "145    virginica\n",
       "146    virginica\n",
       "147    virginica\n",
       "148    virginica\n",
       "149    virginica\n",
       "Length: 150, dtype: object"
      ]
     },
     "execution_count": 10,
     "metadata": {},
     "output_type": "execute_result"
    }
   ],
   "source": [
    "# Map encoded target values to target names\n",
    "def map_target(target_num):\n",
    "    return iris.target_names[int(target_num)]\n",
    "\n",
    "iris_target_name = iris_target.apply(map_target, 1)\n",
    "iris_target_name"
   ]
  },
  {
   "cell_type": "markdown",
   "metadata": {
    "id": "pUYYnf1AhpI2"
   },
   "source": [
    "### **3.2.3 Building k Means**\n",
    "Now that we have loaded and processed our data, we will go ahead and fit a K-means model to the data. We will use 3 of the 4 features available (sepal length, sepal width, petal length). This will make it easier for us to visualize the results of the model in 3D.\n",
    "\n",
    "Because we know that the class attribute has three levels (virginica, setosa, versicolor), we decide to set k=3."
   ]
  },
  {
   "cell_type": "code",
   "execution_count": 11,
   "metadata": {
    "executionInfo": {
     "elapsed": 192,
     "status": "ok",
     "timestamp": 1657586547888,
     "user": {
      "displayName": "Sonja Streuber",
      "userId": "03872648719424952237"
     },
     "user_tz": 300
    },
    "id": "SsuBNy6DhpI2"
   },
   "outputs": [],
   "source": [
    "# Build kmeans\n",
    "\n",
    "# kmeans_3 = KMeans(n_clusters=3, verbose = 1) # uncomment if you want to see how it cycles through the centroid assignment\n",
    "kmeans_3 = KMeans(n_clusters=3)"
   ]
  },
  {
   "cell_type": "code",
   "execution_count": 12,
   "metadata": {
    "executionInfo": {
     "elapsed": 398,
     "status": "ok",
     "timestamp": 1657586548284,
     "user": {
      "displayName": "Sonja Streuber",
      "userId": "03872648719424952237"
     },
     "user_tz": 300
    },
    "id": "Lm3xR39lvipg",
    "scrolled": true
   },
   "outputs": [],
   "source": [
    "# Fit a K-Means model to the data\n",
    "\n",
    "kmeans_iris = kmeans_3.fit(iris_data[['sepal length (cm)', 'sepal width (cm)', 'petal length (cm)']])"
   ]
  },
  {
   "cell_type": "markdown",
   "metadata": {
    "id": "lluyrFLXhpI5"
   },
   "source": [
    "Let's visualize our K-Means model's results (visualization code adapted from an example in scikit-learn documentation)."
   ]
  },
  {
   "cell_type": "code",
   "execution_count": 13,
   "metadata": {
    "colab": {
     "base_uri": "https://localhost:8080/",
     "height": 247
    },
    "executionInfo": {
     "elapsed": 801,
     "status": "ok",
     "timestamp": 1657586549079,
     "user": {
      "displayName": "Sonja Streuber",
      "userId": "03872648719424952237"
     },
     "user_tz": 300
    },
    "id": "wXReUITJhpI5",
    "outputId": "7a63dd75-4547-4abe-db15-5f37759aa807"
   },
   "outputs": [
    {
     "data": {
      "text/plain": [
       "<Figure size 400x300 with 0 Axes>"
      ]
     },
     "metadata": {},
     "output_type": "display_data"
    }
   ],
   "source": [
    "fig = plt.figure(1, figsize=(4, 3))\n",
    "ax = Axes3D(fig, rect=[0, 0, .95, 1], elev=48, azim=134)\n",
    "\n",
    "X=iris.data\n",
    "y=kmeans_iris.labels_ # These are the cluster labels that kMeans has assigned\n",
    "\n",
    "for name, label in [('Setosa', 0),\n",
    "                    ('Versicolor', 1),\n",
    "                    ('Virginica', 2)]:\n",
    "    ax.text3D(X[y == label, 3].mean(),\n",
    "              X[y == label, 0].mean() + 1.5,\n",
    "              X[y == label, 2].mean(), name,\n",
    "              horizontalalignment='center',\n",
    "              bbox=dict(alpha=.5, edgecolor='w', facecolor='w'))\n",
    "# Reorder the labels to have colors matching the cluster results\n",
    "\n",
    "y = np.choose(iris_target.target, [1, 2, 0]).astype(float)\n",
    "\n",
    "ax.scatter(iris_data.iloc[:, 3], iris_data.iloc[:, 0], iris_data.iloc[:, 2], c=y.astype(float))\n",
    "ax.w_xaxis.set_ticklabels([])\n",
    "ax.w_yaxis.set_ticklabels([])\n",
    "ax.w_zaxis.set_ticklabels([])\n",
    "ax.set_xlabel('Petal width')\n",
    "ax.set_ylabel('Sepal length')\n",
    "ax.set_zlabel('Petal length')\n",
    "ax.set_title('kMeans Output with k=3')\n",
    "plt.show()"
   ]
  },
  {
   "cell_type": "markdown",
   "metadata": {
    "id": "O7Q7w5h2hpI8"
   },
   "source": [
    "### **3.2.4 Quality Check!**\n",
    "**Let's cheat!**\n",
    "\n",
    "We already know that we should have discovered three clusters because the original dataset contains three types of irises in the species class. So, let's compare the clusters that we have discovered with the actual labels in the species attribute."
   ]
  },
  {
   "cell_type": "code",
   "execution_count": 13,
   "metadata": {
    "colab": {
     "base_uri": "https://localhost:8080/",
     "height": 247
    },
    "executionInfo": {
     "elapsed": 358,
     "status": "ok",
     "timestamp": 1657586549435,
     "user": {
      "displayName": "Sonja Streuber",
      "userId": "03872648719424952237"
     },
     "user_tz": 300
    },
    "id": "cchXZoCJhpI9",
    "outputId": "19f5bd42-0f23-4049-f25c-c96565bc077c",
    "scrolled": true
   },
   "outputs": [
    {
     "name": "stderr",
     "output_type": "stream",
     "text": [
      "C:\\Users\\User\\AppData\\Local\\Temp\\ipykernel_10908\\600943957.py:20: MatplotlibDeprecationWarning: The w_xaxis attribute was deprecated in Matplotlib 3.1 and will be removed in 3.8. Use xaxis instead.\n",
      "  ax.w_xaxis.set_ticklabels([])\n",
      "C:\\Users\\User\\AppData\\Local\\Temp\\ipykernel_10908\\600943957.py:21: MatplotlibDeprecationWarning: The w_yaxis attribute was deprecated in Matplotlib 3.1 and will be removed in 3.8. Use yaxis instead.\n",
      "  ax.w_yaxis.set_ticklabels([])\n",
      "C:\\Users\\User\\AppData\\Local\\Temp\\ipykernel_10908\\600943957.py:22: MatplotlibDeprecationWarning: The w_zaxis attribute was deprecated in Matplotlib 3.1 and will be removed in 3.8. Use zaxis instead.\n",
      "  ax.w_zaxis.set_ticklabels([])\n"
     ]
    },
    {
     "data": {
      "text/plain": [
       "<Figure size 400x300 with 0 Axes>"
      ]
     },
     "metadata": {},
     "output_type": "display_data"
    }
   ],
   "source": [
    "# Plot the ground truth\n",
    "\n",
    "X = iris.data\n",
    "y = iris.target\n",
    "fig = plt.figure(1, figsize=(4, 3))\n",
    "ax = Axes3D(fig, rect=[0, 0, .95, 1], elev=48, azim=134)\n",
    "\n",
    "for name, label in [('Setosa', 0),\n",
    "                    ('Versicolor', 1),\n",
    "                    ('Virginica', 2)]:\n",
    "    ax.text3D(X[y == label, 3].mean(),\n",
    "              X[y == label, 0].mean() + 1.5,\n",
    "              X[y == label, 2].mean(), name,\n",
    "              horizontalalignment='center',\n",
    "              bbox=dict(alpha=.5, edgecolor='w', facecolor='w'))\n",
    "# Reorder the labels to have colors matching the cluster results\n",
    "y = np.choose(iris_target.target, [1, 2, 0]).astype(float)\n",
    "ax.scatter(iris_data.iloc[:, 3], iris_data.iloc[:, 0], iris_data.iloc[:, 2], c=y)\n",
    "\n",
    "ax.w_xaxis.set_ticklabels([])\n",
    "ax.w_yaxis.set_ticklabels([])\n",
    "ax.w_zaxis.set_ticklabels([])\n",
    "ax.set_xlabel('Petal width')\n",
    "ax.set_ylabel('Sepal length')\n",
    "ax.set_zlabel('Petal length')\n",
    "ax.set_title('Ground truth')\n",
    "plt.show()"
   ]
  },
  {
   "cell_type": "markdown",
   "metadata": {
    "id": "48dmjdDsTniU"
   },
   "source": [
    "### **3.2.5 The BIG Question**\n",
    "The next question is: How big should k be? Let's experiment!"
   ]
  },
  {
   "cell_type": "code",
   "execution_count": 14,
   "metadata": {
    "colab": {
     "base_uri": "https://localhost:8080/",
     "height": 477
    },
    "executionInfo": {
     "elapsed": 1435,
     "status": "ok",
     "timestamp": 1657586550863,
     "user": {
      "displayName": "Sonja Streuber",
      "userId": "03872648719424952237"
     },
     "user_tz": 300
    },
    "id": "dDhIth4L3QnT",
    "outputId": "9c483d31-f765-4b30-f548-54a6c93eed8c"
   },
   "outputs": [
    {
     "name": "stderr",
     "output_type": "stream",
     "text": [
      "C:\\Users\\User\\anaconda3\\Lib\\site-packages\\sklearn\\cluster\\_kmeans.py:870: FutureWarning: The default value of `n_init` will change from 10 to 'auto' in 1.4. Set the value of `n_init` explicitly to suppress the warning\n",
      "  warnings.warn(\n",
      "C:\\Users\\User\\anaconda3\\Lib\\site-packages\\sklearn\\cluster\\_kmeans.py:1382: UserWarning: KMeans is known to have a memory leak on Windows with MKL, when there are less chunks than available threads. You can avoid it by setting the environment variable OMP_NUM_THREADS=1.\n",
      "  warnings.warn(\n",
      "C:\\Users\\User\\AppData\\Local\\Temp\\ipykernel_10908\\395372248.py:17: MatplotlibDeprecationWarning: The w_xaxis attribute was deprecated in Matplotlib 3.1 and will be removed in 3.8. Use xaxis instead.\n",
      "  ax.w_xaxis.set_ticklabels([])\n",
      "C:\\Users\\User\\AppData\\Local\\Temp\\ipykernel_10908\\395372248.py:18: MatplotlibDeprecationWarning: The w_yaxis attribute was deprecated in Matplotlib 3.1 and will be removed in 3.8. Use yaxis instead.\n",
      "  ax.w_yaxis.set_ticklabels([])\n",
      "C:\\Users\\User\\AppData\\Local\\Temp\\ipykernel_10908\\395372248.py:19: MatplotlibDeprecationWarning: The w_zaxis attribute was deprecated in Matplotlib 3.1 and will be removed in 3.8. Use zaxis instead.\n",
      "  ax.w_zaxis.set_ticklabels([])\n",
      "C:\\Users\\User\\AppData\\Local\\Temp\\ipykernel_10908\\395372248.py:24: MatplotlibDeprecationWarning: The dist attribute was deprecated in Matplotlib 3.6 and will be removed two minor releases later.\n",
      "  ax.dist = 12\n",
      "C:\\Users\\User\\anaconda3\\Lib\\site-packages\\sklearn\\cluster\\_kmeans.py:870: FutureWarning: The default value of `n_init` will change from 10 to 'auto' in 1.4. Set the value of `n_init` explicitly to suppress the warning\n",
      "  warnings.warn(\n",
      "C:\\Users\\User\\anaconda3\\Lib\\site-packages\\sklearn\\cluster\\_kmeans.py:1382: UserWarning: KMeans is known to have a memory leak on Windows with MKL, when there are less chunks than available threads. You can avoid it by setting the environment variable OMP_NUM_THREADS=1.\n",
      "  warnings.warn(\n",
      "C:\\Users\\User\\AppData\\Local\\Temp\\ipykernel_10908\\395372248.py:17: MatplotlibDeprecationWarning: The w_xaxis attribute was deprecated in Matplotlib 3.1 and will be removed in 3.8. Use xaxis instead.\n",
      "  ax.w_xaxis.set_ticklabels([])\n",
      "C:\\Users\\User\\AppData\\Local\\Temp\\ipykernel_10908\\395372248.py:18: MatplotlibDeprecationWarning: The w_yaxis attribute was deprecated in Matplotlib 3.1 and will be removed in 3.8. Use yaxis instead.\n",
      "  ax.w_yaxis.set_ticklabels([])\n",
      "C:\\Users\\User\\AppData\\Local\\Temp\\ipykernel_10908\\395372248.py:19: MatplotlibDeprecationWarning: The w_zaxis attribute was deprecated in Matplotlib 3.1 and will be removed in 3.8. Use zaxis instead.\n",
      "  ax.w_zaxis.set_ticklabels([])\n",
      "C:\\Users\\User\\AppData\\Local\\Temp\\ipykernel_10908\\395372248.py:24: MatplotlibDeprecationWarning: The dist attribute was deprecated in Matplotlib 3.6 and will be removed two minor releases later.\n",
      "  ax.dist = 12\n"
     ]
    },
    {
     "data": {
      "text/plain": [
       "<Figure size 400x300 with 0 Axes>"
      ]
     },
     "metadata": {},
     "output_type": "display_data"
    },
    {
     "data": {
      "text/plain": [
       "<Figure size 400x300 with 0 Axes>"
      ]
     },
     "metadata": {},
     "output_type": "display_data"
    }
   ],
   "source": [
    "# Now we plot the output of our kMeans analysis, for k=3 and k=8\n",
    "\n",
    "estimators = [('k_means_iris_8', KMeans(n_clusters=8)),\n",
    "              ('k_means_iris_3', KMeans(n_clusters=3))]\n",
    "\n",
    "fignum = 1\n",
    "titles = ['8 clusters', '3 clusters']\n",
    "for name, est in estimators:\n",
    "    fig = plt.figure(fignum, figsize=(4, 3))\n",
    "    ax = Axes3D(fig, rect=[0, 0, .95, 1], elev=48, azim=134)\n",
    "    est.fit(X)\n",
    "    labels = est.labels_\n",
    "\n",
    "    ax.scatter(X[:, 3], X[:, 0], X[:, 2],\n",
    "               c=labels.astype(float), edgecolor='k')\n",
    "\n",
    "    ax.w_xaxis.set_ticklabels([])\n",
    "    ax.w_yaxis.set_ticklabels([])\n",
    "    ax.w_zaxis.set_ticklabels([])\n",
    "    ax.set_xlabel('Petal width')\n",
    "    ax.set_ylabel('Sepal length')\n",
    "    ax.set_zlabel('Petal length')\n",
    "    ax.set_title(titles[fignum - 1])\n",
    "    ax.dist = 12\n",
    "    fignum = fignum + 1"
   ]
  },
  {
   "cell_type": "markdown",
   "metadata": {
    "id": "jACMuHJGT0-R"
   },
   "source": [
    "8 clusters does not show any improvement. So, we're back to our initial 3. Let's see how well the clusters are defined:"
   ]
  },
  {
   "cell_type": "code",
   "execution_count": 13,
   "metadata": {
    "colab": {
     "base_uri": "https://localhost:8080/"
    },
    "executionInfo": {
     "elapsed": 184,
     "status": "ok",
     "timestamp": 1657586551041,
     "user": {
      "displayName": "Sonja Streuber",
      "userId": "03872648719424952237"
     },
     "user_tz": 300
    },
    "id": "1j4dDkDkhpJG",
    "outputId": "05b3aa89-d51e-480f-d996-e2bdf80c1268"
   },
   "outputs": [
    {
     "name": "stdout",
     "output_type": "stream",
     "text": [
      "(v, 2)    58\n",
      "(s, 1)    50\n",
      "(v, 0)    42\n",
      "dtype: int64\n"
     ]
    }
   ],
   "source": [
    "print(pd.Series([(iris_target_name.loc[i][0], kmeans_iris.labels_[i]) for i in range(len(iris.target))]).value_counts())"
   ]
  },
  {
   "cell_type": "markdown",
   "metadata": {
    "id": "H5rQPv-rhpJI"
   },
   "source": [
    "As the above visualizations and statistics show, our simple model with k=3 has done a decent task of classifying the datapoints into separate clusters. You can see that the two plots resemble each other. When compared with actual classes, the model clustered together some datapoints belonging to different classes. Although the predictions aren’t perfect, they come close. That’s a win for the algorithm."
   ]
  },
  {
   "cell_type": "markdown",
   "metadata": {
    "id": "dFudC1AqhpJJ"
   },
   "source": [
    "## **3.3 Elbow method for finding optimal number of clusters**\n",
    "In unsupervised learning, you rarely get an output that’s 100 percent accurate because real-world data is just not that simple.\n",
    "Apart from simplicity of the dataset, the reason why the above model performed so well was because we knew beforehand the optimal numbers of clusters, i.e. 3. Out in the wild, you won’t know how many clusters to choose (or any initialization parameter for other clustering algorithms). Such parameter-tuning is critical.\n",
    "\n",
    "One of the methods for determining the optimal number of clusters for the K-Means algorithm is the elbow method.\n",
    "\n",
    "The idea of the elbow method is to run k-means clustering on the dataset for a range of values of k (say, k from 1 to 10 in the examples above), and for each value of k calculate the sum of squared errors (SSE). Then, plot a line chart of the SSE for each value of k. If the line chart looks like an arm, then the \"elbow\" on the arm is the value of k that is the best.\n",
    "\n",
    "The idea is that we want a small SSE, but that the SSE tends to decrease toward 0 as we increase k (the SSE is 0 when k is equal to the number of data points in the dataset, because then each data point is its own cluster, and there is no error between it and the center of its cluster). So our goal is to choose a small value of k that still has a low SSE, and the elbow usually represents where we start to have diminishing returns by increasing k.\n",
    "\n",
    "**Be sure to execute the code below to see how the elbow builds!**"
   ]
  },
  {
   "cell_type": "code",
   "execution_count": 14,
   "metadata": {
    "colab": {
     "base_uri": "https://localhost:8080/",
     "height": 429
    },
    "executionInfo": {
     "elapsed": 22201,
     "status": "ok",
     "timestamp": 1657586573237,
     "user": {
      "displayName": "Sonja Streuber",
      "userId": "03872648719424952237"
     },
     "user_tz": 300
    },
    "id": "fdlJxydfhpJK",
    "outputId": "53d43cb0-150c-433a-f96b-9c22f00f6f01"
   },
   "outputs": [
    {
     "name": "stdout",
     "output_type": "stream",
     "text": [
      "k:  1\n",
      "k:  2\n",
      "k:  3\n",
      "k:  4\n",
      "k:  5\n",
      "k:  6\n",
      "k:  7\n",
      "k:  8\n",
      "k:  9\n"
     ]
    },
    {
     "data": {
      "image/png": "[encoded data removed]",
      "text/plain": [
       "<Figure size 640x480 with 1 Axes>"
      ]
     },
     "metadata": {},
     "output_type": "display_data"
    }
   ],
   "source": [
    "# Elbow method\n",
    "\n",
    "def elbow_plot(data, maxK=10, seed_centroids=None):\n",
    "    \"\"\"\n",
    "        parameters:\n",
    "        - data: pandas DataFrame (data to be fitted)\n",
    "        - maxK (default = 10): integer (maximum number of clusters with which to run k-means)\n",
    "        - seed_centroids (default = None ): float (initial value of centroids for k-means)\n",
    "    \"\"\"\n",
    "    sse = {}\n",
    "    for k in range(1, maxK):\n",
    "        print(\"k: \", k)\n",
    "        if seed_centroids is not None:\n",
    "            seeds = seed_centroids.head(k)\n",
    "            kmeans = KMeans(n_clusters=k, max_iter=500, n_init=100, random_state=0, init=np.reshape(seeds, (k,1))).fit(data)\n",
    "            data[\"clusters\"] = kmeans.labels_\n",
    "        else:\n",
    "            kmeans = KMeans(n_clusters=k, max_iter=300, n_init=100, random_state=0).fit(data)\n",
    "            data[\"clusters\"] = kmeans.labels_\n",
    "        # Inertia: Sum of distances of samples to their closest cluster center\n",
    "        sse[k] = kmeans.inertia_\n",
    "    plt.figure()\n",
    "    plt.plot(list(sse.keys()), list(sse.values()))\n",
    "    plt.show()\n",
    "    return\n",
    "\n",
    "elbow_plot(iris_data[['sepal length (cm)', 'sepal width (cm)', 'petal length (cm)']], maxK=10)"
   ]
  },
  {
   "cell_type": "markdown",
   "metadata": {
    "id": "suIMoyPJhpJM"
   },
   "source": [
    "As we can see from the above plot, 2 or 3 look like a good choice for number of clusters--2 because that's where the really obvious break occurs, and 3 because the slope of the curve becomes pretty linear after 3.\n",
    "\n",
    "Wait ... 2? Or 3?\n",
    "\n",
    "If you scroll up to the graphics, you'll be able to tell why: Look how the virginica and the versicolor \"clusters\" are intertwined! We can only separate them if we really know they are there, but they are still discoverable. That's why the elbow curve changes direction at 2 clusters, and becomes linear after 3. The trick is to ***look for*** the greatest difference in slope but ***pick*** the point **AFTER** which the slope decreases in a linear fashion. So, the correct answer is 3.\n",
    "\n",
    "As you can see, the elbow criterion doesn't always give you very clear answers. In cases like this, we might try a different method for determining the optimal k, such as [computing silhouette scores](https://scikit-learn.org/stable/modules/generated/sklearn.metrics.silhouette_score.html), or we might even reevaluate whether clustering is the right thing to do on our data."
   ]
  },
  {
   "cell_type": "markdown",
   "metadata": {
    "id": "HrJV42SdhpJN"
   },
   "source": [
    "## Your Turn\n",
    "**Exercise 1: kMeans for the dog_data**\n",
    "\n",
    "\n",
    "Make an elbow plot for the dog data above and then re-run the kMeans analysis with the optimal k. Plot the results."
   ]
  },
  {
   "cell_type": "code",
   "execution_count": 15,
   "metadata": {
    "executionInfo": {
     "elapsed": 8,
     "status": "ok",
     "timestamp": 1657586573238,
     "user": {
      "displayName": "Sonja Streuber",
      "userId": "03872648719424952237"
     },
     "user_tz": 300
    },
    "id": "vI1a8J9ShpJN",
    "scrolled": false
   },
   "outputs": [
    {
     "name": "stdout",
     "output_type": "stream",
     "text": [
      "k:  1\n",
      "k:  2\n",
      "k:  3\n",
      "k:  4\n",
      "k:  5\n",
      "k:  6\n",
      "k:  7\n",
      "k:  8\n",
      "k:  9\n"
     ]
    },
    {
     "data": {
      "image/png": "[encoded data removed]",
      "text/plain": [
       "<Figure size 640x480 with 1 Axes>"
      ]
     },
     "metadata": {},
     "output_type": "display_data"
    }
   ],
   "source": [
    "# Start with the elbow plot in this cell\n",
    "elbow_plot(dog_data)"
   ]
  },
  {
   "cell_type": "code",
   "execution_count": 16,
   "metadata": {},
   "outputs": [
    {
     "name": "stdout",
     "output_type": "stream",
     "text": [
      "k:  1\n",
      "k:  2\n",
      "k:  3\n",
      "k:  4\n",
      "k:  5\n",
      "k:  6\n",
      "k:  7\n",
      "k:  8\n",
      "k:  9\n"
     ]
    },
    {
     "data": {
      "image/png": "[encoded data removed]",
      "text/plain": [
       "<Figure size 640x480 with 1 Axes>"
      ]
     },
     "metadata": {},
     "output_type": "display_data"
    }
   ],
   "source": [
    "elbow_plot(dog_data_norm)"
   ]
  },
  {
   "cell_type": "code",
   "execution_count": 20,
   "metadata": {
    "executionInfo": {
     "elapsed": 7,
     "status": "ok",
     "timestamp": 1657586573238,
     "user": {
      "displayName": "Sonja Streuber",
      "userId": "03872648719424952237"
     },
     "user_tz": 300
    },
    "id": "D4IO1gath3kw"
   },
   "outputs": [],
   "source": [
    "# Now run k Means with the optimal k you have just determined."
   ]
  },
  {
   "cell_type": "markdown",
   "metadata": {
    "id": "QAEfIjZOhpJQ"
   },
   "source": [
    "# **4. Hierarchical Clustering**\n",
    "For the next approach we don’t specify how many clusters to make. Instead the algorithm starts with each instance in its own cluster. At each iteration of the algorithm it combines the two most similar clusters into one. It repeatedly does this until there is only one cluster. This is called hierarchical clustering and its name makes sense. The running of the algorithm\n",
    "results in one cluster, which consists of two sub-clusters. Each of those two sub-clusters in turn, consist of 2 sub-sub clusters and so on.\n",
    "\n",
    "We have 3 types of clusters:\n",
    "1. **Single-Link**: In single-linkage clustering we define the distance between two clusters as the shortest\n",
    "distance between any member of one cluster to any member of the other. \n",
    "2. **Complete-Link**: In complete-linkage clustering we define the distance between two clusters as the greatest\n",
    "distance between any member of one cluster to any member of the other. \n",
    "3. **Average-Link**: In average-linkage clustering we define the distance between two clusters as the average\n",
    "distance between any member of one cluster to any member of the other. \n",
    "\n",
    "<img src = 'https://raw.githubusercontent.com/shstreuber/Data-Mining/master/images/The-three-linkage-types-of-hierarchical-clustering-single-link-complete-link-and.png'>\n",
    "\n",
    "For this purpose, we use the Euclidian distance again.\n",
    "\n",
    "\n",
    "Read more about clustering [here](https://scikit-learn.org/stable/modules/clustering.html#hierarchical-clustering)."
   ]
  },
  {
   "cell_type": "code",
   "execution_count": 14,
   "metadata": {
    "colab": {
     "base_uri": "https://localhost:8080/",
     "height": 425
    },
    "executionInfo": {
     "elapsed": 211,
     "status": "ok",
     "timestamp": 1657586573443,
     "user": {
      "displayName": "Sonja Streuber",
      "userId": "03872648719424952237"
     },
     "user_tz": 300
    },
    "id": "hHA3go1thpJQ",
    "outputId": "078a251f-3bb1-4721-e3bf-3e0c2180d243"
   },
   "outputs": [
    {
     "data": {
      "text/html": [
       "<div>\n",
       "<style scoped>\n",
       "    .dataframe tbody tr th:only-of-type {\n",
       "        vertical-align: middle;\n",
       "    }\n",
       "\n",
       "    .dataframe tbody tr th {\n",
       "        vertical-align: top;\n",
       "    }\n",
       "\n",
       "    .dataframe thead th {\n",
       "        text-align: right;\n",
       "    }\n",
       "</style>\n",
       "<table border=\"1\" class=\"dataframe\">\n",
       "  <thead>\n",
       "    <tr style=\"text-align: right;\">\n",
       "      <th></th>\n",
       "      <th>height (inches)</th>\n",
       "      <th>weight (pounds)</th>\n",
       "    </tr>\n",
       "    <tr>\n",
       "      <th>breed</th>\n",
       "      <th></th>\n",
       "      <th></th>\n",
       "    </tr>\n",
       "  </thead>\n",
       "  <tbody>\n",
       "    <tr>\n",
       "      <th>Border Collie</th>\n",
       "      <td>20</td>\n",
       "      <td>45</td>\n",
       "    </tr>\n",
       "    <tr>\n",
       "      <th>Boston Terrier</th>\n",
       "      <td>16</td>\n",
       "      <td>20</td>\n",
       "    </tr>\n",
       "    <tr>\n",
       "      <th>Brittany Spaniel</th>\n",
       "      <td>18</td>\n",
       "      <td>35</td>\n",
       "    </tr>\n",
       "    <tr>\n",
       "      <th>Bullmastiff</th>\n",
       "      <td>27</td>\n",
       "      <td>120</td>\n",
       "    </tr>\n",
       "    <tr>\n",
       "      <th>Chihuahua</th>\n",
       "      <td>8</td>\n",
       "      <td>8</td>\n",
       "    </tr>\n",
       "    <tr>\n",
       "      <th>German Shepherd</th>\n",
       "      <td>25</td>\n",
       "      <td>78</td>\n",
       "    </tr>\n",
       "    <tr>\n",
       "      <th>Golden Retriever</th>\n",
       "      <td>23</td>\n",
       "      <td>70</td>\n",
       "    </tr>\n",
       "    <tr>\n",
       "      <th>Great Dane</th>\n",
       "      <td>32</td>\n",
       "      <td>160</td>\n",
       "    </tr>\n",
       "    <tr>\n",
       "      <th>Portuguese Water Dog</th>\n",
       "      <td>21</td>\n",
       "      <td>50</td>\n",
       "    </tr>\n",
       "    <tr>\n",
       "      <th>Standard Poodle</th>\n",
       "      <td>19</td>\n",
       "      <td>65</td>\n",
       "    </tr>\n",
       "    <tr>\n",
       "      <th>Yorkshire Terrier</th>\n",
       "      <td>6</td>\n",
       "      <td>7</td>\n",
       "    </tr>\n",
       "  </tbody>\n",
       "</table>\n",
       "</div>"
      ],
      "text/plain": [
       "                      height (inches)  weight (pounds)\n",
       "breed                                                 \n",
       "Border Collie                      20               45\n",
       "Boston Terrier                     16               20\n",
       "Brittany Spaniel                   18               35\n",
       "Bullmastiff                        27              120\n",
       "Chihuahua                           8                8\n",
       "German Shepherd                    25               78\n",
       "Golden Retriever                   23               70\n",
       "Great Dane                         32              160\n",
       "Portuguese Water Dog               21               50\n",
       "Standard Poodle                    19               65\n",
       "Yorkshire Terrier                   6                7"
      ]
     },
     "execution_count": 14,
     "metadata": {},
     "output_type": "execute_result"
    }
   ],
   "source": [
    "from sklearn.cluster import AgglomerativeClustering\n",
    "\n",
    "dog_data = pd.read_csv('https://raw.githubusercontent.com/shstreuber/Data-Mining/master/data/dogs.csv')\n",
    "dog_data = dog_data.set_index('breed')\n",
    "dog_data"
   ]
  },
  {
   "cell_type": "markdown",
   "metadata": {
    "id": "w1_ZnAXUV73q"
   },
   "source": [
    "## **4.1 Agglomerative Clustering**\n",
    "We are using the AgglomerativeClustering() function [link text](https://scikit-learn.org/stable/modules/generated/sklearn.cluster.AgglomerativeClustering.html) from scikit-learn.cluster.\n",
    "\n",
    "The AgglomerativeClustering object performs a hierarchical clustering using a bottom up approach: each observation starts in its own cluster, and clusters are successively merged together. The linkage criteria (see above) determines the metric used for the merge strategy."
   ]
  },
  {
   "cell_type": "code",
   "execution_count": 15,
   "metadata": {
    "colab": {
     "base_uri": "https://localhost:8080/"
    },
    "executionInfo": {
     "elapsed": 212,
     "status": "ok",
     "timestamp": 1657586573645,
     "user": {
      "displayName": "Sonja Streuber",
      "userId": "03872648719424952237"
     },
     "user_tz": 300
    },
    "id": "JAVj5Vm2hpJU",
    "outputId": "2432de09-436e-4e96-8774-d01d7dedeec7"
   },
   "outputs": [
    {
     "data": {
      "text/html": [
       "<style>#sk-container-id-1 {color: black;background-color: white;}#sk-container-id-1 pre{padding: 0;}#sk-container-id-1 div.sk-toggleable {background-color: white;}#sk-container-id-1 label.sk-toggleable__label {cursor: pointer;display: block;width: 100%;margin-bottom: 0;padding: 0.3em;box-sizing: border-box;text-align: center;}#sk-container-id-1 label.sk-toggleable__label-arrow:before {content: \"▸\";float: left;margin-right: 0.25em;color: #696969;}#sk-container-id-1 label.sk-toggleable__label-arrow:hover:before {color: black;}#sk-container-id-1 div.sk-estimator:hover label.sk-toggleable__label-arrow:before {color: black;}#sk-container-id-1 div.sk-toggleable__content {max-height: 0;max-width: 0;overflow: hidden;text-align: left;background-color: #f0f8ff;}#sk-container-id-1 div.sk-toggleable__content pre {margin: 0.2em;color: black;border-radius: 0.25em;background-color: #f0f8ff;}#sk-container-id-1 input.sk-toggleable__control:checked~div.sk-toggleable__content {max-height: 200px;max-width: 100%;overflow: auto;}#sk-container-id-1 input.sk-toggleable__control:checked~label.sk-toggleable__label-arrow:before {content: \"▾\";}#sk-container-id-1 div.sk-estimator input.sk-toggleable__control:checked~label.sk-toggleable__label {background-color: #d4ebff;}#sk-container-id-1 div.sk-label input.sk-toggleable__control:checked~label.sk-toggleable__label {background-color: #d4ebff;}#sk-container-id-1 input.sk-hidden--visually {border: 0;clip: rect(1px 1px 1px 1px);clip: rect(1px, 1px, 1px, 1px);height: 1px;margin: -1px;overflow: hidden;padding: 0;position: absolute;width: 1px;}#sk-container-id-1 div.sk-estimator {font-family: monospace;background-color: #f0f8ff;border: 1px dotted black;border-radius: 0.25em;box-sizing: border-box;margin-bottom: 0.5em;}#sk-container-id-1 div.sk-estimator:hover {background-color: #d4ebff;}#sk-container-id-1 div.sk-parallel-item::after {content: \"\";width: 100%;border-bottom: 1px solid gray;flex-grow: 1;}#sk-container-id-1 div.sk-label:hover label.sk-toggleable__label {background-color: #d4ebff;}#sk-container-id-1 div.sk-serial::before {content: \"\";position: absolute;border-left: 1px solid gray;box-sizing: border-box;top: 0;bottom: 0;left: 50%;z-index: 0;}#sk-container-id-1 div.sk-serial {display: flex;flex-direction: column;align-items: center;background-color: white;padding-right: 0.2em;padding-left: 0.2em;position: relative;}#sk-container-id-1 div.sk-item {position: relative;z-index: 1;}#sk-container-id-1 div.sk-parallel {display: flex;align-items: stretch;justify-content: center;background-color: white;position: relative;}#sk-container-id-1 div.sk-item::before, #sk-container-id-1 div.sk-parallel-item::before {content: \"\";position: absolute;border-left: 1px solid gray;box-sizing: border-box;top: 0;bottom: 0;left: 50%;z-index: -1;}#sk-container-id-1 div.sk-parallel-item {display: flex;flex-direction: column;z-index: 1;position: relative;background-color: white;}#sk-container-id-1 div.sk-parallel-item:first-child::after {align-self: flex-end;width: 50%;}#sk-container-id-1 div.sk-parallel-item:last-child::after {align-self: flex-start;width: 50%;}#sk-container-id-1 div.sk-parallel-item:only-child::after {width: 0;}#sk-container-id-1 div.sk-dashed-wrapped {border: 1px dashed gray;margin: 0 0.4em 0.5em 0.4em;box-sizing: border-box;padding-bottom: 0.4em;background-color: white;}#sk-container-id-1 div.sk-label label {font-family: monospace;font-weight: bold;display: inline-block;line-height: 1.2em;}#sk-container-id-1 div.sk-label-container {text-align: center;}#sk-container-id-1 div.sk-container {/* jupyter's `normalize.less` sets `[hidden] { display: none; }` but bootstrap.min.css set `[hidden] { display: none !important; }` so we also need the `!important` here to be able to override the default hidden behavior on the sphinx rendered scikit-learn.org. See: https://github.com/scikit-learn/scikit-learn/issues/21755 */display: inline-block !important;position: relative;}#sk-container-id-1 div.sk-text-repr-fallback {display: none;}</style><div id=\"sk-container-id-1\" class=\"sk-top-container\"><div class=\"sk-text-repr-fallback\"><pre>AgglomerativeClustering(affinity=&#x27;euclidean&#x27;)</pre><b>In a Jupyter environment, please rerun this cell to show the HTML representation or trust the notebook. <br />On GitHub, the HTML representation is unable to render, please try loading this page with nbviewer.org.</b></div><div class=\"sk-container\" hidden><div class=\"sk-item\"><div class=\"sk-estimator sk-toggleable\"><input class=\"sk-toggleable__control sk-hidden--visually\" id=\"sk-estimator-id-1\" type=\"checkbox\" checked><label for=\"sk-estimator-id-1\" class=\"sk-toggleable__label sk-toggleable__label-arrow\">AgglomerativeClustering</label><div class=\"sk-toggleable__content\"><pre>AgglomerativeClustering(affinity=&#x27;euclidean&#x27;)</pre></div></div></div></div></div>"
      ],
      "text/plain": [
       "AgglomerativeClustering(affinity='euclidean')"
      ]
     },
     "execution_count": 15,
     "metadata": {},
     "output_type": "execute_result"
    }
   ],
   "source": [
    "clusterer = AgglomerativeClustering(affinity='euclidean', linkage='ward')\n",
    "clusterer.fit(dog_data_norm)"
   ]
  },
  {
   "cell_type": "code",
   "execution_count": 16,
   "metadata": {
    "colab": {
     "base_uri": "https://localhost:8080/"
    },
    "executionInfo": {
     "elapsed": 11,
     "status": "ok",
     "timestamp": 1657586573646,
     "user": {
      "displayName": "Sonja Streuber",
      "userId": "03872648719424952237"
     },
     "user_tz": 300
    },
    "id": "ueGUrGUMhpJW",
    "outputId": "ff7bdb4e-fa4b-4cad-eeb8-9d4d1e1aa72c"
   },
   "outputs": [
    {
     "data": {
      "text/plain": [
       "array([0, 0, 0, 1, 0, 0, 0, 1, 0, 0, 0], dtype=int64)"
      ]
     },
     "execution_count": 16,
     "metadata": {},
     "output_type": "execute_result"
    }
   ],
   "source": [
    "clusterer.labels_"
   ]
  },
  {
   "cell_type": "markdown",
   "metadata": {
    "id": "OGlfHY-NhpJZ"
   },
   "source": [
    "So here the first dog breed, Border Collie, belongs to cluster 0. Keep in mind that in kMeans there is a random element--the selection of the initial centroids, but **in hierarchical clustering there is no randomness** so you should get the exact same answer I have here. "
   ]
  },
  {
   "cell_type": "markdown",
   "metadata": {
    "id": "vffYOqzfjv54"
   },
   "source": [
    "## **4.2 Hierarchical Clustering and Dendrograms**\n",
    "Remember that the hierarchical clustering algorithm constructs a tree - specifically, a dendrogram. To view that requires some imagination. You can print dendrograms in different ways. A very plain and ugly way is here:"
   ]
  },
  {
   "cell_type": "code",
   "execution_count": 17,
   "metadata": {
    "colab": {
     "base_uri": "https://localhost:8080/"
    },
    "executionInfo": {
     "elapsed": 160,
     "status": "ok",
     "timestamp": 1657586573800,
     "user": {
      "displayName": "Sonja Streuber",
      "userId": "03872648719424952237"
     },
     "user_tz": 300
    },
    "id": "kTDyI0lHhpJZ",
    "outputId": "1cc93c88-3d30-4ae9-bde2-ec7ac8d92a2d"
   },
   "outputs": [
    {
     "data": {
      "text/plain": [
       "[{'node_id': 11, 'left': 0, 'right': 8},\n",
       " {'node_id': 12, 'left': 4, 'right': 10},\n",
       " {'node_id': 13, 'left': 5, 'right': 6},\n",
       " {'node_id': 14, 'left': 1, 'right': 2},\n",
       " {'node_id': 15, 'left': 9, 'right': 11},\n",
       " {'node_id': 16, 'left': 14, 'right': 15},\n",
       " {'node_id': 17, 'left': 3, 'right': 7},\n",
       " {'node_id': 18, 'left': 13, 'right': 16},\n",
       " {'node_id': 19, 'left': 12, 'right': 18},\n",
       " {'node_id': 20, 'left': 17, 'right': 19}]"
      ]
     },
     "execution_count": 17,
     "metadata": {},
     "output_type": "execute_result"
    }
   ],
   "source": [
    "import itertools\n",
    "ii = itertools.count(dog_data_norm.shape[0])\n",
    "[{'node_id': next(ii), 'left': x[0], 'right':x[1]} for x in clusterer.children_]"
   ]
  },
  {
   "cell_type": "markdown",
   "metadata": {
    "id": "6b2Bgm2ihpJd"
   },
   "source": [
    "The first line {'left': 0, 'node_id': 11, 'right': 8} reads like this: \"We combine cluster 0 Border Collie with cluster 8 Portuguese Water Dog to create Cluster 11.\" The next line says we combine 4 Chihuahua with 10 Yorkshire Terrier to create cluster 12. Let's associate index numbers with the dog breed names so that structure is easier to read:"
   ]
  },
  {
   "cell_type": "code",
   "execution_count": 18,
   "metadata": {
    "colab": {
     "base_uri": "https://localhost:8080/",
     "height": 394
    },
    "executionInfo": {
     "elapsed": 10,
     "status": "ok",
     "timestamp": 1657586573802,
     "user": {
      "displayName": "Sonja Streuber",
      "userId": "03872648719424952237"
     },
     "user_tz": 300
    },
    "id": "Ui51DFbnhpJd",
    "outputId": "a086082b-8e5f-4269-f866-5571bcf79fb3",
    "scrolled": true
   },
   "outputs": [
    {
     "data": {
      "text/html": [
       "<div>\n",
       "<style scoped>\n",
       "    .dataframe tbody tr th:only-of-type {\n",
       "        vertical-align: middle;\n",
       "    }\n",
       "\n",
       "    .dataframe tbody tr th {\n",
       "        vertical-align: top;\n",
       "    }\n",
       "\n",
       "    .dataframe thead th {\n",
       "        text-align: right;\n",
       "    }\n",
       "</style>\n",
       "<table border=\"1\" class=\"dataframe\">\n",
       "  <thead>\n",
       "    <tr style=\"text-align: right;\">\n",
       "      <th></th>\n",
       "      <th>breeds</th>\n",
       "    </tr>\n",
       "  </thead>\n",
       "  <tbody>\n",
       "    <tr>\n",
       "      <th>0</th>\n",
       "      <td>Border Collie</td>\n",
       "    </tr>\n",
       "    <tr>\n",
       "      <th>1</th>\n",
       "      <td>Boston Terrier</td>\n",
       "    </tr>\n",
       "    <tr>\n",
       "      <th>2</th>\n",
       "      <td>Brittany Spaniel</td>\n",
       "    </tr>\n",
       "    <tr>\n",
       "      <th>3</th>\n",
       "      <td>Bullmastiff</td>\n",
       "    </tr>\n",
       "    <tr>\n",
       "      <th>4</th>\n",
       "      <td>Chihuahua</td>\n",
       "    </tr>\n",
       "    <tr>\n",
       "      <th>5</th>\n",
       "      <td>German Shepherd</td>\n",
       "    </tr>\n",
       "    <tr>\n",
       "      <th>6</th>\n",
       "      <td>Golden Retriever</td>\n",
       "    </tr>\n",
       "    <tr>\n",
       "      <th>7</th>\n",
       "      <td>Great Dane</td>\n",
       "    </tr>\n",
       "    <tr>\n",
       "      <th>8</th>\n",
       "      <td>Portuguese Water Dog</td>\n",
       "    </tr>\n",
       "    <tr>\n",
       "      <th>9</th>\n",
       "      <td>Standard Poodle</td>\n",
       "    </tr>\n",
       "    <tr>\n",
       "      <th>10</th>\n",
       "      <td>Yorkshire Terrier</td>\n",
       "    </tr>\n",
       "  </tbody>\n",
       "</table>\n",
       "</div>"
      ],
      "text/plain": [
       "                  breeds\n",
       "0          Border Collie\n",
       "1         Boston Terrier\n",
       "2       Brittany Spaniel\n",
       "3            Bullmastiff\n",
       "4              Chihuahua\n",
       "5        German Shepherd\n",
       "6       Golden Retriever\n",
       "7             Great Dane\n",
       "8   Portuguese Water Dog\n",
       "9        Standard Poodle\n",
       "10     Yorkshire Terrier"
      ]
     },
     "execution_count": 18,
     "metadata": {},
     "output_type": "execute_result"
    }
   ],
   "source": [
    "dog_names = pd.DataFrame({'breeds': dog_data_norm.index.values})\n",
    "dog_names"
   ]
  },
  {
   "cell_type": "markdown",
   "metadata": {
    "id": "6PnixyXwhpJh"
   },
   "source": [
    "That makes it easier to interpret lines like:\n",
    "\n",
    "{'left': 1, 'node_id': 14, 'right': 2},\n",
    "We are combining 1 Boston Terrier and 2 Brittany Spaniel.![dendro[1].png](data:image/png;base64,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'sxkaXYgY2xhc3M9IkJ0bkdyb3VwIG10LTEgbXQtbWQtMCBtbC0yIj4KICAgICAgICAgICAgICAgIDxidXR0b24gY2xhc3M9ImJ0biBidG4tb3V0bGluZSBCdG5Hcm91cC1pdGVtIGpzLWFjY2VwdC1hbmFseXRpY3MtY29va2llcyIgdHlwZT0iYnV0dG9uIj5BY2NlcHQ8L2J1dHRvbj4KICAgICAgICAgICAgICAgIDxidXR0b24gY2xhc3M9ImJ0biBidG4tb3V0bGluZSBCdG5Hcm91cC1pdGVtIGpzLXJlamVjdC1hbmFseXRpY3MtY29va2llcyIgdHlwZT0iYnV0dG9uIj5SZWplY3Q8L2J1dHRvbj4KICAgICAgICAgICAgICA8L2Rpdj4KICAgICAgICAgICAgPC9kaXY+CiAgICAgICAgICA8L2Rpdj4KCiAgICAgICAgICA8ZGl2IGNsYXNzPSJ0ZXh0LXJpZ2h0IHB5LTMgYm9yZGVyLXRvcCI+CiAgICAgICAgICAgIDxidXR0b24gY2xhc3M9ImJ0biBidG4tcHJpbWFyeSBqcy1zYXZlLWNvb2tpZS1wcmVmZXJlbmNlcyIgdHlwZT0iYnV0dG9uIiBkaXNhYmxlZD5TYXZlIHByZWZlcmVuY2VzPC9idXR0b24+CiAgICAgICAgICA8L2Rpdj4KICAgICAgICA8L2Rpdj4KPC9kaXY+PC9kaXY+ICA8L2Rpdj4KPC9kaXY+CgoKICA8L2JvZHk+CjwvaHRtbD4KCg==)\n",
    "\n",
    "That's what we get when we draw this.\n",
    "\n"
   ]
  },
  {
   "cell_type": "markdown",
   "metadata": {
    "id": "YFk-UchUg41y"
   },
   "source": [
    "That still isn't really pretty. Let's plot this as a dendrogram (with plotly's figure factory)!"
   ]
  },
  {
   "cell_type": "code",
   "execution_count": 26,
   "metadata": {
    "colab": {
     "base_uri": "https://localhost:8080/",
     "height": 517
    },
    "executionInfo": {
     "elapsed": 3927,
     "status": "ok",
     "timestamp": 1657586577721,
     "user": {
      "displayName": "Sonja Streuber",
      "userId": "03872648719424952237"
     },
     "user_tz": 300
    },
    "id": "AOQ5cF5Wg3u9",
    "outputId": "56d9dbf4-aa1c-4899-e5b6-62299575c13f"
   },
   "outputs": [
    {
     "data": {
      "text/html": [
       "<html>\n",
       "<head><meta charset=\"utf-8\" /></head>\n",
       "<body>\n",
       "    <div>            <script src=\"https://cdnjs.cloudflare.com/ajax/libs/mathjax/2.7.5/MathJax.js?config=TeX-AMS-MML_SVG\"></script><script type=\"text/javascript\">if (window.MathJax) {MathJax.Hub.Config({SVG: {font: \"STIX-Web\"}});}</script>                <script type=\"text/javascript\">window.PlotlyConfig = {MathJaxConfig: 'local'};</script>\n",
       "        <script src=\"https://cdn.plot.ly/plotly-2.8.3.min.js\"></script>                <div id=\"ebf83691-c476-40e7-a3e9-cb53cb1c2305\" class=\"plotly-graph-div\" style=\"height:500px; width:800px;\"></div>            <script type=\"text/javascript\">                                    window.PLOTLYENV=window.PLOTLYENV || {};                                    if (document.getElementById(\"ebf83691-c476-40e7-a3e9-cb53cb1c2305\")) {                    Plotly.newPlot(                        \"ebf83691-c476-40e7-a3e9-cb53cb1c2305\",                        [{\"hoverinfo\":\"text\",\"marker\":{\"color\":\"rgb(61,153,112)\"},\"mode\":\"lines\",\"x\":[5.0,5.0,15.0,15.0],\"xaxis\":\"x\",\"y\":[0.0,40.311288741492746,40.311288741492746,0.0],\"yaxis\":\"y\",\"type\":\"scatter\"},{\"hoverinfo\":\"text\",\"marker\":{\"color\":\"rgb(255,65,54)\"},\"mode\":\"lines\",\"x\":[35.0,35.0,45.0,45.0],\"xaxis\":\"x\",\"y\":[0.0,6.4031242374328485,6.4031242374328485,0.0],\"yaxis\":\"y\",\"type\":\"scatter\"},{\"hoverinfo\":\"text\",\"marker\":{\"color\":\"rgb(255,65,54)\"},\"mode\":\"lines\",\"x\":[25.0,25.0,40.0,40.0],\"xaxis\":\"x\",\"y\":[0.0,14.317821063276353,14.317821063276353,6.4031242374328485],\"yaxis\":\"y\",\"type\":\"scatter\"},{\"hoverinfo\":\"text\",\"marker\":{\"color\":\"rgb(255,65,54)\"},\"mode\":\"lines\",\"x\":[55.0,55.0,65.0,65.0],\"xaxis\":\"x\",\"y\":[0.0,2.23606797749979,2.23606797749979,0.0],\"yaxis\":\"y\",\"type\":\"scatter\"},{\"hoverinfo\":\"text\",\"marker\":{\"color\":\"rgb(255,65,54)\"},\"mode\":\"lines\",\"x\":[75.0,75.0,85.0,85.0],\"xaxis\":\"x\",\"y\":[0.0,5.0990195135927845,5.0990195135927845,0.0],\"yaxis\":\"y\",\"type\":\"scatter\"},{\"hoverinfo\":\"text\",\"marker\":{\"color\":\"rgb(255,65,54)\"},\"mode\":\"lines\",\"x\":[95.0,95.0,105.0,105.0],\"xaxis\":\"x\",\"y\":[0.0,15.132745950421556,15.132745950421556,0.0],\"yaxis\":\"y\",\"type\":\"scatter\"},{\"hoverinfo\":\"text\",\"marker\":{\"color\":\"rgb(255,65,54)\"},\"mode\":\"lines\",\"x\":[80.0,80.0,100.0,100.0],\"xaxis\":\"x\",\"y\":[5.0990195135927845,30.4138126514911,30.4138126514911,15.132745950421556],\"yaxis\":\"y\",\"type\":\"scatter\"},{\"hoverinfo\":\"text\",\"marker\":{\"color\":\"rgb(255,65,54)\"},\"mode\":\"lines\",\"x\":[60.0,60.0,90.0,90.0],\"xaxis\":\"x\",\"y\":[2.23606797749979,45.5411901469428,45.5411901469428,30.4138126514911],\"yaxis\":\"y\",\"type\":\"scatter\"},{\"hoverinfo\":\"text\",\"marker\":{\"color\":\"rgb(255,65,54)\"},\"mode\":\"lines\",\"x\":[32.5,32.5,75.0,75.0],\"xaxis\":\"x\",\"y\":[14.317821063276353,73.49829930005184,73.49829930005184,45.5411901469428],\"yaxis\":\"y\",\"type\":\"scatter\"},{\"hoverinfo\":\"text\",\"marker\":{\"color\":\"rgb(0,116,217)\"},\"mode\":\"lines\",\"x\":[10.0,10.0,53.75,53.75],\"xaxis\":\"x\",\"y\":[40.311288741492746,155.1934276958918,155.1934276958918,73.49829930005184],\"yaxis\":\"y\",\"type\":\"scatter\"}],                        {\"autosize\":false,\"height\":500,\"hovermode\":\"closest\",\"showlegend\":false,\"width\":800,\"xaxis\":{\"mirror\":\"allticks\",\"rangemode\":\"tozero\",\"showgrid\":false,\"showline\":true,\"showticklabels\":true,\"tickmode\":\"array\",\"ticks\":\"outside\",\"ticktext\":[\"Bullmastiff\",\"Great Dane\",\"German Shepherd\",\"Golden Retriever\",\"Standard Poodle\",\"Chihuahua\",\"Yorkshire Terrier\",\"Border Collie\",\"Portuguese Water Dog\",\"Boston Terrier\",\"Brittany Spaniel\"],\"tickvals\":[5.0,15.0,25.0,35.0,45.0,55.0,65.0,75.0,85.0,95.0,105.0],\"type\":\"linear\",\"zeroline\":false},\"yaxis\":{\"mirror\":\"allticks\",\"rangemode\":\"tozero\",\"showgrid\":false,\"showline\":true,\"showticklabels\":true,\"ticks\":\"outside\",\"type\":\"linear\",\"zeroline\":false},\"template\":{\"data\":{\"bar\":[{\"error_x\":{\"color\":\"#2a3f5f\"},\"error_y\":{\"color\":\"#2a3f5f\"},\"marker\":{\"line\":{\"color\":\"#E5ECF6\",\"width\":0.5},\"pattern\":{\"fillmode\":\"overlay\",\"size\":10,\"solidity\":0.2}},\"type\":\"bar\"}],\"barpolar\":[{\"marker\":{\"line\":{\"color\":\"#E5ECF6\",\"width\":0.5},\"pattern\":{\"fillmode\":\"overlay\",\"size\":10,\"solidity\":0.2}},\"type\":\"barpolar\"}],\"carpet\":[{\"aaxis\":{\"endlinecolor\":\"#2a3f5f\",\"gridcolor\":\"white\",\"linecolor\":\"white\",\"minorgridcolor\":\"white\",\"startlinecolor\":\"#2a3f5f\"},\"baxis\":{\"endlinecolor\":\"#2a3f5f\",\"gridcolor\":\"white\",\"linecolor\":\"white\",\"minorgridcolor\":\"white\",\"startlinecolor\":\"#2a3f5f\"},\"type\":\"carpet\"}],\"choropleth\":[{\"colorbar\":{\"outlinewidth\":0,\"ticks\":\"\"},\"type\":\"choropleth\"}],\"contour\":[{\"colorbar\":{\"outlinewidth\":0,\"ticks\":\"\"},\"colorscale\":[[0.0,\"#0d0887\"],[0.1111111111111111,\"#46039f\"],[0.2222222222222222,\"#7201a8\"],[0.3333333333333333,\"#9c179e\"],[0.4444444444444444,\"#bd3786\"],[0.5555555555555556,\"#d8576b\"],[0.6666666666666666,\"#ed7953\"],[0.7777777777777778,\"#fb9f3a\"],[0.8888888888888888,\"#fdca26\"],[1.0,\"#f0f921\"]],\"type\":\"contour\"}],\"contourcarpet\":[{\"colorbar\":{\"outlinewidth\":0,\"ticks\":\"\"},\"type\":\"contourcarpet\"}],\"heatmap\":[{\"colorbar\":{\"outlinewidth\":0,\"ticks\":\"\"},\"colorscale\":[[0.0,\"#0d0887\"],[0.1111111111111111,\"#46039f\"],[0.2222222222222222,\"#7201a8\"],[0.3333333333333333,\"#9c179e\"],[0.4444444444444444,\"#bd3786\"],[0.5555555555555556,\"#d8576b\"],[0.6666666666666666,\"#ed7953\"],[0.7777777777777778,\"#fb9f3a\"],[0.8888888888888888,\"#fdca26\"],[1.0,\"#f0f921\"]],\"type\":\"heatmap\"}],\"heatmapgl\":[{\"colorbar\":{\"outlinewidth\":0,\"ticks\":\"\"},\"colorscale\":[[0.0,\"#0d0887\"],[0.1111111111111111,\"#46039f\"],[0.2222222222222222,\"#7201a8\"],[0.3333333333333333,\"#9c179e\"],[0.4444444444444444,\"#bd3786\"],[0.5555555555555556,\"#d8576b\"],[0.6666666666666666,\"#ed7953\"],[0.7777777777777778,\"#fb9f3a\"],[0.8888888888888888,\"#fdca26\"],[1.0,\"#f0f921\"]],\"type\":\"heatmapgl\"}],\"histogram\":[{\"marker\":{\"pattern\":{\"fillmode\":\"overlay\",\"size\":10,\"solidity\":0.2}},\"type\":\"histogram\"}],\"histogram2d\":[{\"colorbar\":{\"outlinewidth\":0,\"ticks\":\"\"},\"colorscale\":[[0.0,\"#0d0887\"],[0.1111111111111111,\"#46039f\"],[0.2222222222222222,\"#7201a8\"],[0.3333333333333333,\"#9c179e\"],[0.4444444444444444,\"#bd3786\"],[0.5555555555555556,\"#d8576b\"],[0.6666666666666666,\"#ed7953\"],[0.7777777777777778,\"#fb9f3a\"],[0.8888888888888888,\"#fdca26\"],[1.0,\"#f0f921\"]],\"type\":\"histogram2d\"}],\"histogram2dcontour\":[{\"colorbar\":{\"outlinewidth\":0,\"ticks\":\"\"},\"colorscale\":[[0.0,\"#0d0887\"],[0.1111111111111111,\"#46039f\"],[0.2222222222222222,\"#7201a8\"],[0.3333333333333333,\"#9c179e\"],[0.4444444444444444,\"#bd3786\"],[0.5555555555555556,\"#d8576b\"],[0.6666666666666666,\"#ed7953\"],[0.7777777777777778,\"#fb9f3a\"],[0.8888888888888888,\"#fdca26\"],[1.0,\"#f0f921\"]],\"type\":\"histogram2dcontour\"}],\"mesh3d\":[{\"colorbar\":{\"outlinewidth\":0,\"ticks\":\"\"},\"type\":\"mesh3d\"}],\"parcoords\":[{\"line\":{\"colorbar\":{\"outlinewidth\":0,\"ticks\":\"\"}},\"type\":\"parcoords\"}],\"pie\":[{\"automargin\":true,\"type\":\"pie\"}],\"scatter\":[{\"marker\":{\"colorbar\":{\"outlinewidth\":0,\"ticks\":\"\"}},\"type\":\"scatter\"}],\"scatter3d\":[{\"line\":{\"colorbar\":{\"outlinewidth\":0,\"ticks\":\"\"}},\"marker\":{\"colorbar\":{\"outlinewidth\":0,\"ticks\":\"\"}},\"type\":\"scatter3d\"}],\"scattercarpet\":[{\"marker\":{\"colorbar\":{\"outlinewidth\":0,\"ticks\":\"\"}},\"type\":\"scattercarpet\"}],\"scattergeo\":[{\"marker\":{\"colorbar\":{\"outlinewidth\":0,\"ticks\":\"\"}},\"type\":\"scattergeo\"}],\"scattergl\":[{\"marker\":{\"colorbar\":{\"outlinewidth\":0,\"ticks\":\"\"}},\"type\":\"scattergl\"}],\"scattermapbox\":[{\"marker\":{\"colorbar\":{\"outlinewidth\":0,\"ticks\":\"\"}},\"type\":\"scattermapbox\"}],\"scatterpolar\":[{\"marker\":{\"colorbar\":{\"outlinewidth\":0,\"ticks\":\"\"}},\"type\":\"scatterpolar\"}],\"scatterpolargl\":[{\"marker\":{\"colorbar\":{\"outlinewidth\":0,\"ticks\":\"\"}},\"type\":\"scatterpolargl\"}],\"scatterternary\":[{\"marker\":{\"colorbar\":{\"outlinewidth\":0,\"ticks\":\"\"}},\"type\":\"scatterternary\"}],\"surface\":[{\"colorbar\":{\"outlinewidth\":0,\"ticks\":\"\"},\"colorscale\":[[0.0,\"#0d0887\"],[0.1111111111111111,\"#46039f\"],[0.2222222222222222,\"#7201a8\"],[0.3333333333333333,\"#9c179e\"],[0.4444444444444444,\"#bd3786\"],[0.5555555555555556,\"#d8576b\"],[0.6666666666666666,\"#ed7953\"],[0.7777777777777778,\"#fb9f3a\"],[0.8888888888888888,\"#fdca26\"],[1.0,\"#f0f921\"]],\"type\":\"surface\"}],\"table\":[{\"cells\":{\"fill\":{\"color\":\"#EBF0F8\"},\"line\":{\"color\":\"white\"}},\"header\":{\"fill\":{\"color\":\"#C8D4E3\"},\"line\":{\"color\":\"white\"}},\"type\":\"table\"}]},\"layout\":{\"annotationdefaults\":{\"arrowcolor\":\"#2a3f5f\",\"arrowhead\":0,\"arrowwidth\":1},\"autotypenumbers\":\"strict\",\"coloraxis\":{\"colorbar\":{\"outlinewidth\":0,\"ticks\":\"\"}},\"colorscale\":{\"diverging\":[[0,\"#8e0152\"],[0.1,\"#c51b7d\"],[0.2,\"#de77ae\"],[0.3,\"#f1b6da\"],[0.4,\"#fde0ef\"],[0.5,\"#f7f7f7\"],[0.6,\"#e6f5d0\"],[0.7,\"#b8e186\"],[0.8,\"#7fbc41\"],[0.9,\"#4d9221\"],[1,\"#276419\"]],\"sequential\":[[0.0,\"#0d0887\"],[0.1111111111111111,\"#46039f\"],[0.2222222222222222,\"#7201a8\"],[0.3333333333333333,\"#9c179e\"],[0.4444444444444444,\"#bd3786\"],[0.5555555555555556,\"#d8576b\"],[0.6666666666666666,\"#ed7953\"],[0.7777777777777778,\"#fb9f3a\"],[0.8888888888888888,\"#fdca26\"],[1.0,\"#f0f921\"]],\"sequentialminus\":[[0.0,\"#0d0887\"],[0.1111111111111111,\"#46039f\"],[0.2222222222222222,\"#7201a8\"],[0.3333333333333333,\"#9c179e\"],[0.4444444444444444,\"#bd3786\"],[0.5555555555555556,\"#d8576b\"],[0.6666666666666666,\"#ed7953\"],[0.7777777777777778,\"#fb9f3a\"],[0.8888888888888888,\"#fdca26\"],[1.0,\"#f0f921\"]]},\"colorway\":[\"#636efa\",\"#EF553B\",\"#00cc96\",\"#ab63fa\",\"#FFA15A\",\"#19d3f3\",\"#FF6692\",\"#B6E880\",\"#FF97FF\",\"#FECB52\"],\"font\":{\"color\":\"#2a3f5f\"},\"geo\":{\"bgcolor\":\"white\",\"lakecolor\":\"white\",\"landcolor\":\"#E5ECF6\",\"showlakes\":true,\"showland\":true,\"subunitcolor\":\"white\"},\"hoverlabel\":{\"align\":\"left\"},\"hovermode\":\"closest\",\"mapbox\":{\"style\":\"light\"},\"paper_bgcolor\":\"white\",\"plot_bgcolor\":\"#E5ECF6\",\"polar\":{\"angularaxis\":{\"gridcolor\":\"white\",\"linecolor\":\"white\",\"ticks\":\"\"},\"bgcolor\":\"#E5ECF6\",\"radialaxis\":{\"gridcolor\":\"white\",\"linecolor\":\"white\",\"ticks\":\"\"}},\"scene\":{\"xaxis\":{\"backgroundcolor\":\"#E5ECF6\",\"gridcolor\":\"white\",\"gridwidth\":2,\"linecolor\":\"white\",\"showbackground\":true,\"ticks\":\"\",\"zerolinecolor\":\"white\"},\"yaxis\":{\"backgroundcolor\":\"#E5ECF6\",\"gridcolor\":\"white\",\"gridwidth\":2,\"linecolor\":\"white\",\"showbackground\":true,\"ticks\":\"\",\"zerolinecolor\":\"white\"},\"zaxis\":{\"backgroundcolor\":\"#E5ECF6\",\"gridcolor\":\"white\",\"gridwidth\":2,\"linecolor\":\"white\",\"showbackground\":true,\"ticks\":\"\",\"zerolinecolor\":\"white\"}},\"shapedefaults\":{\"line\":{\"color\":\"#2a3f5f\"}},\"ternary\":{\"aaxis\":{\"gridcolor\":\"white\",\"linecolor\":\"white\",\"ticks\":\"\"},\"baxis\":{\"gridcolor\":\"white\",\"linecolor\":\"white\",\"ticks\":\"\"},\"bgcolor\":\"#E5ECF6\",\"caxis\":{\"gridcolor\":\"white\",\"linecolor\":\"white\",\"ticks\":\"\"}},\"title\":{\"x\":0.05},\"xaxis\":{\"automargin\":true,\"gridcolor\":\"white\",\"linecolor\":\"white\",\"ticks\":\"\",\"title\":{\"standoff\":15},\"zerolinecolor\":\"white\",\"zerolinewidth\":2},\"yaxis\":{\"automargin\":true,\"gridcolor\":\"white\",\"linecolor\":\"white\",\"ticks\":\"\",\"title\":{\"standoff\":15},\"zerolinecolor\":\"white\",\"zerolinewidth\":2}}}},                        {\"responsive\": true}                    ).then(function(){\n",
       "                            \n",
       "var gd = document.getElementById('ebf83691-c476-40e7-a3e9-cb53cb1c2305');\n",
       "var x = new MutationObserver(function (mutations, observer) {{\n",
       "        var display = window.getComputedStyle(gd).display;\n",
       "        if (!display || display === 'none') {{\n",
       "            console.log([gd, 'removed!']);\n",
       "            Plotly.purge(gd);\n",
       "            observer.disconnect();\n",
       "        }}\n",
       "}});\n",
       "\n",
       "// Listen for the removal of the full notebook cells\n",
       "var notebookContainer = gd.closest('#notebook-container');\n",
       "if (notebookContainer) {{\n",
       "    x.observe(notebookContainer, {childList: true});\n",
       "}}\n",
       "\n",
       "// Listen for the clearing of the current output cell\n",
       "var outputEl = gd.closest('.output');\n",
       "if (outputEl) {{\n",
       "    x.observe(outputEl, {childList: true});\n",
       "}}\n",
       "\n",
       "                        })                };                            </script>        </div>\n",
       "</body>\n",
       "</html>"
      ]
     },
     "metadata": {},
     "output_type": "display_data"
    }
   ],
   "source": [
    "import plotly.figure_factory as ff\n",
    "fig = ff.create_dendrogram(dog_data, labels=dog_data.index)\n",
    "fig.update_layout(width=800, height=500)\n",
    "fig.show()"
   ]
  },
  {
   "cell_type": "markdown",
   "metadata": {
    "id": "wGqxf2kQjpNm"
   },
   "source": [
    "We can also plot with pandas, which saves us one line of code:"
   ]
  },
  {
   "cell_type": "code",
   "execution_count": null,
   "metadata": {
    "colab": {
     "base_uri": "https://localhost:8080/",
     "height": 467
    },
    "executionInfo": {
     "elapsed": 15,
     "status": "ok",
     "timestamp": 1657586577722,
     "user": {
      "displayName": "Sonja Streuber",
      "userId": "03872648719424952237"
     },
     "user_tz": 300
    },
    "id": "brYG_I0Ujrs8",
    "outputId": "66d9ffcf-5e79-4a09-ea8e-2b510e2a1b16"
   },
   "outputs": [],
   "source": [
    "from plotly.figure_factory import create_dendrogram\n",
    "fig = create_dendrogram(dog_data, labels=dog_data.index)\n",
    "fig.show()"
   ]
  },
  {
   "cell_type": "markdown",
   "metadata": {
    "id": "UYvpuz3ghpJh"
   },
   "source": [
    "## Your Turn\n",
    "**Exercise 2: Run a hierarchical analysis for the Iris dataset**\n",
    "\n",
    "You've seen the analysis for the dogs above. Now run the same thing for the iris dataset."
   ]
  },
  {
   "cell_type": "code",
   "execution_count": 27,
   "metadata": {
    "executionInfo": {
     "elapsed": 12,
     "status": "ok",
     "timestamp": 1657586577723,
     "user": {
      "displayName": "Sonja Streuber",
      "userId": "03872648719424952237"
     },
     "user_tz": 300
    },
    "id": "aNgflmQGhpJi"
   },
   "outputs": [],
   "source": []
  },
  {
   "cell_type": "markdown",
   "metadata": {
    "id": "if5LTrMrhpJl"
   },
   "source": [
    "# **5. Density-Based Clustering (DBSCAN)**\n",
    "Dansity-Based clustering finds core samples of high density and expands clusters from them. In other words, it views clusters as areas of high density separated by areas of low density. Good for data which contains clusters of similar density.Here, we are working with neighbors within a radius!\n",
    "\n",
    "We are using the [DBSCAN algorithm](https://scikit-learn.org/stable/modules/generated/sklearn.cluster.DBSCAN.html) from the scikit-learn.cluster family. Because DBSCAN really requires visualizzation, we'll start with a dataset that allows us to visualize the output the best: The [make_moons dataset](https://scikit-learn.org/stable/modules/generated/sklearn.datasets.make_moons.html). \n",
    "\n",
    "Read more about how DBSCAN works [here](https://scikit-learn.org/stable/modules/clustering.html#dbscan)."
   ]
  },
  {
   "cell_type": "code",
   "execution_count": 28,
   "metadata": {
    "executionInfo": {
     "elapsed": 216,
     "status": "ok",
     "timestamp": 1657586577928,
     "user": {
      "displayName": "Sonja Streuber",
      "userId": "03872648719424952237"
     },
     "user_tz": 300
    },
    "id": "KMg4hSDPhpJl"
   },
   "outputs": [],
   "source": [
    "## import data\n",
    "from sklearn.datasets import make_moons\n",
    "from sklearn.datasets import load_iris # reloading iris cleanly\n",
    "from sklearn import datasets\n",
    "\n",
    "## import DBSCAN model\n",
    "from sklearn.cluster import DBSCAN\n",
    "from sklearn import metrics\n",
    "\n",
    "plt.style.use('ggplot')\n",
    "%matplotlib inline"
   ]
  },
  {
   "cell_type": "markdown",
   "metadata": {
    "id": "8G9KFC4MhpJp"
   },
   "source": [
    "##**5.1 Example 1: make_moons dataset**\n",
    "This is just a small dataset that help visualize density-based clustering. It has no meaning other than the shape you see."
   ]
  },
  {
   "cell_type": "code",
   "execution_count": 29,
   "metadata": {
    "colab": {
     "base_uri": "https://localhost:8080/"
    },
    "executionInfo": {
     "elapsed": 39,
     "status": "ok",
     "timestamp": 1657586577929,
     "user": {
      "displayName": "Sonja Streuber",
      "userId": "03872648719424952237"
     },
     "user_tz": 300
    },
    "id": "my9dJuephpJq",
    "outputId": "a9a1bcab-ea26-4040-aaa4-cdc73c4bc982"
   },
   "outputs": [
    {
     "name": "stdout",
     "output_type": "stream",
     "text": [
      "[[ 0.28171457  0.91044406]\n",
      " [ 0.8389241  -0.53005338]\n",
      " [ 0.40915474  0.80944352]\n",
      " [-0.98415213  0.13142155]\n",
      " [ 1.15919021  0.4910425 ]\n",
      " [-0.96703486  0.0981273 ]\n",
      " [ 0.91739138 -0.2334927 ]\n",
      " [ 0.97827508  0.50147001]\n",
      " [ 1.85907097  0.33087146]\n",
      " [ 1.28971276 -0.36416076]]\n"
     ]
    }
   ],
   "source": [
    "# import the data from sklearn.datasets.make_moons\n",
    "X_1, labels_true = make_moons(n_samples=200, noise=0.1, random_state=19)\n",
    "print(X_1[:10,])"
   ]
  },
  {
   "cell_type": "markdown",
   "metadata": {
    "id": "UPCNknCMhpJs"
   },
   "source": [
    "##**5.1.1 Setting up our DBSCAN model**\n",
    "\n",
    "Note that the DBSCAN model requires two parameters, eps and min_samples.\n",
    "\n",
    "* eps is a radius which defines neighborhood for a data point.\n",
    "* min_samples (or minPts) is the minimum number of points required to form a dense region within a radius eps."
   ]
  },
  {
   "cell_type": "code",
   "execution_count": 30,
   "metadata": {
    "colab": {
     "base_uri": "https://localhost:8080/"
    },
    "executionInfo": {
     "elapsed": 32,
     "status": "ok",
     "timestamp": 1657586577930,
     "user": {
      "displayName": "Sonja Streuber",
      "userId": "03872648719424952237"
     },
     "user_tz": 300
    },
    "id": "3AQSa7-chpJs",
    "outputId": "dbd81f46-fc70-4633-9840-543052068df9"
   },
   "outputs": [
    {
     "name": "stdout",
     "output_type": "stream",
     "text": [
      "DBSCAN(eps=0.25, min_samples=12)\n"
     ]
    }
   ],
   "source": [
    "model_1 = DBSCAN(eps=0.25, min_samples=12).fit(X_1)\n",
    "print(model_1) # model set-ups and parameters"
   ]
  },
  {
   "cell_type": "code",
   "execution_count": 31,
   "metadata": {
    "colab": {
     "base_uri": "https://localhost:8080/"
    },
    "executionInfo": {
     "elapsed": 26,
     "status": "ok",
     "timestamp": 1657586577931,
     "user": {
      "displayName": "Sonja Streuber",
      "userId": "03872648719424952237"
     },
     "user_tz": 300
    },
    "id": "mB1jdcvqhpJz",
    "outputId": "d753943b-7d98-4c60-85e8-ca594a88c592"
   },
   "outputs": [
    {
     "data": {
      "text/plain": [
       "<bound method BaseEstimator.get_params of DBSCAN(eps=0.25, min_samples=12)>"
      ]
     },
     "execution_count": 31,
     "metadata": {},
     "output_type": "execute_result"
    }
   ],
   "source": [
    "## Another way to see parameters and definition of the DBSCAN model\n",
    "model_1.get_params"
   ]
  },
  {
   "cell_type": "markdown",
   "metadata": {
    "id": "gMzwJDnMhpJ3"
   },
   "source": [
    "##**5.1.2 Reviewing the labels**\n",
    "We can now take a look at the cluster labels that our model_1 has assigned."
   ]
  },
  {
   "cell_type": "code",
   "execution_count": 32,
   "metadata": {
    "colab": {
     "base_uri": "https://localhost:8080/"
    },
    "executionInfo": {
     "elapsed": 22,
     "status": "ok",
     "timestamp": 1657586577933,
     "user": {
      "displayName": "Sonja Streuber",
      "userId": "03872648719424952237"
     },
     "user_tz": 300
    },
    "id": "pUusP_cyhpJ3",
    "outputId": "7b4fd843-3e0d-4088-c549-f4592c2d79e3"
   },
   "outputs": [
    {
     "data": {
      "text/plain": [
       "array([ 0,  1,  0,  0,  0,  0,  1,  0,  1,  1,  0,  0,  0,  1,  0,  1,  0,\n",
       "        1,  1,  1,  1,  0,  0,  1,  1,  0,  0,  1,  1,  1,  0,  0,  0,  0,\n",
       "        0,  1,  0,  1,  0,  1,  1,  0,  0,  1,  0,  1,  0,  1,  0,  1,  1,\n",
       "        1,  1,  1,  1,  1,  1,  1,  0,  0,  1,  1,  0,  1,  0,  0,  0,  0,\n",
       "        0,  0,  1,  0,  0,  1, -1,  1,  0,  1,  1,  1,  0,  1,  0,  0,  1,\n",
       "        1,  0,  0,  1,  0,  0,  0,  0,  0,  0,  1,  0,  1,  1,  0,  1,  1,\n",
       "        0,  0,  0,  1,  1,  1,  1,  0,  0,  0,  1,  1,  1,  1,  1,  0,  0,\n",
       "        0,  1,  0,  1,  1,  1,  0,  0,  0,  0,  0,  1,  1,  1,  1,  1,  1,\n",
       "        1,  1,  1,  1,  1,  0,  0,  1,  1,  0,  0,  1,  1,  0,  0,  1,  1,\n",
       "        1,  1,  1,  1,  0,  1,  1,  1,  0,  0,  0,  1,  0,  1,  1,  0,  0,\n",
       "        0,  0,  1,  0,  1,  0,  0,  0,  0,  0,  0,  1,  1,  0,  0,  0,  0,\n",
       "        1,  1,  0,  1,  0,  1,  0,  0,  0,  1,  0,  1,  0])"
      ]
     },
     "execution_count": 32,
     "metadata": {},
     "output_type": "execute_result"
    }
   ],
   "source": [
    "labels_1=model_1.labels_\n",
    "labels_1"
   ]
  },
  {
   "cell_type": "code",
   "execution_count": 33,
   "metadata": {
    "colab": {
     "base_uri": "https://localhost:8080/"
    },
    "executionInfo": {
     "elapsed": 19,
     "status": "ok",
     "timestamp": 1657586577934,
     "user": {
      "displayName": "Sonja Streuber",
      "userId": "03872648719424952237"
     },
     "user_tz": 300
    },
    "id": "Gtzk9NCzgDUl",
    "outputId": "03a266d7-f01c-4c2a-fc48-35ad10e2b0a3"
   },
   "outputs": [
    {
     "data": {
      "text/plain": [
       "array([ 0,  1,  0,  0,  0,  0,  1,  0,  1,  1,  0,  0,  0,  1,  0,  1,  0,\n",
       "        1,  1,  1,  1,  0,  0,  1,  1,  0,  0,  1,  1,  1,  0,  0,  0,  0,\n",
       "        0,  1,  0,  1,  0,  1,  1,  0,  0,  1,  0,  1,  0,  1,  0,  1,  1,\n",
       "        1,  1,  1,  1,  1,  1,  1,  0,  0,  1,  1,  0,  1,  0,  0,  0,  0,\n",
       "        0,  0,  1,  0,  0,  1, -1,  1,  0,  1,  1,  1,  0,  1,  0,  0,  1,\n",
       "        1,  0,  0,  1,  0,  0,  0,  0,  0,  0,  1,  0,  1,  1,  0,  1,  1,\n",
       "        0,  0,  0,  1,  1,  1,  1,  0,  0,  0,  1,  1,  1,  1,  1,  0,  0,\n",
       "        0,  1,  0,  1,  1,  1,  0,  0,  0,  0,  0,  1,  1,  1,  1,  1,  1,\n",
       "        1,  1,  1,  1,  1,  0,  0,  1,  1,  0,  0,  1,  1,  0,  0,  1,  1,\n",
       "        1,  1,  1,  1,  0,  1,  1,  1,  0,  0,  0,  1,  0,  1,  1,  0,  0,\n",
       "        0,  0,  1,  0,  1,  0,  0,  0,  0,  0,  0,  1,  1,  0,  0,  0,  0,\n",
       "        1,  1,  0,  1,  0,  1,  0,  0,  0,  1,  0,  1,  0])"
      ]
     },
     "execution_count": 33,
     "metadata": {},
     "output_type": "execute_result"
    }
   ],
   "source": [
    "# Alternative way to access the cluster labels (the same as above) \n",
    "model_1.fit_predict(X_1)"
   ]
  },
  {
   "cell_type": "markdown",
   "metadata": {
    "id": "qO4t19qAgKif"
   },
   "source": [
    "## **5.1.3 Plotting the clusters**\n",
    "Visualization is really important with these kinds of clusters. "
   ]
  },
  {
   "cell_type": "code",
   "execution_count": 34,
   "metadata": {
    "colab": {
     "base_uri": "https://localhost:8080/",
     "height": 374
    },
    "executionInfo": {
     "elapsed": 822,
     "status": "ok",
     "timestamp": 1657586578744,
     "user": {
      "displayName": "Sonja Streuber",
      "userId": "03872648719424952237"
     },
     "user_tz": 300
    },
    "id": "grRBQqfjgTl8",
    "outputId": "92b435c0-4ea7-45a5-b1da-8511664fb649"
   },
   "outputs": [
    {
     "data": {
      "image/png": "[encoded data removed]",
      "text/plain": [
       "<Figure size 576x432 with 1 Axes>"
      ]
     },
     "metadata": {
      "needs_background": "light"
     },
     "output_type": "display_data"
    }
   ],
   "source": [
    "fig, ax = plt.subplots(figsize=(8, 6))\n",
    "ax.scatter(X_1[:, 0], X_1[:, 1], c=model_1.labels_, s=140, alpha=0.9, cmap=plt.cm.Set1)\n",
    "\n",
    "fig.show()"
   ]
  },
  {
   "cell_type": "markdown",
   "metadata": {
    "id": "2NjxJ3_-gkiu"
   },
   "source": [
    "We can also get the answer about the detected clusters like this:"
   ]
  },
  {
   "cell_type": "code",
   "execution_count": 35,
   "metadata": {
    "colab": {
     "base_uri": "https://localhost:8080/"
    },
    "executionInfo": {
     "elapsed": 16,
     "status": "ok",
     "timestamp": 1657586578745,
     "user": {
      "displayName": "Sonja Streuber",
      "userId": "03872648719424952237"
     },
     "user_tz": 300
    },
    "id": "lR6BZjLWgq_j",
    "outputId": "4a6d833a-1c3f-4302-fbef-f47f74b727b7"
   },
   "outputs": [
    {
     "name": "stdout",
     "output_type": "stream",
     "text": [
      "Estimated number of clusters: 2\n"
     ]
    }
   ],
   "source": [
    "# Number of clusters in labels, ignoring noise points\n",
    "n_clusters_ = len(set(labels_1)) - (1 if -1 in labels_1 else 0)\n",
    "print('Estimated number of clusters: %d' % n_clusters_)"
   ]
  },
  {
   "cell_type": "markdown",
   "metadata": {
    "id": "d4W4y0Yeg2qd"
   },
   "source": [
    "If there is noise in this dataset, we can also identify the noise points:"
   ]
  },
  {
   "cell_type": "code",
   "execution_count": 36,
   "metadata": {
    "colab": {
     "base_uri": "https://localhost:8080/"
    },
    "executionInfo": {
     "elapsed": 11,
     "status": "ok",
     "timestamp": 1657586578747,
     "user": {
      "displayName": "Sonja Streuber",
      "userId": "03872648719424952237"
     },
     "user_tz": 300
    },
    "id": "4wIhtHklg7Bq",
    "outputId": "22a7fcc1-1c90-4e11-ad81-e0e9f2a602d9"
   },
   "outputs": [
    {
     "name": "stdout",
     "output_type": "stream",
     "text": [
      "Number of Noise Points: 1 (200)\n"
     ]
    }
   ],
   "source": [
    "print(\"Number of Noise Points: \",sum(model_1.labels_==-1),\" (\",len(model_1.labels_),\")\",sep='')"
   ]
  },
  {
   "cell_type": "markdown",
   "metadata": {
    "id": "Ko19iHHdhApf"
   },
   "source": [
    "## **5.2 DBSCAN and the iris dataset**\n",
    "Here is an analysis of the iris dataset again."
   ]
  },
  {
   "cell_type": "code",
   "execution_count": 37,
   "metadata": {
    "executionInfo": {
     "elapsed": 11,
     "status": "ok",
     "timestamp": 1657586578749,
     "user": {
      "displayName": "Sonja Streuber",
      "userId": "03872648719424952237"
     },
     "user_tz": 300
    },
    "id": "6550k9r9hSDA"
   },
   "outputs": [],
   "source": [
    "# Import the Iris dataset from scikit-learn\n",
    "iris = datasets.load_iris()\n",
    "X = iris.data    \n",
    "y = iris.target\n",
    "target_names = iris.target_names"
   ]
  },
  {
   "cell_type": "markdown",
   "metadata": {
    "id": "1jtpfncIhtw7"
   },
   "source": [
    "Let's convert it to a dataframe again."
   ]
  },
  {
   "cell_type": "code",
   "execution_count": 38,
   "metadata": {
    "colab": {
     "base_uri": "https://localhost:8080/",
     "height": 206
    },
    "executionInfo": {
     "elapsed": 168,
     "status": "ok",
     "timestamp": 1657586578907,
     "user": {
      "displayName": "Sonja Streuber",
      "userId": "03872648719424952237"
     },
     "user_tz": 300
    },
    "id": "sYwQ9mYhhxo4",
    "outputId": "a1969120-10ee-4e03-e0d5-5f63aa37e1e3"
   },
   "outputs": [
    {
     "data": {
      "text/html": [
       "\n",
       "  <div id=\"df-ec4f1487-dc0c-4b91-b30c-06c7c82be570\">\n",
       "    <div class=\"colab-df-container\">\n",
       "      <div>\n",
       "<style scoped>\n",
       "    .dataframe tbody tr th:only-of-type {\n",
       "        vertical-align: middle;\n",
       "    }\n",
       "\n",
       "    .dataframe tbody tr th {\n",
       "        vertical-align: top;\n",
       "    }\n",
       "\n",
       "    .dataframe thead th {\n",
       "        text-align: right;\n",
       "    }\n",
       "</style>\n",
       "<table border=\"1\" class=\"dataframe\">\n",
       "  <thead>\n",
       "    <tr style=\"text-align: right;\">\n",
       "      <th></th>\n",
       "      <th>sepal length (cm)</th>\n",
       "      <th>sepal width (cm)</th>\n",
       "      <th>petal length (cm)</th>\n",
       "      <th>petal width (cm)</th>\n",
       "    </tr>\n",
       "  </thead>\n",
       "  <tbody>\n",
       "    <tr>\n",
       "      <th>0</th>\n",
       "      <td>5.1</td>\n",
       "      <td>3.5</td>\n",
       "      <td>1.4</td>\n",
       "      <td>0.2</td>\n",
       "    </tr>\n",
       "    <tr>\n",
       "      <th>1</th>\n",
       "      <td>4.9</td>\n",
       "      <td>3.0</td>\n",
       "      <td>1.4</td>\n",
       "      <td>0.2</td>\n",
       "    </tr>\n",
       "    <tr>\n",
       "      <th>2</th>\n",
       "      <td>4.7</td>\n",
       "      <td>3.2</td>\n",
       "      <td>1.3</td>\n",
       "      <td>0.2</td>\n",
       "    </tr>\n",
       "    <tr>\n",
       "      <th>3</th>\n",
       "      <td>4.6</td>\n",
       "      <td>3.1</td>\n",
       "      <td>1.5</td>\n",
       "      <td>0.2</td>\n",
       "    </tr>\n",
       "    <tr>\n",
       "      <th>4</th>\n",
       "      <td>5.0</td>\n",
       "      <td>3.6</td>\n",
       "      <td>1.4</td>\n",
       "      <td>0.2</td>\n",
       "    </tr>\n",
       "  </tbody>\n",
       "</table>\n",
       "</div>\n",
       "      <button class=\"colab-df-convert\" onclick=\"convertToInteractive('df-ec4f1487-dc0c-4b91-b30c-06c7c82be570')\"\n",
       "              title=\"Convert this dataframe to an interactive table.\"\n",
       "              style=\"display:none;\">\n",
       "        \n",
       "  <svg xmlns=\"http://www.w3.org/2000/svg\" height=\"24px\"viewBox=\"0 0 24 24\"\n",
       "       width=\"24px\">\n",
       "    <path d=\"M0 0h24v24H0V0z\" fill=\"none\"/>\n",
       "    <path d=\"M18.56 5.44l.94 2.06.94-2.06 2.06-.94-2.06-.94-.94-2.06-.94 2.06-2.06.94zm-11 1L8.5 8.5l.94-2.06 2.06-.94-2.06-.94L8.5 2.5l-.94 2.06-2.06.94zm10 10l.94 2.06.94-2.06 2.06-.94-2.06-.94-.94-2.06-.94 2.06-2.06.94z\"/><path d=\"M17.41 7.96l-1.37-1.37c-.4-.4-.92-.59-1.43-.59-.52 0-1.04.2-1.43.59L10.3 9.45l-7.72 7.72c-.78.78-.78 2.05 0 2.83L4 21.41c.39.39.9.59 1.41.59.51 0 1.02-.2 1.41-.59l7.78-7.78 2.81-2.81c.8-.78.8-2.07 0-2.86zM5.41 20L4 18.59l7.72-7.72 1.47 1.35L5.41 20z\"/>\n",
       "  </svg>\n",
       "      </button>\n",
       "      \n",
       "  <style>\n",
       "    .colab-df-container {\n",
       "      display:flex;\n",
       "      flex-wrap:wrap;\n",
       "      gap: 12px;\n",
       "    }\n",
       "\n",
       "    .colab-df-convert {\n",
       "      background-color: #E8F0FE;\n",
       "      border: none;\n",
       "      border-radius: 50%;\n",
       "      cursor: pointer;\n",
       "      display: none;\n",
       "      fill: #1967D2;\n",
       "      height: 32px;\n",
       "      padding: 0 0 0 0;\n",
       "      width: 32px;\n",
       "    }\n",
       "\n",
       "    .colab-df-convert:hover {\n",
       "      background-color: #E2EBFA;\n",
       "      box-shadow: 0px 1px 2px rgba(60, 64, 67, 0.3), 0px 1px 3px 1px rgba(60, 64, 67, 0.15);\n",
       "      fill: #174EA6;\n",
       "    }\n",
       "\n",
       "    [theme=dark] .colab-df-convert {\n",
       "      background-color: #3B4455;\n",
       "      fill: #D2E3FC;\n",
       "    }\n",
       "\n",
       "    [theme=dark] .colab-df-convert:hover {\n",
       "      background-color: #434B5C;\n",
       "      box-shadow: 0px 1px 3px 1px rgba(0, 0, 0, 0.15);\n",
       "      filter: drop-shadow(0px 1px 2px rgba(0, 0, 0, 0.3));\n",
       "      fill: #FFFFFF;\n",
       "    }\n",
       "  </style>\n",
       "\n",
       "      <script>\n",
       "        const buttonEl =\n",
       "          document.querySelector('#df-ec4f1487-dc0c-4b91-b30c-06c7c82be570 button.colab-df-convert');\n",
       "        buttonEl.style.display =\n",
       "          google.colab.kernel.accessAllowed ? 'block' : 'none';\n",
       "\n",
       "        async function convertToInteractive(key) {\n",
       "          const element = document.querySelector('#df-ec4f1487-dc0c-4b91-b30c-06c7c82be570');\n",
       "          const dataTable =\n",
       "            await google.colab.kernel.invokeFunction('convertToInteractive',\n",
       "                                                     [key], {});\n",
       "          if (!dataTable) return;\n",
       "\n",
       "          const docLinkHtml = 'Like what you see? Visit the ' +\n",
       "            '<a target=\"_blank\" href=https://colab.research.google.com/notebooks/data_table.ipynb>data table notebook</a>'\n",
       "            + ' to learn more about interactive tables.';\n",
       "          element.innerHTML = '';\n",
       "          dataTable['output_type'] = 'display_data';\n",
       "          await google.colab.output.renderOutput(dataTable, element);\n",
       "          const docLink = document.createElement('div');\n",
       "          docLink.innerHTML = docLinkHtml;\n",
       "          element.appendChild(docLink);\n",
       "        }\n",
       "      </script>\n",
       "    </div>\n",
       "  </div>\n",
       "  "
      ],
      "text/plain": [
       "   sepal length (cm)  sepal width (cm)  petal length (cm)  petal width (cm)\n",
       "0                5.1               3.5                1.4               0.2\n",
       "1                4.9               3.0                1.4               0.2\n",
       "2                4.7               3.2                1.3               0.2\n",
       "3                4.6               3.1                1.5               0.2\n",
       "4                5.0               3.6                1.4               0.2"
      ]
     },
     "execution_count": 38,
     "metadata": {},
     "output_type": "execute_result"
    }
   ],
   "source": [
    "df = pd.DataFrame(X, columns=iris.feature_names)\n",
    "df.head()"
   ]
  },
  {
   "cell_type": "markdown",
   "metadata": {
    "id": "026ALzRniE11"
   },
   "source": [
    "Let's see what a basic scatterplot shows us."
   ]
  },
  {
   "cell_type": "code",
   "execution_count": 39,
   "metadata": {
    "colab": {
     "base_uri": "https://localhost:8080/",
     "height": 407
    },
    "executionInfo": {
     "elapsed": 470,
     "status": "ok",
     "timestamp": 1657586579372,
     "user": {
      "displayName": "Sonja Streuber",
      "userId": "03872648719424952237"
     },
     "user_tz": 300
    },
    "id": "zAHX1ojmiIlZ",
    "outputId": "fc64c6d6-d20e-451f-ffaa-306740cd2b46"
   },
   "outputs": [
    {
     "data": {
      "image/png": "[encoded data removed]",
      "text/plain": [
       "<Figure size 720x432 with 1 Axes>"
      ]
     },
     "metadata": {
      "needs_background": "light"
     },
     "output_type": "display_data"
    }
   ],
   "source": [
    "## Show only two features 'Sepal length' and 'petal length' for different types of flowers (target labels)\n",
    "plt.figure(2, figsize=(10, 6))\n",
    "colors = ['orange', 'red', 'gray']\n",
    "\n",
    "\n",
    "for color, i, target_name in zip(colors, [0, 1, 2], target_names):\n",
    "    plt.scatter(X[y == i, 1], X[y == i, 3], color=color, alpha=.8, \n",
    "                label=target_name, s=150, cmap=plt.cm.Set1, edgecolor='k',marker='D')\n",
    "plt.legend(loc='best', shadow=False, scatterpoints=1,fontsize=20)\n",
    "plt.xlabel('sepal length', fontsize=30) \n",
    "plt.ylabel('petal length', fontsize=30) \n",
    "plt.show()"
   ]
  },
  {
   "cell_type": "markdown",
   "metadata": {
    "id": "TzhwXpXhiZIA"
   },
   "source": [
    "## **5.2.1 Setting up the model**"
   ]
  },
  {
   "cell_type": "code",
   "execution_count": 40,
   "metadata": {
    "colab": {
     "base_uri": "https://localhost:8080/"
    },
    "executionInfo": {
     "elapsed": 491,
     "status": "ok",
     "timestamp": 1657586579855,
     "user": {
      "displayName": "Sonja Streuber",
      "userId": "03872648719424952237"
     },
     "user_tz": 300
    },
    "id": "pyKUPRU-icf8",
    "outputId": "da021140-64bc-4920-e16d-066e0b4e4b4b"
   },
   "outputs": [
    {
     "data": {
      "text/plain": [
       "array([ 0,  0,  0,  0,  0,  0,  0,  0,  0,  0,  0,  0,  0,  0,  0,  0,  0,\n",
       "        0,  0,  0,  0,  0,  0,  0,  0,  0,  0,  0,  0,  0,  0,  0,  0,  0,\n",
       "        0,  0,  0,  0,  0,  0,  0,  0,  0,  0,  0,  0,  0,  0,  0,  0,  1,\n",
       "        1,  1,  1,  1,  1,  1,  1,  1,  1,  1,  1,  1,  1,  1,  1,  1,  1,\n",
       "        1,  1,  1,  1,  1,  1,  1,  1,  1,  1,  1,  1,  1,  1,  1,  1,  1,\n",
       "        1,  1,  1,  1,  1,  1,  1,  1,  1,  1,  1,  1,  1,  1,  1,  1,  1,\n",
       "        1,  1,  1,  1,  1,  1,  1,  1,  1,  1,  1,  1,  1,  1,  1, -1,  1,\n",
       "        1,  1,  1,  1,  1,  1,  1,  1,  1,  1,  1,  1, -1,  1,  1,  1,  1,\n",
       "        1,  1,  1,  1,  1,  1,  1,  1,  1,  1,  1,  1,  1,  1])"
      ]
     },
     "execution_count": 40,
     "metadata": {},
     "output_type": "execute_result"
    }
   ],
   "source": [
    "model = DBSCAN(eps=0.8, min_samples=6).fit(X)\n",
    "labels=model.labels_\n",
    "labels"
   ]
  },
  {
   "cell_type": "markdown",
   "metadata": {
    "id": "VA5oNLO8ilcL"
   },
   "source": [
    "Getting the number of clusters."
   ]
  },
  {
   "cell_type": "code",
   "execution_count": 41,
   "metadata": {
    "colab": {
     "base_uri": "https://localhost:8080/"
    },
    "executionInfo": {
     "elapsed": 19,
     "status": "ok",
     "timestamp": 1657586579856,
     "user": {
      "displayName": "Sonja Streuber",
      "userId": "03872648719424952237"
     },
     "user_tz": 300
    },
    "id": "iWSvSL5viqUM",
    "outputId": "06a623f4-bae3-4c64-c731-5a12714c6e96"
   },
   "outputs": [
    {
     "data": {
      "text/plain": [
       "2"
      ]
     },
     "execution_count": 41,
     "metadata": {},
     "output_type": "execute_result"
    }
   ],
   "source": [
    "n_clusters_ = len(set(labels)) - (1 if -1 in labels else 0)\n",
    "n_clusters_"
   ]
  },
  {
   "cell_type": "markdown",
   "metadata": {
    "id": "vdgoWQMRizsj"
   },
   "source": [
    "## **5.2.2 Plotting the clusters**"
   ]
  },
  {
   "cell_type": "code",
   "execution_count": 42,
   "metadata": {
    "colab": {
     "base_uri": "https://localhost:8080/",
     "height": 428
    },
    "executionInfo": {
     "elapsed": 17,
     "status": "ok",
     "timestamp": 1657586579857,
     "user": {
      "displayName": "Sonja Streuber",
      "userId": "03872648719424952237"
     },
     "user_tz": 300
    },
    "id": "3Qs38JvNi2WR",
    "outputId": "2f5bc6c3-9528-4d5c-917a-d1d61d387114"
   },
   "outputs": [
    {
     "data": {
      "image/png": "[encoded data removed]",
      "text/plain": [
       "<Figure size 720x432 with 1 Axes>"
      ]
     },
     "metadata": {
      "needs_background": "light"
     },
     "output_type": "display_data"
    }
   ],
   "source": [
    "plt.figure(2, figsize=(10, 6))\n",
    "plt.scatter(X[:, 1], X[:, 3], c=model.labels_, s=150,  cmap=plt.cm.Set1,alpha=.8, edgecolor='k',marker='D')\n",
    "#plt.scatter(X[:, 1], X[:, 3], c=y, s=150, cmap=plt.cm.Set1, edgecolor='k', marker='D')   #target \n",
    "plt.xlabel('Sepal length', fontsize=30) \n",
    "plt.ylabel('petal length', fontsize=30) \n",
    "plt.title('Estimated number of clusters: %d' % n_clusters_, fontsize=20)\n",
    "plt.show()"
   ]
  },
  {
   "cell_type": "markdown",
   "metadata": {
    "id": "3uuqtKDYj9i1"
   },
   "source": [
    "## **5.2.3 Evaluating the model: Completeness & homogeneity scores**\n",
    "\n",
    "These scores tell you how well the clustering algorithm performed.\n",
    "* Perfect homogeneity score=1, perfect completeness score =1: your clustering matches your classes perfectly.\n",
    "\n",
    "* A clustering result satisfies homogeneity if all of its clusters contain only data points which are members of a single class.\n",
    "\n",
    "* A clustering result satisfies completeness if all the data points that are members of a given class are elements of the same cluster."
   ]
  },
  {
   "cell_type": "code",
   "execution_count": 43,
   "metadata": {
    "colab": {
     "base_uri": "https://localhost:8080/"
    },
    "executionInfo": {
     "elapsed": 17,
     "status": "ok",
     "timestamp": 1657586579859,
     "user": {
      "displayName": "Sonja Streuber",
      "userId": "03872648719424952237"
     },
     "user_tz": 300
    },
    "id": "TVb2cjP2kpbN",
    "outputId": "76b0b0ff-e60a-4719-99a3-cfe7f8729cd8"
   },
   "outputs": [
    {
     "name": "stdout",
     "output_type": "stream",
     "text": [
      "Completeness: 1.0\n"
     ]
    }
   ],
   "source": [
    "# Examples for perfect scores\n",
    "# Perfect labelings are complete and homogeneous:\n",
    "print(\"Completeness: %0.1f\" %  metrics.completeness_score([0, 0, 1, 1], [1, 1, 0, 0]))"
   ]
  },
  {
   "cell_type": "code",
   "execution_count": 44,
   "metadata": {
    "colab": {
     "base_uri": "https://localhost:8080/"
    },
    "executionInfo": {
     "elapsed": 17,
     "status": "ok",
     "timestamp": 1657586579861,
     "user": {
      "displayName": "Sonja Streuber",
      "userId": "03872648719424952237"
     },
     "user_tz": 300
    },
    "id": "VltSYOlMkxx4",
    "outputId": "992242a5-eb7e-4830-9b83-9186c27ac983"
   },
   "outputs": [
    {
     "name": "stdout",
     "output_type": "stream",
     "text": [
      "Completeness: 1.0\n"
     ]
    }
   ],
   "source": [
    "# completeness: for a given class, are all its points placed in one cluster?\n",
    "print(\"Completeness: %0.1f\" %  metrics.completeness_score([0, 0, 1, 1], [0, 0, 0, 0]))"
   ]
  },
  {
   "cell_type": "code",
   "execution_count": 45,
   "metadata": {
    "colab": {
     "base_uri": "https://localhost:8080/"
    },
    "executionInfo": {
     "elapsed": 15,
     "status": "ok",
     "timestamp": 1657586579862,
     "user": {
      "displayName": "Sonja Streuber",
      "userId": "03872648719424952237"
     },
     "user_tz": 300
    },
    "id": "V9IFG5wdk95e",
    "outputId": "ad1c72de-8963-438e-f3ec-265c16a9948f"
   },
   "outputs": [
    {
     "name": "stdout",
     "output_type": "stream",
     "text": [
      "Homogeneity: 0.0\n"
     ]
    }
   ],
   "source": [
    "# Homogeneity: for a given cluster, do all the points in it come from the same class?\n",
    "print(\"Homogeneity: %0.1f\" %  metrics.homogeneity_score([0, 0, 1, 1], [0, 0, 0, 0]))"
   ]
  },
  {
   "cell_type": "markdown",
   "metadata": {
    "id": "SBwTHuGklBCy"
   },
   "source": [
    "And now back to our iris dataset!"
   ]
  },
  {
   "cell_type": "code",
   "execution_count": 46,
   "metadata": {
    "colab": {
     "base_uri": "https://localhost:8080/"
    },
    "executionInfo": {
     "elapsed": 198,
     "status": "ok",
     "timestamp": 1657586580047,
     "user": {
      "displayName": "Sonja Streuber",
      "userId": "03872648719424952237"
     },
     "user_tz": 300
    },
    "id": "rx8VysL7ka98",
    "outputId": "383a4182-b66f-4e4d-d38d-5545d26e2832"
   },
   "outputs": [
    {
     "name": "stdout",
     "output_type": "stream",
     "text": [
      "Completeness: 0.92\n",
      "Homogeneity: 0.59\n"
     ]
    }
   ],
   "source": [
    "model_2 = DBSCAN(eps=0.8, min_samples=6).fit(X)\n",
    "labels=model_2.labels_\n",
    "labels_true = iris.target\n",
    "\n",
    "print(\"Completeness: %0.2f\" % metrics.completeness_score(labels_true, labels))\n",
    "print(\"Homogeneity: %0.2f\" % metrics.homogeneity_score(labels_true, labels))"
   ]
  },
  {
   "cell_type": "markdown",
   "metadata": {
    "id": "nNf3Cq2HlFc_"
   },
   "source": [
    "##Your Turn \n",
    "**Exercise 3: DBSCAN and Dog Breeds**\n",
    "\n",
    "Apply DBSCAN to the dog breeds dataset using the code fields below. Create a visualization. "
   ]
  },
  {
   "cell_type": "code",
   "execution_count": 47,
   "metadata": {
    "executionInfo": {
     "elapsed": 12,
     "status": "ok",
     "timestamp": 1657586580048,
     "user": {
      "displayName": "Sonja Streuber",
      "userId": "03872648719424952237"
     },
     "user_tz": 300
    },
    "id": "UDZXvQ0Nlmm5"
   },
   "outputs": [],
   "source": [
    "# Build your DBSCAN algorithm here"
   ]
  },
  {
   "cell_type": "code",
   "execution_count": 48,
   "metadata": {
    "executionInfo": {
     "elapsed": 13,
     "status": "ok",
     "timestamp": 1657586580049,
     "user": {
      "displayName": "Sonja Streuber",
      "userId": "03872648719424952237"
     },
     "user_tz": 300
    },
    "id": "CFz3mNiclv_G"
   },
   "outputs": [],
   "source": [
    "# Create your visualization here"
   ]
  },
  {
   "cell_type": "markdown",
   "metadata": {
    "id": "078L0VgLllaI"
   },
   "source": [
    "In the field below, describe how the output from this algorithm differs from what you have seen with k Means and Hierarchical Clustering. \n",
    "\n"
   ]
  },
  {
   "cell_type": "markdown",
   "metadata": {
    "id": "I4lPc3TRmJ4m"
   },
   "source": []
  },
  {
   "cell_type": "markdown",
   "metadata": {
    "id": "FCZxNDSDmKid"
   },
   "source": [
    "Which of the three clustering approaches is best for the dog breeds dataset? Which one works best for the iris dataset? Answer these two questions in the field below."
   ]
  },
  {
   "cell_type": "markdown",
   "metadata": {
    "id": "zaL0N0AvmVau"
   },
   "source": []
  },
  {
   "cell_type": "markdown",
   "metadata": {
    "id": "PGZBIdAYmW8p"
   },
   "source": []
  },
  {
   "cell_type": "markdown",
   "metadata": {
    "id": "NK9OdavIpR_I"
   },
   "source": [
    "#**Congratulations! You're done with this module!**\n",
    "\n",
    "<div>\n",
    "<center>\n",
    "<img src=\"https://raw.githubusercontent.com/shstreuber/Data-Mining/master/images/dog_smile.jpg\" width=\"500\">\n",
    "</div>"
   ]
  }
 ],
 "metadata": {
  "colab": {
   "collapsed_sections": [
    "CEz5h9fkMNWJ"
   ],
   "name": "Module 11_Clustering_2022.ipynb",
   "provenance": [
    {
     "file_id": "1WLlCZRY2czdKFtHDlMivoSmp_n1S-KzT",
     "timestamp": 1625998036749
    }
   ]
  },
  "kernelspec": {
   "display_name": "Python 3 (ipykernel)",
   "language": "python",
   "name": "python3"
  },
  "language_info": {
   "codemirror_mode": {
    "name": "ipython",
    "version": 3
   },
   "file_extension": ".py",
   "mimetype": "text/x-python",
   "name": "python",
   "nbconvert_exporter": "python",
   "pygments_lexer": "ipython3",
   "version": "3.11.3"
  }
 },
 "nbformat": 4,
 "nbformat_minor": 1
}
