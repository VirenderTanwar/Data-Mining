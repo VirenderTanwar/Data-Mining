{
  "cells": [
    {
      "cell_type": "code",
      "execution_count": 3,
      "id": "4b5dfa4a",
      "metadata": {
        "id": "4b5dfa4a"
      },
      "outputs": [],
      "source": [
        "import numpy as np\n",
        "import pandas as pd\n",
        "import matplotlib.pyplot as plt\n",
        "import math\n",
        "import sklearn.metrics as metrics\n",
        "from sklearn.metrics import classification_report\n",
        "\n",
        "from sklearn.linear_model import LinearRegression\n",
        "from sklearn.linear_model import LogisticRegression\n",
        "\n",
        "import warnings\n",
        "warnings.filterwarnings(\"ignore\")\n",
        "from sklearn import preprocessing\n",
        "from sklearn.preprocessing import StandardScaler\n",
        "\n",
        "import tensorflow as tf # This tells Colab that we are using TensorFlow\n",
        "from tensorflow import keras # This is the main TensorFlow library\n",
        "from tensorflow.keras import layers # We are building a Neural Network with several hidden layers\n",
        "from tensorflow.keras.layers.experimental import preprocessing\n",
        "from keras.models import Sequential\n",
        "from keras.layers import Dense"
      ]
    },
    {
      "cell_type": "code",
      "execution_count": 2,
      "id": "92e282e2",
      "metadata": {
        "colab": {
          "base_uri": "https://localhost:8080/",
          "height": 206
        },
        "id": "92e282e2",
        "outputId": "1f53a46f-2906-4a26-810d-d00f68c0edaa"
      },
      "outputs": [
        {
          "output_type": "execute_result",
          "data": {
            "text/plain": [
              "   SEASON YEAR  WEEK  TEST ID                  BLOCK  TRAP TRAP_TYPE  \\\n",
              "0         2014    39    40542  100XX W OHARE AIRPORT  T902    GRAVID   \n",
              "1         2016    37    44219  100XX W OHARE AIRPORT  T902    GRAVID   \n",
              "2         2017    33    45351  100XX W OHARE AIRPORT  T905    GRAVID   \n",
              "3         2017    33    45345  100XX W OHARE AIRPORT  T900    GRAVID   \n",
              "4         2016    37    44169            4XX W 127TH  T135    GRAVID   \n",
              "\n",
              "                TEST DATE  NUMBER OF MOSQUITOES    RESULT  \\\n",
              "0  09/25/2014 12:09:00 AM                     8  negative   \n",
              "1  09/15/2016 12:09:00 AM                    39  negative   \n",
              "2  08/17/2017 12:08:00 AM                    50  positive   \n",
              "3  08/17/2017 12:08:00 AM                    17  positive   \n",
              "4  09/15/2016 12:09:00 AM                    12  negative   \n",
              "\n",
              "                  SPECIES  LATITUDE  LONGITUDE LOCATION  \n",
              "0  CULEX PIPIENS/RESTUANS       NaN        NaN      NaN  \n",
              "1  CULEX PIPIENS/RESTUANS       NaN        NaN      NaN  \n",
              "2  CULEX PIPIENS/RESTUANS       NaN        NaN      NaN  \n",
              "3  CULEX PIPIENS/RESTUANS       NaN        NaN      NaN  \n",
              "4  CULEX PIPIENS/RESTUANS       NaN        NaN      NaN  "
            ],
            "text/html": [
              "\n",
              "  <div id=\"df-9db21e45-9b37-4900-98ce-8ab3a8594d82\" class=\"colab-df-container\">\n",
              "    <div>\n",
              "<style scoped>\n",
              "    .dataframe tbody tr th:only-of-type {\n",
              "        vertical-align: middle;\n",
              "    }\n",
              "\n",
              "    .dataframe tbody tr th {\n",
              "        vertical-align: top;\n",
              "    }\n",
              "\n",
              "    .dataframe thead th {\n",
              "        text-align: right;\n",
              "    }\n",
              "</style>\n",
              "<table border=\"1\" class=\"dataframe\">\n",
              "  <thead>\n",
              "    <tr style=\"text-align: right;\">\n",
              "      <th></th>\n",
              "      <th>SEASON YEAR</th>\n",
              "      <th>WEEK</th>\n",
              "      <th>TEST ID</th>\n",
              "      <th>BLOCK</th>\n",
              "      <th>TRAP</th>\n",
              "      <th>TRAP_TYPE</th>\n",
              "      <th>TEST DATE</th>\n",
              "      <th>NUMBER OF MOSQUITOES</th>\n",
              "      <th>RESULT</th>\n",
              "      <th>SPECIES</th>\n",
              "      <th>LATITUDE</th>\n",
              "      <th>LONGITUDE</th>\n",
              "      <th>LOCATION</th>\n",
              "    </tr>\n",
              "  </thead>\n",
              "  <tbody>\n",
              "    <tr>\n",
              "      <th>0</th>\n",
              "      <td>2014</td>\n",
              "      <td>39</td>\n",
              "      <td>40542</td>\n",
              "      <td>100XX W OHARE AIRPORT</td>\n",
              "      <td>T902</td>\n",
              "      <td>GRAVID</td>\n",
              "      <td>09/25/2014 12:09:00 AM</td>\n",
              "      <td>8</td>\n",
              "      <td>negative</td>\n",
              "      <td>CULEX PIPIENS/RESTUANS</td>\n",
              "      <td>NaN</td>\n",
              "      <td>NaN</td>\n",
              "      <td>NaN</td>\n",
              "    </tr>\n",
              "    <tr>\n",
              "      <th>1</th>\n",
              "      <td>2016</td>\n",
              "      <td>37</td>\n",
              "      <td>44219</td>\n",
              "      <td>100XX W OHARE AIRPORT</td>\n",
              "      <td>T902</td>\n",
              "      <td>GRAVID</td>\n",
              "      <td>09/15/2016 12:09:00 AM</td>\n",
              "      <td>39</td>\n",
              "      <td>negative</td>\n",
              "      <td>CULEX PIPIENS/RESTUANS</td>\n",
              "      <td>NaN</td>\n",
              "      <td>NaN</td>\n",
              "      <td>NaN</td>\n",
              "    </tr>\n",
              "    <tr>\n",
              "      <th>2</th>\n",
              "      <td>2017</td>\n",
              "      <td>33</td>\n",
              "      <td>45351</td>\n",
              "      <td>100XX W OHARE AIRPORT</td>\n",
              "      <td>T905</td>\n",
              "      <td>GRAVID</td>\n",
              "      <td>08/17/2017 12:08:00 AM</td>\n",
              "      <td>50</td>\n",
              "      <td>positive</td>\n",
              "      <td>CULEX PIPIENS/RESTUANS</td>\n",
              "      <td>NaN</td>\n",
              "      <td>NaN</td>\n",
              "      <td>NaN</td>\n",
              "    </tr>\n",
              "    <tr>\n",
              "      <th>3</th>\n",
              "      <td>2017</td>\n",
              "      <td>33</td>\n",
              "      <td>45345</td>\n",
              "      <td>100XX W OHARE AIRPORT</td>\n",
              "      <td>T900</td>\n",
              "      <td>GRAVID</td>\n",
              "      <td>08/17/2017 12:08:00 AM</td>\n",
              "      <td>17</td>\n",
              "      <td>positive</td>\n",
              "      <td>CULEX PIPIENS/RESTUANS</td>\n",
              "      <td>NaN</td>\n",
              "      <td>NaN</td>\n",
              "      <td>NaN</td>\n",
              "    </tr>\n",
              "    <tr>\n",
              "      <th>4</th>\n",
              "      <td>2016</td>\n",
              "      <td>37</td>\n",
              "      <td>44169</td>\n",
              "      <td>4XX W 127TH</td>\n",
              "      <td>T135</td>\n",
              "      <td>GRAVID</td>\n",
              "      <td>09/15/2016 12:09:00 AM</td>\n",
              "      <td>12</td>\n",
              "      <td>negative</td>\n",
              "      <td>CULEX PIPIENS/RESTUANS</td>\n",
              "      <td>NaN</td>\n",
              "      <td>NaN</td>\n",
              "      <td>NaN</td>\n",
              "    </tr>\n",
              "  </tbody>\n",
              "</table>\n",
              "</div>\n",
              "    <div class=\"colab-df-buttons\">\n",
              "\n",
              "  <div class=\"colab-df-container\">\n",
              "    <button class=\"colab-df-convert\" onclick=\"convertToInteractive('df-9db21e45-9b37-4900-98ce-8ab3a8594d82')\"\n",
              "            title=\"Convert this dataframe to an interactive table.\"\n",
              "            style=\"display:none;\">\n",
              "\n",
              "  <svg xmlns=\"http://www.w3.org/2000/svg\" height=\"24px\" viewBox=\"0 -960 960 960\">\n",
              "    <path d=\"M120-120v-720h720v720H120Zm60-500h600v-160H180v160Zm220 220h160v-160H400v160Zm0 220h160v-160H400v160ZM180-400h160v-160H180v160Zm440 0h160v-160H620v160ZM180-180h160v-160H180v160Zm440 0h160v-160H620v160Z\"/>\n",
              "  </svg>\n",
              "    </button>\n",
              "\n",
              "  <style>\n",
              "    .colab-df-container {\n",
              "      display:flex;\n",
              "      gap: 12px;\n",
              "    }\n",
              "\n",
              "    .colab-df-convert {\n",
              "      background-color: #E8F0FE;\n",
              "      border: none;\n",
              "      border-radius: 50%;\n",
              "      cursor: pointer;\n",
              "      display: none;\n",
              "      fill: #1967D2;\n",
              "      height: 32px;\n",
              "      padding: 0 0 0 0;\n",
              "      width: 32px;\n",
              "    }\n",
              "\n",
              "    .colab-df-convert:hover {\n",
              "      background-color: #E2EBFA;\n",
              "      box-shadow: 0px 1px 2px rgba(60, 64, 67, 0.3), 0px 1px 3px 1px rgba(60, 64, 67, 0.15);\n",
              "      fill: #174EA6;\n",
              "    }\n",
              "\n",
              "    .colab-df-buttons div {\n",
              "      margin-bottom: 4px;\n",
              "    }\n",
              "\n",
              "    [theme=dark] .colab-df-convert {\n",
              "      background-color: #3B4455;\n",
              "      fill: #D2E3FC;\n",
              "    }\n",
              "\n",
              "    [theme=dark] .colab-df-convert:hover {\n",
              "      background-color: #434B5C;\n",
              "      box-shadow: 0px 1px 3px 1px rgba(0, 0, 0, 0.15);\n",
              "      filter: drop-shadow(0px 1px 2px rgba(0, 0, 0, 0.3));\n",
              "      fill: #FFFFFF;\n",
              "    }\n",
              "  </style>\n",
              "\n",
              "    <script>\n",
              "      const buttonEl =\n",
              "        document.querySelector('#df-9db21e45-9b37-4900-98ce-8ab3a8594d82 button.colab-df-convert');\n",
              "      buttonEl.style.display =\n",
              "        google.colab.kernel.accessAllowed ? 'block' : 'none';\n",
              "\n",
              "      async function convertToInteractive(key) {\n",
              "        const element = document.querySelector('#df-9db21e45-9b37-4900-98ce-8ab3a8594d82');\n",
              "        const dataTable =\n",
              "          await google.colab.kernel.invokeFunction('convertToInteractive',\n",
              "                                                    [key], {});\n",
              "        if (!dataTable) return;\n",
              "\n",
              "        const docLinkHtml = 'Like what you see? Visit the ' +\n",
              "          '<a target=\"_blank\" href=https://colab.research.google.com/notebooks/data_table.ipynb>data table notebook</a>'\n",
              "          + ' to learn more about interactive tables.';\n",
              "        element.innerHTML = '';\n",
              "        dataTable['output_type'] = 'display_data';\n",
              "        await google.colab.output.renderOutput(dataTable, element);\n",
              "        const docLink = document.createElement('div');\n",
              "        docLink.innerHTML = docLinkHtml;\n",
              "        element.appendChild(docLink);\n",
              "      }\n",
              "    </script>\n",
              "  </div>\n",
              "\n",
              "\n",
              "<div id=\"df-319ace87-2e65-4391-9a1f-423c70714350\">\n",
              "  <button class=\"colab-df-quickchart\" onclick=\"quickchart('df-319ace87-2e65-4391-9a1f-423c70714350')\"\n",
              "            title=\"Suggest charts\"\n",
              "            style=\"display:none;\">\n",
              "\n",
              "<svg xmlns=\"http://www.w3.org/2000/svg\" height=\"24px\"viewBox=\"0 0 24 24\"\n",
              "     width=\"24px\">\n",
              "    <g>\n",
              "        <path d=\"M19 3H5c-1.1 0-2 .9-2 2v14c0 1.1.9 2 2 2h14c1.1 0 2-.9 2-2V5c0-1.1-.9-2-2-2zM9 17H7v-7h2v7zm4 0h-2V7h2v10zm4 0h-2v-4h2v4z\"/>\n",
              "    </g>\n",
              "</svg>\n",
              "  </button>\n",
              "\n",
              "<style>\n",
              "  .colab-df-quickchart {\n",
              "      --bg-color: #E8F0FE;\n",
              "      --fill-color: #1967D2;\n",
              "      --hover-bg-color: #E2EBFA;\n",
              "      --hover-fill-color: #174EA6;\n",
              "      --disabled-fill-color: #AAA;\n",
              "      --disabled-bg-color: #DDD;\n",
              "  }\n",
              "\n",
              "  [theme=dark] .colab-df-quickchart {\n",
              "      --bg-color: #3B4455;\n",
              "      --fill-color: #D2E3FC;\n",
              "      --hover-bg-color: #434B5C;\n",
              "      --hover-fill-color: #FFFFFF;\n",
              "      --disabled-bg-color: #3B4455;\n",
              "      --disabled-fill-color: #666;\n",
              "  }\n",
              "\n",
              "  .colab-df-quickchart {\n",
              "    background-color: var(--bg-color);\n",
              "    border: none;\n",
              "    border-radius: 50%;\n",
              "    cursor: pointer;\n",
              "    display: none;\n",
              "    fill: var(--fill-color);\n",
              "    height: 32px;\n",
              "    padding: 0;\n",
              "    width: 32px;\n",
              "  }\n",
              "\n",
              "  .colab-df-quickchart:hover {\n",
              "    background-color: var(--hover-bg-color);\n",
              "    box-shadow: 0 1px 2px rgba(60, 64, 67, 0.3), 0 1px 3px 1px rgba(60, 64, 67, 0.15);\n",
              "    fill: var(--button-hover-fill-color);\n",
              "  }\n",
              "\n",
              "  .colab-df-quickchart-complete:disabled,\n",
              "  .colab-df-quickchart-complete:disabled:hover {\n",
              "    background-color: var(--disabled-bg-color);\n",
              "    fill: var(--disabled-fill-color);\n",
              "    box-shadow: none;\n",
              "  }\n",
              "\n",
              "  .colab-df-spinner {\n",
              "    border: 2px solid var(--fill-color);\n",
              "    border-color: transparent;\n",
              "    border-bottom-color: var(--fill-color);\n",
              "    animation:\n",
              "      spin 1s steps(1) infinite;\n",
              "  }\n",
              "\n",
              "  @keyframes spin {\n",
              "    0% {\n",
              "      border-color: transparent;\n",
              "      border-bottom-color: var(--fill-color);\n",
              "      border-left-color: var(--fill-color);\n",
              "    }\n",
              "    20% {\n",
              "      border-color: transparent;\n",
              "      border-left-color: var(--fill-color);\n",
              "      border-top-color: var(--fill-color);\n",
              "    }\n",
              "    30% {\n",
              "      border-color: transparent;\n",
              "      border-left-color: var(--fill-color);\n",
              "      border-top-color: var(--fill-color);\n",
              "      border-right-color: var(--fill-color);\n",
              "    }\n",
              "    40% {\n",
              "      border-color: transparent;\n",
              "      border-right-color: var(--fill-color);\n",
              "      border-top-color: var(--fill-color);\n",
              "    }\n",
              "    60% {\n",
              "      border-color: transparent;\n",
              "      border-right-color: var(--fill-color);\n",
              "    }\n",
              "    80% {\n",
              "      border-color: transparent;\n",
              "      border-right-color: var(--fill-color);\n",
              "      border-bottom-color: var(--fill-color);\n",
              "    }\n",
              "    90% {\n",
              "      border-color: transparent;\n",
              "      border-bottom-color: var(--fill-color);\n",
              "    }\n",
              "  }\n",
              "</style>\n",
              "\n",
              "  <script>\n",
              "    async function quickchart(key) {\n",
              "      const quickchartButtonEl =\n",
              "        document.querySelector('#' + key + ' button');\n",
              "      quickchartButtonEl.disabled = true;  // To prevent multiple clicks.\n",
              "      quickchartButtonEl.classList.add('colab-df-spinner');\n",
              "      try {\n",
              "        const charts = await google.colab.kernel.invokeFunction(\n",
              "            'suggestCharts', [key], {});\n",
              "      } catch (error) {\n",
              "        console.error('Error during call to suggestCharts:', error);\n",
              "      }\n",
              "      quickchartButtonEl.classList.remove('colab-df-spinner');\n",
              "      quickchartButtonEl.classList.add('colab-df-quickchart-complete');\n",
              "    }\n",
              "    (() => {\n",
              "      let quickchartButtonEl =\n",
              "        document.querySelector('#df-319ace87-2e65-4391-9a1f-423c70714350 button');\n",
              "      quickchartButtonEl.style.display =\n",
              "        google.colab.kernel.accessAllowed ? 'block' : 'none';\n",
              "    })();\n",
              "  </script>\n",
              "</div>\n",
              "    </div>\n",
              "  </div>\n"
            ]
          },
          "metadata": {},
          "execution_count": 2
        }
      ],
      "source": [
        "git_link = \"https://github.com/Pavankalyanreddydegulwadi/it533-week15/raw/47ef1279524bd16e63bcb8562471762c28f10b25/West_Nile_Virus__WNV__Mosquito_Test_Results.csv\"\n",
        "\n",
        "practice_df = pd.read_csv(git_link)\n",
        "practice_df.head()"
      ]
    },
    {
      "cell_type": "code",
      "execution_count": 4,
      "id": "a7257a64",
      "metadata": {
        "id": "a7257a64"
      },
      "outputs": [],
      "source": [
        "practice_df['RESULT'] = practice_df['RESULT'].astype('category')\n",
        "practice_df['RESULT'] = practice_df['RESULT'].cat.codes"
      ]
    },
    {
      "cell_type": "code",
      "execution_count": 5,
      "id": "fbff87af",
      "metadata": {
        "colab": {
          "base_uri": "https://localhost:8080/"
        },
        "id": "fbff87af",
        "outputId": "63056f84-0c63-4eb0-e689-b445a19ebf31"
      },
      "outputs": [
        {
          "output_type": "execute_result",
          "data": {
            "text/plain": [
              "0       -0.303554\n",
              "1       -0.303554\n",
              "2        3.294312\n",
              "3        3.294312\n",
              "4       -0.303554\n",
              "           ...   \n",
              "29484   -0.303554\n",
              "29485   -0.303554\n",
              "29486   -0.303554\n",
              "29487   -0.303554\n",
              "29488   -0.303554\n",
              "Name: RESULT, Length: 29489, dtype: float64"
            ]
          },
          "metadata": {},
          "execution_count": 5
        }
      ],
      "source": [
        "#Standardize\n",
        "\n",
        "x = practice_df['RESULT'].values\n",
        "scaler = StandardScaler()\n",
        "\n",
        "practice_df['RESULT'] = scaler.fit_transform(np.reshape(x,(-1,1)))\n",
        "practice_df['RESULT']"
      ]
    },
    {
      "cell_type": "code",
      "execution_count": 6,
      "id": "4a842587",
      "metadata": {
        "id": "4a842587"
      },
      "outputs": [],
      "source": [
        "bins = np.linspace(practice_df['NUMBER OF MOSQUITOES'].min(),practice_df['NUMBER OF MOSQUITOES'].max(),6)\n",
        "\n",
        "labels = ['xs','s','m','l','xl']\n",
        "\n",
        "practice_df['NUMBER OF MOSQUITOES'] = pd.cut(practice_df['NUMBER OF MOSQUITOES'] , bins=bins, labels=labels, include_lowest=True)"
      ]
    },
    {
      "cell_type": "code",
      "execution_count": 7,
      "id": "0490e27b",
      "metadata": {
        "colab": {
          "base_uri": "https://localhost:8080/"
        },
        "id": "0490e27b",
        "outputId": "1b02f940-934a-4f0d-b25f-84c2f430b45a"
      },
      "outputs": [
        {
          "output_type": "execute_result",
          "data": {
            "text/plain": [
              "xs    22212\n",
              "s      3036\n",
              "l      2573\n",
              "m      1667\n",
              "xl        1\n",
              "Name: NUMBER OF MOSQUITOES, dtype: int64"
            ]
          },
          "metadata": {},
          "execution_count": 7
        }
      ],
      "source": [
        "practice_df['NUMBER OF MOSQUITOES'].value_counts()"
      ]
    },
    {
      "cell_type": "code",
      "execution_count": 8,
      "id": "ad70acfb",
      "metadata": {
        "id": "ad70acfb"
      },
      "outputs": [],
      "source": [
        "practice_df.LONGITUDE.replace(np.nan,'null',inplace=True)"
      ]
    },
    {
      "cell_type": "code",
      "execution_count": 9,
      "id": "dc3d61b6",
      "metadata": {
        "colab": {
          "base_uri": "https://localhost:8080/"
        },
        "id": "dc3d61b6",
        "outputId": "54b336cb-f664-4998-b02f-ce37f9732612"
      },
      "outputs": [
        {
          "output_type": "execute_result",
          "data": {
            "text/plain": [
              "0"
            ]
          },
          "metadata": {},
          "execution_count": 9
        }
      ],
      "source": [
        "practice_df['LONGITUDE'].isnull().sum()"
      ]
    },
    {
      "cell_type": "code",
      "execution_count": 10,
      "id": "5238369f",
      "metadata": {
        "colab": {
          "base_uri": "https://localhost:8080/"
        },
        "id": "5238369f",
        "outputId": "5cfe819a-a1ac-4a78-f8a7-04f022dbe83f"
      },
      "outputs": [
        {
          "output_type": "execute_result",
          "data": {
            "text/plain": [
              "count    29489.000000\n",
              "mean        31.073587\n",
              "std          4.533390\n",
              "min         20.000000\n",
              "25%         28.000000\n",
              "50%         31.000000\n",
              "75%         35.000000\n",
              "max         40.000000\n",
              "Name: WEEK, dtype: float64"
            ]
          },
          "metadata": {},
          "execution_count": 10
        }
      ],
      "source": [
        "practice_df['WEEK'].describe()"
      ]
    },
    {
      "cell_type": "code",
      "execution_count": 11,
      "id": "8a2dbd17",
      "metadata": {
        "id": "8a2dbd17"
      },
      "outputs": [],
      "source": [
        "train_practice_dfset = practice_df.sample(frac=0.8, random_state=0)\n",
        "test_practice_dfset = practice_df.drop(train_practice_dfset.index)"
      ]
    },
    {
      "cell_type": "code",
      "execution_count": 12,
      "id": "e4fcc7fd",
      "metadata": {
        "id": "e4fcc7fd"
      },
      "outputs": [],
      "source": [
        "from sklearn.model_selection import train_test_split\n",
        "train, test = train_test_split(practice_df, test_size = 0.2)"
      ]
    },
    {
      "cell_type": "code",
      "execution_count": 13,
      "id": "6d43f1a0",
      "metadata": {
        "colab": {
          "base_uri": "https://localhost:8080/",
          "height": 143
        },
        "id": "6d43f1a0",
        "outputId": "f32af12b-220c-495f-cfe9-786dc398df01"
      },
      "outputs": [
        {
          "output_type": "execute_result",
          "data": {
            "text/plain": [
              "             SEASON YEAR    RESULT      WEEK\n",
              "SEASON YEAR     1.000000  0.095773  0.005214\n",
              "RESULT          0.095773  1.000000  0.095540\n",
              "WEEK            0.005214  0.095540  1.000000"
            ],
            "text/html": [
              "\n",
              "  <div id=\"df-acbc402e-e322-4324-bbbf-877671aca104\" class=\"colab-df-container\">\n",
              "    <div>\n",
              "<style scoped>\n",
              "    .dataframe tbody tr th:only-of-type {\n",
              "        vertical-align: middle;\n",
              "    }\n",
              "\n",
              "    .dataframe tbody tr th {\n",
              "        vertical-align: top;\n",
              "    }\n",
              "\n",
              "    .dataframe thead th {\n",
              "        text-align: right;\n",
              "    }\n",
              "</style>\n",
              "<table border=\"1\" class=\"dataframe\">\n",
              "  <thead>\n",
              "    <tr style=\"text-align: right;\">\n",
              "      <th></th>\n",
              "      <th>SEASON YEAR</th>\n",
              "      <th>RESULT</th>\n",
              "      <th>WEEK</th>\n",
              "    </tr>\n",
              "  </thead>\n",
              "  <tbody>\n",
              "    <tr>\n",
              "      <th>SEASON YEAR</th>\n",
              "      <td>1.000000</td>\n",
              "      <td>0.095773</td>\n",
              "      <td>0.005214</td>\n",
              "    </tr>\n",
              "    <tr>\n",
              "      <th>RESULT</th>\n",
              "      <td>0.095773</td>\n",
              "      <td>1.000000</td>\n",
              "      <td>0.095540</td>\n",
              "    </tr>\n",
              "    <tr>\n",
              "      <th>WEEK</th>\n",
              "      <td>0.005214</td>\n",
              "      <td>0.095540</td>\n",
              "      <td>1.000000</td>\n",
              "    </tr>\n",
              "  </tbody>\n",
              "</table>\n",
              "</div>\n",
              "    <div class=\"colab-df-buttons\">\n",
              "\n",
              "  <div class=\"colab-df-container\">\n",
              "    <button class=\"colab-df-convert\" onclick=\"convertToInteractive('df-acbc402e-e322-4324-bbbf-877671aca104')\"\n",
              "            title=\"Convert this dataframe to an interactive table.\"\n",
              "            style=\"display:none;\">\n",
              "\n",
              "  <svg xmlns=\"http://www.w3.org/2000/svg\" height=\"24px\" viewBox=\"0 -960 960 960\">\n",
              "    <path d=\"M120-120v-720h720v720H120Zm60-500h600v-160H180v160Zm220 220h160v-160H400v160Zm0 220h160v-160H400v160ZM180-400h160v-160H180v160Zm440 0h160v-160H620v160ZM180-180h160v-160H180v160Zm440 0h160v-160H620v160Z\"/>\n",
              "  </svg>\n",
              "    </button>\n",
              "\n",
              "  <style>\n",
              "    .colab-df-container {\n",
              "      display:flex;\n",
              "      gap: 12px;\n",
              "    }\n",
              "\n",
              "    .colab-df-convert {\n",
              "      background-color: #E8F0FE;\n",
              "      border: none;\n",
              "      border-radius: 50%;\n",
              "      cursor: pointer;\n",
              "      display: none;\n",
              "      fill: #1967D2;\n",
              "      height: 32px;\n",
              "      padding: 0 0 0 0;\n",
              "      width: 32px;\n",
              "    }\n",
              "\n",
              "    .colab-df-convert:hover {\n",
              "      background-color: #E2EBFA;\n",
              "      box-shadow: 0px 1px 2px rgba(60, 64, 67, 0.3), 0px 1px 3px 1px rgba(60, 64, 67, 0.15);\n",
              "      fill: #174EA6;\n",
              "    }\n",
              "\n",
              "    .colab-df-buttons div {\n",
              "      margin-bottom: 4px;\n",
              "    }\n",
              "\n",
              "    [theme=dark] .colab-df-convert {\n",
              "      background-color: #3B4455;\n",
              "      fill: #D2E3FC;\n",
              "    }\n",
              "\n",
              "    [theme=dark] .colab-df-convert:hover {\n",
              "      background-color: #434B5C;\n",
              "      box-shadow: 0px 1px 3px 1px rgba(0, 0, 0, 0.15);\n",
              "      filter: drop-shadow(0px 1px 2px rgba(0, 0, 0, 0.3));\n",
              "      fill: #FFFFFF;\n",
              "    }\n",
              "  </style>\n",
              "\n",
              "    <script>\n",
              "      const buttonEl =\n",
              "        document.querySelector('#df-acbc402e-e322-4324-bbbf-877671aca104 button.colab-df-convert');\n",
              "      buttonEl.style.display =\n",
              "        google.colab.kernel.accessAllowed ? 'block' : 'none';\n",
              "\n",
              "      async function convertToInteractive(key) {\n",
              "        const element = document.querySelector('#df-acbc402e-e322-4324-bbbf-877671aca104');\n",
              "        const dataTable =\n",
              "          await google.colab.kernel.invokeFunction('convertToInteractive',\n",
              "                                                    [key], {});\n",
              "        if (!dataTable) return;\n",
              "\n",
              "        const docLinkHtml = 'Like what you see? Visit the ' +\n",
              "          '<a target=\"_blank\" href=https://colab.research.google.com/notebooks/data_table.ipynb>data table notebook</a>'\n",
              "          + ' to learn more about interactive tables.';\n",
              "        element.innerHTML = '';\n",
              "        dataTable['output_type'] = 'display_data';\n",
              "        await google.colab.output.renderOutput(dataTable, element);\n",
              "        const docLink = document.createElement('div');\n",
              "        docLink.innerHTML = docLinkHtml;\n",
              "        element.appendChild(docLink);\n",
              "      }\n",
              "    </script>\n",
              "  </div>\n",
              "\n",
              "\n",
              "<div id=\"df-9d5daa75-ecf2-4f6a-8484-39a952248748\">\n",
              "  <button class=\"colab-df-quickchart\" onclick=\"quickchart('df-9d5daa75-ecf2-4f6a-8484-39a952248748')\"\n",
              "            title=\"Suggest charts\"\n",
              "            style=\"display:none;\">\n",
              "\n",
              "<svg xmlns=\"http://www.w3.org/2000/svg\" height=\"24px\"viewBox=\"0 0 24 24\"\n",
              "     width=\"24px\">\n",
              "    <g>\n",
              "        <path d=\"M19 3H5c-1.1 0-2 .9-2 2v14c0 1.1.9 2 2 2h14c1.1 0 2-.9 2-2V5c0-1.1-.9-2-2-2zM9 17H7v-7h2v7zm4 0h-2V7h2v10zm4 0h-2v-4h2v4z\"/>\n",
              "    </g>\n",
              "</svg>\n",
              "  </button>\n",
              "\n",
              "<style>\n",
              "  .colab-df-quickchart {\n",
              "      --bg-color: #E8F0FE;\n",
              "      --fill-color: #1967D2;\n",
              "      --hover-bg-color: #E2EBFA;\n",
              "      --hover-fill-color: #174EA6;\n",
              "      --disabled-fill-color: #AAA;\n",
              "      --disabled-bg-color: #DDD;\n",
              "  }\n",
              "\n",
              "  [theme=dark] .colab-df-quickchart {\n",
              "      --bg-color: #3B4455;\n",
              "      --fill-color: #D2E3FC;\n",
              "      --hover-bg-color: #434B5C;\n",
              "      --hover-fill-color: #FFFFFF;\n",
              "      --disabled-bg-color: #3B4455;\n",
              "      --disabled-fill-color: #666;\n",
              "  }\n",
              "\n",
              "  .colab-df-quickchart {\n",
              "    background-color: var(--bg-color);\n",
              "    border: none;\n",
              "    border-radius: 50%;\n",
              "    cursor: pointer;\n",
              "    display: none;\n",
              "    fill: var(--fill-color);\n",
              "    height: 32px;\n",
              "    padding: 0;\n",
              "    width: 32px;\n",
              "  }\n",
              "\n",
              "  .colab-df-quickchart:hover {\n",
              "    background-color: var(--hover-bg-color);\n",
              "    box-shadow: 0 1px 2px rgba(60, 64, 67, 0.3), 0 1px 3px 1px rgba(60, 64, 67, 0.15);\n",
              "    fill: var(--button-hover-fill-color);\n",
              "  }\n",
              "\n",
              "  .colab-df-quickchart-complete:disabled,\n",
              "  .colab-df-quickchart-complete:disabled:hover {\n",
              "    background-color: var(--disabled-bg-color);\n",
              "    fill: var(--disabled-fill-color);\n",
              "    box-shadow: none;\n",
              "  }\n",
              "\n",
              "  .colab-df-spinner {\n",
              "    border: 2px solid var(--fill-color);\n",
              "    border-color: transparent;\n",
              "    border-bottom-color: var(--fill-color);\n",
              "    animation:\n",
              "      spin 1s steps(1) infinite;\n",
              "  }\n",
              "\n",
              "  @keyframes spin {\n",
              "    0% {\n",
              "      border-color: transparent;\n",
              "      border-bottom-color: var(--fill-color);\n",
              "      border-left-color: var(--fill-color);\n",
              "    }\n",
              "    20% {\n",
              "      border-color: transparent;\n",
              "      border-left-color: var(--fill-color);\n",
              "      border-top-color: var(--fill-color);\n",
              "    }\n",
              "    30% {\n",
              "      border-color: transparent;\n",
              "      border-left-color: var(--fill-color);\n",
              "      border-top-color: var(--fill-color);\n",
              "      border-right-color: var(--fill-color);\n",
              "    }\n",
              "    40% {\n",
              "      border-color: transparent;\n",
              "      border-right-color: var(--fill-color);\n",
              "      border-top-color: var(--fill-color);\n",
              "    }\n",
              "    60% {\n",
              "      border-color: transparent;\n",
              "      border-right-color: var(--fill-color);\n",
              "    }\n",
              "    80% {\n",
              "      border-color: transparent;\n",
              "      border-right-color: var(--fill-color);\n",
              "      border-bottom-color: var(--fill-color);\n",
              "    }\n",
              "    90% {\n",
              "      border-color: transparent;\n",
              "      border-bottom-color: var(--fill-color);\n",
              "    }\n",
              "  }\n",
              "</style>\n",
              "\n",
              "  <script>\n",
              "    async function quickchart(key) {\n",
              "      const quickchartButtonEl =\n",
              "        document.querySelector('#' + key + ' button');\n",
              "      quickchartButtonEl.disabled = true;  // To prevent multiple clicks.\n",
              "      quickchartButtonEl.classList.add('colab-df-spinner');\n",
              "      try {\n",
              "        const charts = await google.colab.kernel.invokeFunction(\n",
              "            'suggestCharts', [key], {});\n",
              "      } catch (error) {\n",
              "        console.error('Error during call to suggestCharts:', error);\n",
              "      }\n",
              "      quickchartButtonEl.classList.remove('colab-df-spinner');\n",
              "      quickchartButtonEl.classList.add('colab-df-quickchart-complete');\n",
              "    }\n",
              "    (() => {\n",
              "      let quickchartButtonEl =\n",
              "        document.querySelector('#df-9d5daa75-ecf2-4f6a-8484-39a952248748 button');\n",
              "      quickchartButtonEl.style.display =\n",
              "        google.colab.kernel.accessAllowed ? 'block' : 'none';\n",
              "    })();\n",
              "  </script>\n",
              "</div>\n",
              "    </div>\n",
              "  </div>\n"
            ]
          },
          "metadata": {},
          "execution_count": 13
        }
      ],
      "source": [
        "practice_df[['SEASON YEAR','RESULT','WEEK']].corr()"
      ]
    },
    {
      "cell_type": "code",
      "source": [
        "print([i for i in practice_df.columns if practice_df[i].dtype=='object'])\n",
        "practice_df[[i for i in practice_df.columns if practice_df[i].dtype=='object']].head()"
      ],
      "metadata": {
        "colab": {
          "base_uri": "https://localhost:8080/",
          "height": 224
        },
        "id": "RKVo856Mjcmr",
        "outputId": "6c87652e-8f3d-43d1-e88c-3a90f0e25511"
      },
      "id": "RKVo856Mjcmr",
      "execution_count": 18,
      "outputs": [
        {
          "output_type": "stream",
          "name": "stdout",
          "text": [
            "['BLOCK', 'TRAP', 'TRAP_TYPE', 'TEST DATE', 'SPECIES', 'LONGITUDE', 'LOCATION']\n"
          ]
        },
        {
          "output_type": "execute_result",
          "data": {
            "text/plain": [
              "                   BLOCK  TRAP TRAP_TYPE               TEST DATE  \\\n",
              "0  100XX W OHARE AIRPORT  T902    GRAVID  09/25/2014 12:09:00 AM   \n",
              "1  100XX W OHARE AIRPORT  T902    GRAVID  09/15/2016 12:09:00 AM   \n",
              "2  100XX W OHARE AIRPORT  T905    GRAVID  08/17/2017 12:08:00 AM   \n",
              "3  100XX W OHARE AIRPORT  T900    GRAVID  08/17/2017 12:08:00 AM   \n",
              "4            4XX W 127TH  T135    GRAVID  09/15/2016 12:09:00 AM   \n",
              "\n",
              "                  SPECIES LONGITUDE LOCATION  \n",
              "0  CULEX PIPIENS/RESTUANS      null      NaN  \n",
              "1  CULEX PIPIENS/RESTUANS      null      NaN  \n",
              "2  CULEX PIPIENS/RESTUANS      null      NaN  \n",
              "3  CULEX PIPIENS/RESTUANS      null      NaN  \n",
              "4  CULEX PIPIENS/RESTUANS      null      NaN  "
            ],
            "text/html": [
              "\n",
              "  <div id=\"df-16295302-d633-4e97-a719-b977ffab7a21\" class=\"colab-df-container\">\n",
              "    <div>\n",
              "<style scoped>\n",
              "    .dataframe tbody tr th:only-of-type {\n",
              "        vertical-align: middle;\n",
              "    }\n",
              "\n",
              "    .dataframe tbody tr th {\n",
              "        vertical-align: top;\n",
              "    }\n",
              "\n",
              "    .dataframe thead th {\n",
              "        text-align: right;\n",
              "    }\n",
              "</style>\n",
              "<table border=\"1\" class=\"dataframe\">\n",
              "  <thead>\n",
              "    <tr style=\"text-align: right;\">\n",
              "      <th></th>\n",
              "      <th>BLOCK</th>\n",
              "      <th>TRAP</th>\n",
              "      <th>TRAP_TYPE</th>\n",
              "      <th>TEST DATE</th>\n",
              "      <th>SPECIES</th>\n",
              "      <th>LONGITUDE</th>\n",
              "      <th>LOCATION</th>\n",
              "    </tr>\n",
              "  </thead>\n",
              "  <tbody>\n",
              "    <tr>\n",
              "      <th>0</th>\n",
              "      <td>100XX W OHARE AIRPORT</td>\n",
              "      <td>T902</td>\n",
              "      <td>GRAVID</td>\n",
              "      <td>09/25/2014 12:09:00 AM</td>\n",
              "      <td>CULEX PIPIENS/RESTUANS</td>\n",
              "      <td>null</td>\n",
              "      <td>NaN</td>\n",
              "    </tr>\n",
              "    <tr>\n",
              "      <th>1</th>\n",
              "      <td>100XX W OHARE AIRPORT</td>\n",
              "      <td>T902</td>\n",
              "      <td>GRAVID</td>\n",
              "      <td>09/15/2016 12:09:00 AM</td>\n",
              "      <td>CULEX PIPIENS/RESTUANS</td>\n",
              "      <td>null</td>\n",
              "      <td>NaN</td>\n",
              "    </tr>\n",
              "    <tr>\n",
              "      <th>2</th>\n",
              "      <td>100XX W OHARE AIRPORT</td>\n",
              "      <td>T905</td>\n",
              "      <td>GRAVID</td>\n",
              "      <td>08/17/2017 12:08:00 AM</td>\n",
              "      <td>CULEX PIPIENS/RESTUANS</td>\n",
              "      <td>null</td>\n",
              "      <td>NaN</td>\n",
              "    </tr>\n",
              "    <tr>\n",
              "      <th>3</th>\n",
              "      <td>100XX W OHARE AIRPORT</td>\n",
              "      <td>T900</td>\n",
              "      <td>GRAVID</td>\n",
              "      <td>08/17/2017 12:08:00 AM</td>\n",
              "      <td>CULEX PIPIENS/RESTUANS</td>\n",
              "      <td>null</td>\n",
              "      <td>NaN</td>\n",
              "    </tr>\n",
              "    <tr>\n",
              "      <th>4</th>\n",
              "      <td>4XX W 127TH</td>\n",
              "      <td>T135</td>\n",
              "      <td>GRAVID</td>\n",
              "      <td>09/15/2016 12:09:00 AM</td>\n",
              "      <td>CULEX PIPIENS/RESTUANS</td>\n",
              "      <td>null</td>\n",
              "      <td>NaN</td>\n",
              "    </tr>\n",
              "  </tbody>\n",
              "</table>\n",
              "</div>\n",
              "    <div class=\"colab-df-buttons\">\n",
              "\n",
              "  <div class=\"colab-df-container\">\n",
              "    <button class=\"colab-df-convert\" onclick=\"convertToInteractive('df-16295302-d633-4e97-a719-b977ffab7a21')\"\n",
              "            title=\"Convert this dataframe to an interactive table.\"\n",
              "            style=\"display:none;\">\n",
              "\n",
              "  <svg xmlns=\"http://www.w3.org/2000/svg\" height=\"24px\" viewBox=\"0 -960 960 960\">\n",
              "    <path d=\"M120-120v-720h720v720H120Zm60-500h600v-160H180v160Zm220 220h160v-160H400v160Zm0 220h160v-160H400v160ZM180-400h160v-160H180v160Zm440 0h160v-160H620v160ZM180-180h160v-160H180v160Zm440 0h160v-160H620v160Z\"/>\n",
              "  </svg>\n",
              "    </button>\n",
              "\n",
              "  <style>\n",
              "    .colab-df-container {\n",
              "      display:flex;\n",
              "      gap: 12px;\n",
              "    }\n",
              "\n",
              "    .colab-df-convert {\n",
              "      background-color: #E8F0FE;\n",
              "      border: none;\n",
              "      border-radius: 50%;\n",
              "      cursor: pointer;\n",
              "      display: none;\n",
              "      fill: #1967D2;\n",
              "      height: 32px;\n",
              "      padding: 0 0 0 0;\n",
              "      width: 32px;\n",
              "    }\n",
              "\n",
              "    .colab-df-convert:hover {\n",
              "      background-color: #E2EBFA;\n",
              "      box-shadow: 0px 1px 2px rgba(60, 64, 67, 0.3), 0px 1px 3px 1px rgba(60, 64, 67, 0.15);\n",
              "      fill: #174EA6;\n",
              "    }\n",
              "\n",
              "    .colab-df-buttons div {\n",
              "      margin-bottom: 4px;\n",
              "    }\n",
              "\n",
              "    [theme=dark] .colab-df-convert {\n",
              "      background-color: #3B4455;\n",
              "      fill: #D2E3FC;\n",
              "    }\n",
              "\n",
              "    [theme=dark] .colab-df-convert:hover {\n",
              "      background-color: #434B5C;\n",
              "      box-shadow: 0px 1px 3px 1px rgba(0, 0, 0, 0.15);\n",
              "      filter: drop-shadow(0px 1px 2px rgba(0, 0, 0, 0.3));\n",
              "      fill: #FFFFFF;\n",
              "    }\n",
              "  </style>\n",
              "\n",
              "    <script>\n",
              "      const buttonEl =\n",
              "        document.querySelector('#df-16295302-d633-4e97-a719-b977ffab7a21 button.colab-df-convert');\n",
              "      buttonEl.style.display =\n",
              "        google.colab.kernel.accessAllowed ? 'block' : 'none';\n",
              "\n",
              "      async function convertToInteractive(key) {\n",
              "        const element = document.querySelector('#df-16295302-d633-4e97-a719-b977ffab7a21');\n",
              "        const dataTable =\n",
              "          await google.colab.kernel.invokeFunction('convertToInteractive',\n",
              "                                                    [key], {});\n",
              "        if (!dataTable) return;\n",
              "\n",
              "        const docLinkHtml = 'Like what you see? Visit the ' +\n",
              "          '<a target=\"_blank\" href=https://colab.research.google.com/notebooks/data_table.ipynb>data table notebook</a>'\n",
              "          + ' to learn more about interactive tables.';\n",
              "        element.innerHTML = '';\n",
              "        dataTable['output_type'] = 'display_data';\n",
              "        await google.colab.output.renderOutput(dataTable, element);\n",
              "        const docLink = document.createElement('div');\n",
              "        docLink.innerHTML = docLinkHtml;\n",
              "        element.appendChild(docLink);\n",
              "      }\n",
              "    </script>\n",
              "  </div>\n",
              "\n",
              "\n",
              "<div id=\"df-377757dd-3c13-46ef-bd55-1aea82f45b0b\">\n",
              "  <button class=\"colab-df-quickchart\" onclick=\"quickchart('df-377757dd-3c13-46ef-bd55-1aea82f45b0b')\"\n",
              "            title=\"Suggest charts\"\n",
              "            style=\"display:none;\">\n",
              "\n",
              "<svg xmlns=\"http://www.w3.org/2000/svg\" height=\"24px\"viewBox=\"0 0 24 24\"\n",
              "     width=\"24px\">\n",
              "    <g>\n",
              "        <path d=\"M19 3H5c-1.1 0-2 .9-2 2v14c0 1.1.9 2 2 2h14c1.1 0 2-.9 2-2V5c0-1.1-.9-2-2-2zM9 17H7v-7h2v7zm4 0h-2V7h2v10zm4 0h-2v-4h2v4z\"/>\n",
              "    </g>\n",
              "</svg>\n",
              "  </button>\n",
              "\n",
              "<style>\n",
              "  .colab-df-quickchart {\n",
              "      --bg-color: #E8F0FE;\n",
              "      --fill-color: #1967D2;\n",
              "      --hover-bg-color: #E2EBFA;\n",
              "      --hover-fill-color: #174EA6;\n",
              "      --disabled-fill-color: #AAA;\n",
              "      --disabled-bg-color: #DDD;\n",
              "  }\n",
              "\n",
              "  [theme=dark] .colab-df-quickchart {\n",
              "      --bg-color: #3B4455;\n",
              "      --fill-color: #D2E3FC;\n",
              "      --hover-bg-color: #434B5C;\n",
              "      --hover-fill-color: #FFFFFF;\n",
              "      --disabled-bg-color: #3B4455;\n",
              "      --disabled-fill-color: #666;\n",
              "  }\n",
              "\n",
              "  .colab-df-quickchart {\n",
              "    background-color: var(--bg-color);\n",
              "    border: none;\n",
              "    border-radius: 50%;\n",
              "    cursor: pointer;\n",
              "    display: none;\n",
              "    fill: var(--fill-color);\n",
              "    height: 32px;\n",
              "    padding: 0;\n",
              "    width: 32px;\n",
              "  }\n",
              "\n",
              "  .colab-df-quickchart:hover {\n",
              "    background-color: var(--hover-bg-color);\n",
              "    box-shadow: 0 1px 2px rgba(60, 64, 67, 0.3), 0 1px 3px 1px rgba(60, 64, 67, 0.15);\n",
              "    fill: var(--button-hover-fill-color);\n",
              "  }\n",
              "\n",
              "  .colab-df-quickchart-complete:disabled,\n",
              "  .colab-df-quickchart-complete:disabled:hover {\n",
              "    background-color: var(--disabled-bg-color);\n",
              "    fill: var(--disabled-fill-color);\n",
              "    box-shadow: none;\n",
              "  }\n",
              "\n",
              "  .colab-df-spinner {\n",
              "    border: 2px solid var(--fill-color);\n",
              "    border-color: transparent;\n",
              "    border-bottom-color: var(--fill-color);\n",
              "    animation:\n",
              "      spin 1s steps(1) infinite;\n",
              "  }\n",
              "\n",
              "  @keyframes spin {\n",
              "    0% {\n",
              "      border-color: transparent;\n",
              "      border-bottom-color: var(--fill-color);\n",
              "      border-left-color: var(--fill-color);\n",
              "    }\n",
              "    20% {\n",
              "      border-color: transparent;\n",
              "      border-left-color: var(--fill-color);\n",
              "      border-top-color: var(--fill-color);\n",
              "    }\n",
              "    30% {\n",
              "      border-color: transparent;\n",
              "      border-left-color: var(--fill-color);\n",
              "      border-top-color: var(--fill-color);\n",
              "      border-right-color: var(--fill-color);\n",
              "    }\n",
              "    40% {\n",
              "      border-color: transparent;\n",
              "      border-right-color: var(--fill-color);\n",
              "      border-top-color: var(--fill-color);\n",
              "    }\n",
              "    60% {\n",
              "      border-color: transparent;\n",
              "      border-right-color: var(--fill-color);\n",
              "    }\n",
              "    80% {\n",
              "      border-color: transparent;\n",
              "      border-right-color: var(--fill-color);\n",
              "      border-bottom-color: var(--fill-color);\n",
              "    }\n",
              "    90% {\n",
              "      border-color: transparent;\n",
              "      border-bottom-color: var(--fill-color);\n",
              "    }\n",
              "  }\n",
              "</style>\n",
              "\n",
              "  <script>\n",
              "    async function quickchart(key) {\n",
              "      const quickchartButtonEl =\n",
              "        document.querySelector('#' + key + ' button');\n",
              "      quickchartButtonEl.disabled = true;  // To prevent multiple clicks.\n",
              "      quickchartButtonEl.classList.add('colab-df-spinner');\n",
              "      try {\n",
              "        const charts = await google.colab.kernel.invokeFunction(\n",
              "            'suggestCharts', [key], {});\n",
              "      } catch (error) {\n",
              "        console.error('Error during call to suggestCharts:', error);\n",
              "      }\n",
              "      quickchartButtonEl.classList.remove('colab-df-spinner');\n",
              "      quickchartButtonEl.classList.add('colab-df-quickchart-complete');\n",
              "    }\n",
              "    (() => {\n",
              "      let quickchartButtonEl =\n",
              "        document.querySelector('#df-377757dd-3c13-46ef-bd55-1aea82f45b0b button');\n",
              "      quickchartButtonEl.style.display =\n",
              "        google.colab.kernel.accessAllowed ? 'block' : 'none';\n",
              "    })();\n",
              "  </script>\n",
              "</div>\n",
              "    </div>\n",
              "  </div>\n"
            ]
          },
          "metadata": {},
          "execution_count": 18
        }
      ]
    },
    {
      "cell_type": "code",
      "execution_count": 19,
      "id": "PZR-yoJ6kU0Q",
      "metadata": {
        "id": "PZR-yoJ6kU0Q"
      },
      "outputs": [],
      "source": [
        "practice_df1 = practice_df[['WEEK', 'TRAP_TYPE','NUMBER OF MOSQUITOES', 'RESULT','SPECIES','LOCATION']]\n",
        "\n",
        "practice_df1['TRAP_TYPE'] = practice_df1['TRAP_TYPE'].astype('category')\n",
        "practice_df1['TRAP_TYPE'] = practice_df1['TRAP_TYPE'].cat.codes\n",
        "\n",
        "practice_df1['SPECIES'] = practice_df1['SPECIES'].astype('category')\n",
        "practice_df1['SPECIES'] = practice_df1['SPECIES'].cat.codes\n",
        "\n",
        "practice_df1['LOCATION'] = practice_df1['LOCATION'].astype('category')\n",
        "practice_df1['LOCATION'] = practice_df1['LOCATION'].cat.codes\n"
      ]
    },
    {
      "cell_type": "code",
      "execution_count": 20,
      "id": "CKtUwOgOlPSA",
      "metadata": {
        "id": "CKtUwOgOlPSA"
      },
      "outputs": [],
      "source": [
        "train_practice_dfset = practice_df1.sample(frac=0.8, random_state=0)\n",
        "test_practice_dfset = practice_df1.drop(train_practice_dfset.index)\n",
        "\n",
        "# Splitting Features from Labels\n",
        "train_features = train_practice_dfset.copy()\n",
        "test_features = test_practice_dfset.copy()\n",
        "\n",
        "train_labels = train_features.pop('NUMBER OF MOSQUITOES')\n",
        "test_labels = test_features.pop('NUMBER OF MOSQUITOES')"
      ]
    },
    {
      "cell_type": "code",
      "execution_count": 21,
      "id": "c6aOpj6RlPRO",
      "metadata": {
        "id": "c6aOpj6RlPRO"
      },
      "outputs": [],
      "source": [
        "# Encoding the output variable with pd.get_dummies\n",
        "train_labels1 = pd.get_dummies(train_labels, columns=['NUMBER OF MOSQUITOES'], prefix='', prefix_sep='')\n",
        "\n",
        "# Normalizing the input variables\n",
        "normalizer = preprocessing.Normalization(axis=-1)\n",
        "normalizer.adapt(np.array(train_features))"
      ]
    },
    {
      "cell_type": "code",
      "execution_count": 22,
      "id": "SOnBdnK3lPLh",
      "metadata": {
        "id": "SOnBdnK3lPLh"
      },
      "outputs": [],
      "source": [
        "test_labels1 = pd.get_dummies(test_labels,columns=['NUMBER OF MOSQUITOES'],prefix='', prefix_sep='')\n",
        "normalizer.adapt(np.array(train_features))"
      ]
    },
    {
      "cell_type": "code",
      "execution_count": 23,
      "id": "dqIbeModlPKq",
      "metadata": {
        "colab": {
          "base_uri": "https://localhost:8080/"
        },
        "id": "dqIbeModlPKq",
        "outputId": "db906dad-304c-4151-a93a-fa889ef12515"
      },
      "outputs": [
        {
          "output_type": "stream",
          "name": "stdout",
          "text": [
            "Model: \"sequential\"\n",
            "_________________________________________________________________\n",
            " Layer (type)                Output Shape              Param #   \n",
            "=================================================================\n",
            " normalization (Normalizati  (None, 5)                 11        \n",
            " on)                                                             \n",
            "                                                                 \n",
            " dense (Dense)               (None, 12)                72        \n",
            "                                                                 \n",
            " dense_1 (Dense)             (None, 8)                 104       \n",
            "                                                                 \n",
            " dense_2 (Dense)             (None, 5)                 45        \n",
            "                                                                 \n",
            "=================================================================\n",
            "Total params: 232 (932.00 Byte)\n",
            "Trainable params: 221 (884.00 Byte)\n",
            "Non-trainable params: 11 (48.00 Byte)\n",
            "_________________________________________________________________\n"
          ]
        }
      ],
      "source": [
        "# define the Keras model\n",
        "model = Sequential(normalizer)\n",
        "model.add(Dense(12, input_dim=6, activation='relu'))\n",
        "model.add(Dense(8, activation='relu'))\n",
        "model.add(Dense(5, activation='softmax'))\n",
        "model.summary()"
      ]
    },
    {
      "cell_type": "code",
      "execution_count": 24,
      "id": "q-i-JPHTlPFO",
      "metadata": {
        "id": "q-i-JPHTlPFO"
      },
      "outputs": [],
      "source": [
        "model.compile(loss='categorical_crossentropy', optimizer='adam', metrics=['accuracy'])"
      ]
    },
    {
      "cell_type": "code",
      "execution_count": 26,
      "id": "GV9Zdug-lPEg",
      "metadata": {
        "colab": {
          "base_uri": "https://localhost:8080/"
        },
        "id": "GV9Zdug-lPEg",
        "outputId": "3bfebddb-9708-47de-bbee-89a319a26a81"
      },
      "outputs": [
        {
          "output_type": "stream",
          "name": "stdout",
          "text": [
            "Epoch 1/10\n",
            "2360/2360 [==============================] - 10s 4ms/step - loss: 0.7266 - accuracy: 0.7674\n",
            "Epoch 2/10\n",
            "2360/2360 [==============================] - 7s 3ms/step - loss: 0.7145 - accuracy: 0.7680\n",
            "Epoch 3/10\n",
            "2360/2360 [==============================] - 7s 3ms/step - loss: 0.7103 - accuracy: 0.7688\n",
            "Epoch 4/10\n",
            "2360/2360 [==============================] - 5s 2ms/step - loss: 0.7076 - accuracy: 0.7693\n",
            "Epoch 5/10\n",
            "2360/2360 [==============================] - 8s 3ms/step - loss: 0.7056 - accuracy: 0.7720\n",
            "Epoch 6/10\n",
            "2360/2360 [==============================] - 5s 2ms/step - loss: 0.7044 - accuracy: 0.7728\n",
            "Epoch 7/10\n",
            "2360/2360 [==============================] - 6s 2ms/step - loss: 0.7037 - accuracy: 0.7728\n",
            "Epoch 8/10\n",
            "2360/2360 [==============================] - 6s 3ms/step - loss: 0.7033 - accuracy: 0.7728\n",
            "Epoch 9/10\n",
            "2360/2360 [==============================] - 5s 2ms/step - loss: 0.7025 - accuracy: 0.7733\n",
            "Epoch 10/10\n",
            "2360/2360 [==============================] - 8s 3ms/step - loss: 0.7028 - accuracy: 0.7733\n",
            "CPU times: user 1min 2s, sys: 2.52 s, total: 1min 5s\n",
            "Wall time: 1min 22s\n"
          ]
        },
        {
          "output_type": "execute_result",
          "data": {
            "text/plain": [
              "<keras.src.callbacks.History at 0x796ec425ffd0>"
            ]
          },
          "metadata": {},
          "execution_count": 26
        }
      ],
      "source": [
        "%%time\n",
        "model.fit(train_features, train_labels1, epochs=10, batch_size=10)"
      ]
    },
    {
      "cell_type": "code",
      "execution_count": 27,
      "id": "DvzNO-JllO-r",
      "metadata": {
        "colab": {
          "base_uri": "https://localhost:8080/"
        },
        "id": "DvzNO-JllO-r",
        "outputId": "b584113d-eb27-4148-94f2-f8c2b230a078"
      },
      "outputs": [
        {
          "output_type": "stream",
          "name": "stdout",
          "text": [
            "185/185 [==============================] - 1s 2ms/step - loss: 0.7011 - accuracy: 0.7757\n",
            "Accuracy: 77.57\n"
          ]
        }
      ],
      "source": [
        "# evaluate the keras model\n",
        "accuracy = model.evaluate(test_features, test_labels1)\n",
        "print('Accuracy: %.2f' % (accuracy[1]*100))"
      ]
    },
    {
      "cell_type": "code",
      "execution_count": 28,
      "id": "qJbl1jjulO99",
      "metadata": {
        "id": "qJbl1jjulO99",
        "colab": {
          "base_uri": "https://localhost:8080/"
        },
        "outputId": "9ebc26fc-feb8-4274-ae4a-314d01fcf63d"
      },
      "outputs": [
        {
          "output_type": "stream",
          "name": "stdout",
          "text": [
            "185/185 [==============================] - 0s 2ms/step\n"
          ]
        }
      ],
      "source": [
        "y_pred = model.predict(test_features)"
      ]
    },
    {
      "cell_type": "code",
      "execution_count": 29,
      "id": "X1fUo820lO3x",
      "metadata": {
        "id": "X1fUo820lO3x"
      },
      "outputs": [],
      "source": [
        "from sklearn.metrics import classification_report, confusion_matrix, multilabel_confusion_matrix\n",
        "cm = confusion_matrix(np.argmax(np.array(test_labels1),axis=1),np.argmax(y_pred,axis=1))"
      ]
    },
    {
      "cell_type": "code",
      "execution_count": 30,
      "id": "rswr5IWKocEi",
      "metadata": {
        "id": "rswr5IWKocEi"
      },
      "outputs": [],
      "source": [
        "import seaborn as sns"
      ]
    },
    {
      "cell_type": "code",
      "execution_count": 31,
      "id": "GI5V4AUdlO3D",
      "metadata": {
        "colab": {
          "base_uri": "https://localhost:8080/",
          "height": 447
        },
        "id": "GI5V4AUdlO3D",
        "outputId": "5cc47a74-3650-4b36-e3e4-8b3205509164"
      },
      "outputs": [
        {
          "output_type": "execute_result",
          "data": {
            "text/plain": [
              "<Axes: >"
            ]
          },
          "metadata": {},
          "execution_count": 31
        },
        {
          "output_type": "display_data",
          "data": {
            "text/plain": [
              "<Figure size 640x480 with 2 Axes>"
            ],
            "image/png": "[encoded data removed]"
          },
          "metadata": {}
        }
      ],
      "source": [
        "sns.heatmap(cm, annot=True, fmt='d')"
      ]
    },
    {
      "cell_type": "code",
      "execution_count": 32,
      "id": "XUQk0EB2lOqn",
      "metadata": {
        "colab": {
          "base_uri": "https://localhost:8080/"
        },
        "id": "XUQk0EB2lOqn",
        "outputId": "ea7bb17b-4195-439a-ecbe-420eed4bde5d"
      },
      "outputs": [
        {
          "output_type": "stream",
          "name": "stdout",
          "text": [
            "              precision    recall  f1-score   support\n",
            "\n",
            "           0       0.79      0.99      0.88      4446\n",
            "           1       0.00      0.00      0.00       602\n",
            "           2       0.00      0.00      0.00       325\n",
            "           3       0.58      0.36      0.45       525\n",
            "\n",
            "    accuracy                           0.78      5898\n",
            "   macro avg       0.34      0.34      0.33      5898\n",
            "weighted avg       0.65      0.78      0.70      5898\n",
            "\n"
          ]
        }
      ],
      "source": [
        "print(classification_report(np.argmax(np.array(test_labels1),axis=1),np.argmax(y_pred,axis=1)))"
      ]
    },
    {
      "cell_type": "code",
      "execution_count": 33,
      "id": "d6c826fa",
      "metadata": {
        "id": "d6c826fa"
      },
      "outputs": [],
      "source": [
        "from sklearn.cluster import KMeans"
      ]
    },
    {
      "cell_type": "code",
      "execution_count": 34,
      "id": "4adfbf24",
      "metadata": {
        "id": "4adfbf24"
      },
      "outputs": [],
      "source": [
        "# Elbow method\n",
        "\n",
        "def elbow_plot(practice_df, maxK=10, seed_centroids=None):\n",
        "    \"\"\"\n",
        "        parameters:\n",
        "        - practice_df: pandas practice_dfFrame (practice_df to be fitted)\n",
        "        - maxK (default = 10): integer (maximum number of clusters with which to run k-means)\n",
        "        - seed_centroids (default = None ): float (initial value of centroids for k-means)\n",
        "    \"\"\"\n",
        "    sse = {}\n",
        "    for k in range(1, maxK):\n",
        "        print(\"k: \", k)\n",
        "        if seed_centroids is not None:\n",
        "            seeds = seed_centroids.head(k)\n",
        "            kmeans = KMeans(n_clusters=k, max_iter=500, n_init=100, random_state=0, init=np.reshape(seeds, (k,1))).fit(practice_df)\n",
        "            practice_df[\"clusters\"] = kmeans.labels_\n",
        "        else:\n",
        "            kmeans = KMeans(n_clusters=k, max_iter=300, n_init=100, random_state=0).fit(practice_df)\n",
        "            practice_df[\"clusters\"] = kmeans.labels_\n",
        "        # Inertia: Sum of distances of samples to their closest cluster center\n",
        "        sse[k] = kmeans.inertia_\n",
        "    plt.figure()\n",
        "    plt.plot(list(sse.keys()), list(sse.values()))\n",
        "    plt.show()\n",
        "    return"
      ]
    },
    {
      "cell_type": "code",
      "execution_count": 35,
      "id": "7b97c522",
      "metadata": {
        "colab": {
          "base_uri": "https://localhost:8080/",
          "height": 601
        },
        "id": "7b97c522",
        "outputId": "5f3e9162-8891-4403-eace-bebe56721cbd"
      },
      "outputs": [
        {
          "output_type": "stream",
          "name": "stdout",
          "text": [
            "k:  1\n",
            "k:  2\n",
            "k:  3\n",
            "k:  4\n",
            "k:  5\n",
            "k:  6\n",
            "k:  7\n",
            "k:  8\n",
            "k:  9\n"
          ]
        },
        {
          "output_type": "display_data",
          "data": {
            "text/plain": [
              "<Figure size 640x480 with 1 Axes>"
            ],
            "image/png": "[encoded data removed]"
          },
          "metadata": {}
        }
      ],
      "source": [
        "df = train_features.append(test_features)\n",
        "elbow_plot(df,maxK=10)"
      ]
    },
    {
      "cell_type": "code",
      "execution_count": 36,
      "id": "6195be35",
      "metadata": {
        "colab": {
          "base_uri": "https://localhost:8080/",
          "height": 75
        },
        "id": "6195be35",
        "outputId": "aa722e5b-1773-4423-add8-5be272e7c790"
      },
      "outputs": [
        {
          "output_type": "execute_result",
          "data": {
            "text/plain": [
              "KMeans(n_clusters=3)"
            ],
            "text/html": [
              "<style>#sk-container-id-1 {color: black;background-color: white;}#sk-container-id-1 pre{padding: 0;}#sk-container-id-1 div.sk-toggleable {background-color: white;}#sk-container-id-1 label.sk-toggleable__label {cursor: pointer;display: block;width: 100%;margin-bottom: 0;padding: 0.3em;box-sizing: border-box;text-align: center;}#sk-container-id-1 label.sk-toggleable__label-arrow:before {content: \"▸\";float: left;margin-right: 0.25em;color: #696969;}#sk-container-id-1 label.sk-toggleable__label-arrow:hover:before {color: black;}#sk-container-id-1 div.sk-estimator:hover label.sk-toggleable__label-arrow:before {color: black;}#sk-container-id-1 div.sk-toggleable__content {max-height: 0;max-width: 0;overflow: hidden;text-align: left;background-color: #f0f8ff;}#sk-container-id-1 div.sk-toggleable__content pre {margin: 0.2em;color: black;border-radius: 0.25em;background-color: #f0f8ff;}#sk-container-id-1 input.sk-toggleable__control:checked~div.sk-toggleable__content {max-height: 200px;max-width: 100%;overflow: auto;}#sk-container-id-1 input.sk-toggleable__control:checked~label.sk-toggleable__label-arrow:before {content: \"▾\";}#sk-container-id-1 div.sk-estimator input.sk-toggleable__control:checked~label.sk-toggleable__label {background-color: #d4ebff;}#sk-container-id-1 div.sk-label input.sk-toggleable__control:checked~label.sk-toggleable__label {background-color: #d4ebff;}#sk-container-id-1 input.sk-hidden--visually {border: 0;clip: rect(1px 1px 1px 1px);clip: rect(1px, 1px, 1px, 1px);height: 1px;margin: -1px;overflow: hidden;padding: 0;position: absolute;width: 1px;}#sk-container-id-1 div.sk-estimator {font-family: monospace;background-color: #f0f8ff;border: 1px dotted black;border-radius: 0.25em;box-sizing: border-box;margin-bottom: 0.5em;}#sk-container-id-1 div.sk-estimator:hover {background-color: #d4ebff;}#sk-container-id-1 div.sk-parallel-item::after {content: \"\";width: 100%;border-bottom: 1px solid gray;flex-grow: 1;}#sk-container-id-1 div.sk-label:hover label.sk-toggleable__label {background-color: #d4ebff;}#sk-container-id-1 div.sk-serial::before {content: \"\";position: absolute;border-left: 1px solid gray;box-sizing: border-box;top: 0;bottom: 0;left: 50%;z-index: 0;}#sk-container-id-1 div.sk-serial {display: flex;flex-direction: column;align-items: center;background-color: white;padding-right: 0.2em;padding-left: 0.2em;position: relative;}#sk-container-id-1 div.sk-item {position: relative;z-index: 1;}#sk-container-id-1 div.sk-parallel {display: flex;align-items: stretch;justify-content: center;background-color: white;position: relative;}#sk-container-id-1 div.sk-item::before, #sk-container-id-1 div.sk-parallel-item::before {content: \"\";position: absolute;border-left: 1px solid gray;box-sizing: border-box;top: 0;bottom: 0;left: 50%;z-index: -1;}#sk-container-id-1 div.sk-parallel-item {display: flex;flex-direction: column;z-index: 1;position: relative;background-color: white;}#sk-container-id-1 div.sk-parallel-item:first-child::after {align-self: flex-end;width: 50%;}#sk-container-id-1 div.sk-parallel-item:last-child::after {align-self: flex-start;width: 50%;}#sk-container-id-1 div.sk-parallel-item:only-child::after {width: 0;}#sk-container-id-1 div.sk-dashed-wrapped {border: 1px dashed gray;margin: 0 0.4em 0.5em 0.4em;box-sizing: border-box;padding-bottom: 0.4em;background-color: white;}#sk-container-id-1 div.sk-label label {font-family: monospace;font-weight: bold;display: inline-block;line-height: 1.2em;}#sk-container-id-1 div.sk-label-container {text-align: center;}#sk-container-id-1 div.sk-container {/* jupyter's `normalize.less` sets `[hidden] { display: none; }` but bootstrap.min.css set `[hidden] { display: none !important; }` so we also need the `!important` here to be able to override the default hidden behavior on the sphinx rendered scikit-learn.org. See: https://github.com/scikit-learn/scikit-learn/issues/21755 */display: inline-block !important;position: relative;}#sk-container-id-1 div.sk-text-repr-fallback {display: none;}</style><div id=\"sk-container-id-1\" class=\"sk-top-container\"><div class=\"sk-text-repr-fallback\"><pre>KMeans(n_clusters=3)</pre><b>In a Jupyter environment, please rerun this cell to show the HTML representation or trust the notebook. <br />On GitHub, the HTML representation is unable to render, please try loading this page with nbviewer.org.</b></div><div class=\"sk-container\" hidden><div class=\"sk-item\"><div class=\"sk-estimator sk-toggleable\"><input class=\"sk-toggleable__control sk-hidden--visually\" id=\"sk-estimator-id-1\" type=\"checkbox\" checked><label for=\"sk-estimator-id-1\" class=\"sk-toggleable__label sk-toggleable__label-arrow\">KMeans</label><div class=\"sk-toggleable__content\"><pre>KMeans(n_clusters=3)</pre></div></div></div></div></div>"
            ]
          },
          "metadata": {},
          "execution_count": 36
        }
      ],
      "source": [
        "KMeans(n_clusters=3, ).fit(train_features.append(test_features))"
      ]
    },
    {
      "cell_type": "code",
      "execution_count": null,
      "id": "16T5NcOC021k",
      "metadata": {
        "id": "16T5NcOC021k"
      },
      "outputs": [],
      "source": []
    }
  ],
  "metadata": {
    "colab": {
      "provenance": []
    },
    "kernelspec": {
      "display_name": "Python 3 (ipykernel)",
      "language": "python",
      "name": "python3"
    },
    "language_info": {
      "codemirror_mode": {
        "name": "ipython",
        "version": 3
      },
      "file_extension": ".py",
      "mimetype": "text/x-python",
      "name": "python",
      "nbconvert_exporter": "python",
      "pygments_lexer": "ipython3",
      "version": "3.11.3"
    }
  },
  "nbformat": 4,
  "nbformat_minor": 5
}