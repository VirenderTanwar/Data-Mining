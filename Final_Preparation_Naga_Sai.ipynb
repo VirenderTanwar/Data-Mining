{
 "cells": [
  {
   "cell_type": "code",
   "execution_count": null,
   "id": "4b5dfa4a",
   "metadata": {
    "colab": {
     "base_uri": "https://localhost:8080/"
    },
    "id": "4b5dfa4a",
    "outputId": "46485e38-b46c-486c-b04b-e5d86593343d"
   },
   "outputs": [
    {
     "name": "stdout",
     "output_type": "stream",
     "text": [
      "Current TensorFlow version is 2.8.2\n"
     ]
    }
   ],
   "source": [
    "import numpy as np\n",
    "import pandas as pd\n",
    "import matplotlib.pyplot as plt\n",
    "import math\n",
    "import sklearn.metrics as metrics\n",
    "from sklearn.metrics import classification_report\n",
    "import warnings\n",
    "warnings.filterwarnings(\"ignore\")\n",
    "\n",
    "import tensorflow as tf # This tells Colab that we are using TensorFlow\n",
    "\n",
    "from tensorflow import keras # This is the main TensorFlow library\n",
    "from tensorflow.keras import layers # We are building a Neural Network with several hidden layers\n",
    "from tensorflow.keras.layers.experimental import preprocessing\n",
    "from keras.models import Sequential\n",
    "from keras.layers import Dense\n",
    "\n",
    "print(\"Current TensorFlow version is\", tf.__version__)\n"
   ]
  },
  {
   "cell_type": "code",
   "execution_count": null,
   "id": "92e282e2",
   "metadata": {
    "colab": {
     "base_uri": "https://localhost:8080/",
     "height": 206
    },
    "id": "92e282e2",
    "outputId": "4e8bfe6b-1571-4b55-f7ba-96bd023de8f6"
   },
   "outputs": [
    {
     "data": {
      "text/html": [
       "\n",
       "  <div id=\"df-ad4683e7-7010-4803-a621-8c7b89875e7b\">\n",
       "    <div class=\"colab-df-container\">\n",
       "      <div>\n",
       "<style scoped>\n",
       "    .dataframe tbody tr th:only-of-type {\n",
       "        vertical-align: middle;\n",
       "    }\n",
       "\n",
       "    .dataframe tbody tr th {\n",
       "        vertical-align: top;\n",
       "    }\n",
       "\n",
       "    .dataframe thead th {\n",
       "        text-align: right;\n",
       "    }\n",
       "</style>\n",
       "<table border=\"1\" class=\"dataframe\">\n",
       "  <thead>\n",
       "    <tr style=\"text-align: right;\">\n",
       "      <th></th>\n",
       "      <th>SEASON YEAR</th>\n",
       "      <th>WEEK</th>\n",
       "      <th>TEST ID</th>\n",
       "      <th>BLOCK</th>\n",
       "      <th>TRAP</th>\n",
       "      <th>TRAP_TYPE</th>\n",
       "      <th>TEST DATE</th>\n",
       "      <th>NUMBER OF MOSQUITOES</th>\n",
       "      <th>RESULT</th>\n",
       "      <th>SPECIES</th>\n",
       "      <th>LATITUDE</th>\n",
       "      <th>LONGITUDE</th>\n",
       "      <th>LOCATION</th>\n",
       "    </tr>\n",
       "  </thead>\n",
       "  <tbody>\n",
       "    <tr>\n",
       "      <th>0</th>\n",
       "      <td>2014</td>\n",
       "      <td>39</td>\n",
       "      <td>40542</td>\n",
       "      <td>100XX W OHARE AIRPORT</td>\n",
       "      <td>T902</td>\n",
       "      <td>GRAVID</td>\n",
       "      <td>09/25/2014 12:09:00 AM</td>\n",
       "      <td>8</td>\n",
       "      <td>negative</td>\n",
       "      <td>CULEX PIPIENS/RESTUANS</td>\n",
       "      <td>NaN</td>\n",
       "      <td>NaN</td>\n",
       "      <td>NaN</td>\n",
       "    </tr>\n",
       "    <tr>\n",
       "      <th>1</th>\n",
       "      <td>2016</td>\n",
       "      <td>37</td>\n",
       "      <td>44219</td>\n",
       "      <td>100XX W OHARE AIRPORT</td>\n",
       "      <td>T902</td>\n",
       "      <td>GRAVID</td>\n",
       "      <td>09/15/2016 12:09:00 AM</td>\n",
       "      <td>39</td>\n",
       "      <td>negative</td>\n",
       "      <td>CULEX PIPIENS/RESTUANS</td>\n",
       "      <td>NaN</td>\n",
       "      <td>NaN</td>\n",
       "      <td>NaN</td>\n",
       "    </tr>\n",
       "    <tr>\n",
       "      <th>2</th>\n",
       "      <td>2017</td>\n",
       "      <td>33</td>\n",
       "      <td>45351</td>\n",
       "      <td>100XX W OHARE AIRPORT</td>\n",
       "      <td>T905</td>\n",
       "      <td>GRAVID</td>\n",
       "      <td>08/17/2017 12:08:00 AM</td>\n",
       "      <td>50</td>\n",
       "      <td>positive</td>\n",
       "      <td>CULEX PIPIENS/RESTUANS</td>\n",
       "      <td>NaN</td>\n",
       "      <td>NaN</td>\n",
       "      <td>NaN</td>\n",
       "    </tr>\n",
       "    <tr>\n",
       "      <th>3</th>\n",
       "      <td>2017</td>\n",
       "      <td>33</td>\n",
       "      <td>45345</td>\n",
       "      <td>100XX W OHARE AIRPORT</td>\n",
       "      <td>T900</td>\n",
       "      <td>GRAVID</td>\n",
       "      <td>08/17/2017 12:08:00 AM</td>\n",
       "      <td>17</td>\n",
       "      <td>positive</td>\n",
       "      <td>CULEX PIPIENS/RESTUANS</td>\n",
       "      <td>NaN</td>\n",
       "      <td>NaN</td>\n",
       "      <td>NaN</td>\n",
       "    </tr>\n",
       "    <tr>\n",
       "      <th>4</th>\n",
       "      <td>2016</td>\n",
       "      <td>37</td>\n",
       "      <td>44169</td>\n",
       "      <td>4XX W 127TH</td>\n",
       "      <td>T135</td>\n",
       "      <td>GRAVID</td>\n",
       "      <td>09/15/2016 12:09:00 AM</td>\n",
       "      <td>12</td>\n",
       "      <td>negative</td>\n",
       "      <td>CULEX PIPIENS/RESTUANS</td>\n",
       "      <td>NaN</td>\n",
       "      <td>NaN</td>\n",
       "      <td>NaN</td>\n",
       "    </tr>\n",
       "  </tbody>\n",
       "</table>\n",
       "</div>\n",
       "      <button class=\"colab-df-convert\" onclick=\"convertToInteractive('df-ad4683e7-7010-4803-a621-8c7b89875e7b')\"\n",
       "              title=\"Convert this dataframe to an interactive table.\"\n",
       "              style=\"display:none;\">\n",
       "        \n",
       "  <svg xmlns=\"http://www.w3.org/2000/svg\" height=\"24px\"viewBox=\"0 0 24 24\"\n",
       "       width=\"24px\">\n",
       "    <path d=\"M0 0h24v24H0V0z\" fill=\"none\"/>\n",
       "    <path d=\"M18.56 5.44l.94 2.06.94-2.06 2.06-.94-2.06-.94-.94-2.06-.94 2.06-2.06.94zm-11 1L8.5 8.5l.94-2.06 2.06-.94-2.06-.94L8.5 2.5l-.94 2.06-2.06.94zm10 10l.94 2.06.94-2.06 2.06-.94-2.06-.94-.94-2.06-.94 2.06-2.06.94z\"/><path d=\"M17.41 7.96l-1.37-1.37c-.4-.4-.92-.59-1.43-.59-.52 0-1.04.2-1.43.59L10.3 9.45l-7.72 7.72c-.78.78-.78 2.05 0 2.83L4 21.41c.39.39.9.59 1.41.59.51 0 1.02-.2 1.41-.59l7.78-7.78 2.81-2.81c.8-.78.8-2.07 0-2.86zM5.41 20L4 18.59l7.72-7.72 1.47 1.35L5.41 20z\"/>\n",
       "  </svg>\n",
       "      </button>\n",
       "      \n",
       "  <style>\n",
       "    .colab-df-container {\n",
       "      display:flex;\n",
       "      flex-wrap:wrap;\n",
       "      gap: 12px;\n",
       "    }\n",
       "\n",
       "    .colab-df-convert {\n",
       "      background-color: #E8F0FE;\n",
       "      border: none;\n",
       "      border-radius: 50%;\n",
       "      cursor: pointer;\n",
       "      display: none;\n",
       "      fill: #1967D2;\n",
       "      height: 32px;\n",
       "      padding: 0 0 0 0;\n",
       "      width: 32px;\n",
       "    }\n",
       "\n",
       "    .colab-df-convert:hover {\n",
       "      background-color: #E2EBFA;\n",
       "      box-shadow: 0px 1px 2px rgba(60, 64, 67, 0.3), 0px 1px 3px 1px rgba(60, 64, 67, 0.15);\n",
       "      fill: #174EA6;\n",
       "    }\n",
       "\n",
       "    [theme=dark] .colab-df-convert {\n",
       "      background-color: #3B4455;\n",
       "      fill: #D2E3FC;\n",
       "    }\n",
       "\n",
       "    [theme=dark] .colab-df-convert:hover {\n",
       "      background-color: #434B5C;\n",
       "      box-shadow: 0px 1px 3px 1px rgba(0, 0, 0, 0.15);\n",
       "      filter: drop-shadow(0px 1px 2px rgba(0, 0, 0, 0.3));\n",
       "      fill: #FFFFFF;\n",
       "    }\n",
       "  </style>\n",
       "\n",
       "      <script>\n",
       "        const buttonEl =\n",
       "          document.querySelector('#df-ad4683e7-7010-4803-a621-8c7b89875e7b button.colab-df-convert');\n",
       "        buttonEl.style.display =\n",
       "          google.colab.kernel.accessAllowed ? 'block' : 'none';\n",
       "\n",
       "        async function convertToInteractive(key) {\n",
       "          const element = document.querySelector('#df-ad4683e7-7010-4803-a621-8c7b89875e7b');\n",
       "          const dataTable =\n",
       "            await google.colab.kernel.invokeFunction('convertToInteractive',\n",
       "                                                     [key], {});\n",
       "          if (!dataTable) return;\n",
       "\n",
       "          const docLinkHtml = 'Like what you see? Visit the ' +\n",
       "            '<a target=\"_blank\" href=https://colab.research.google.com/notebooks/data_table.ipynb>data table notebook</a>'\n",
       "            + ' to learn more about interactive tables.';\n",
       "          element.innerHTML = '';\n",
       "          dataTable['output_type'] = 'display_data';\n",
       "          await google.colab.output.renderOutput(dataTable, element);\n",
       "          const docLink = document.createElement('div');\n",
       "          docLink.innerHTML = docLinkHtml;\n",
       "          element.appendChild(docLink);\n",
       "        }\n",
       "      </script>\n",
       "    </div>\n",
       "  </div>\n",
       "  "
      ],
      "text/plain": [
       "   SEASON YEAR  WEEK  TEST ID                  BLOCK  TRAP TRAP_TYPE  \\\n",
       "0         2014    39    40542  100XX W OHARE AIRPORT  T902    GRAVID   \n",
       "1         2016    37    44219  100XX W OHARE AIRPORT  T902    GRAVID   \n",
       "2         2017    33    45351  100XX W OHARE AIRPORT  T905    GRAVID   \n",
       "3         2017    33    45345  100XX W OHARE AIRPORT  T900    GRAVID   \n",
       "4         2016    37    44169            4XX W 127TH  T135    GRAVID   \n",
       "\n",
       "                TEST DATE  NUMBER OF MOSQUITOES    RESULT  \\\n",
       "0  09/25/2014 12:09:00 AM                     8  negative   \n",
       "1  09/15/2016 12:09:00 AM                    39  negative   \n",
       "2  08/17/2017 12:08:00 AM                    50  positive   \n",
       "3  08/17/2017 12:08:00 AM                    17  positive   \n",
       "4  09/15/2016 12:09:00 AM                    12  negative   \n",
       "\n",
       "                  SPECIES  LATITUDE  LONGITUDE LOCATION  \n",
       "0  CULEX PIPIENS/RESTUANS       NaN        NaN      NaN  \n",
       "1  CULEX PIPIENS/RESTUANS       NaN        NaN      NaN  \n",
       "2  CULEX PIPIENS/RESTUANS       NaN        NaN      NaN  \n",
       "3  CULEX PIPIENS/RESTUANS       NaN        NaN      NaN  \n",
       "4  CULEX PIPIENS/RESTUANS       NaN        NaN      NaN  "
      ]
     },
     "execution_count": 3,
     "metadata": {},
     "output_type": "execute_result"
    }
   ],
   "source": [
    "data_wnv = pd.read_csv(\"https://raw.githubusercontent.com/shstreuber/Data-Mining/master/data/West_Nile_Virus__WNV__Mosquito_Test_Results.csv\")\n",
    "data_wnv.head()"
   ]
  },
  {
   "cell_type": "code",
   "execution_count": null,
   "id": "a7257a64",
   "metadata": {
    "id": "a7257a64"
   },
   "outputs": [],
   "source": [
    "data_wnv['RESULT'] = data_wnv['RESULT'].astype('category')\n",
    "data_wnv['RESULT'] = data_wnv['RESULT'].cat.codes"
   ]
  },
  {
   "cell_type": "code",
   "execution_count": null,
   "id": "c6dcf41d",
   "metadata": {
    "id": "c6dcf41d"
   },
   "outputs": [],
   "source": [
    "from sklearn import preprocessing\n",
    "from sklearn.preprocessing import StandardScaler"
   ]
  },
  {
   "cell_type": "code",
   "execution_count": null,
   "id": "fbff87af",
   "metadata": {
    "colab": {
     "base_uri": "https://localhost:8080/"
    },
    "id": "fbff87af",
    "outputId": "85cf9b93-bbcd-4a08-c8b5-03b127b77826"
   },
   "outputs": [
    {
     "data": {
      "text/plain": [
       "0       -0.303554\n",
       "1       -0.303554\n",
       "2        3.294312\n",
       "3        3.294312\n",
       "4       -0.303554\n",
       "           ...   \n",
       "29484   -0.303554\n",
       "29485   -0.303554\n",
       "29486   -0.303554\n",
       "29487   -0.303554\n",
       "29488   -0.303554\n",
       "Name: RESULT, Length: 29489, dtype: float64"
      ]
     },
     "execution_count": 6,
     "metadata": {},
     "output_type": "execute_result"
    }
   ],
   "source": [
    "#Standardize\n",
    "\n",
    "x = data_wnv['RESULT'].values\n",
    "scaler = StandardScaler()\n",
    "\n",
    "data_wnv['RESULT'] = scaler.fit_transform(np.reshape(x,(-1,1)))\n",
    "data_wnv['RESULT']"
   ]
  },
  {
   "cell_type": "code",
   "execution_count": null,
   "id": "4a842587",
   "metadata": {
    "id": "4a842587"
   },
   "outputs": [],
   "source": [
    "bins = np.linspace(data_wnv['NUMBER OF MOSQUITOES'].min(),data_wnv['NUMBER OF MOSQUITOES'].max(),6)\n",
    "\n",
    "labels = ['xs','s','m','l','xl']\n",
    "\n",
    "data_wnv['NUMBER OF MOSQUITOES'] = pd.cut(data_wnv['NUMBER OF MOSQUITOES'] , bins=bins, labels=labels, include_lowest=True)"
   ]
  },
  {
   "cell_type": "code",
   "execution_count": null,
   "id": "0490e27b",
   "metadata": {
    "colab": {
     "base_uri": "https://localhost:8080/"
    },
    "id": "0490e27b",
    "outputId": "b03eb58e-351d-42e4-f1f0-fb832308887b"
   },
   "outputs": [
    {
     "data": {
      "text/plain": [
       "xs    22212\n",
       "s      3036\n",
       "l      2573\n",
       "m      1667\n",
       "xl        1\n",
       "Name: NUMBER OF MOSQUITOES, dtype: int64"
      ]
     },
     "execution_count": 8,
     "metadata": {},
     "output_type": "execute_result"
    }
   ],
   "source": [
    "data_wnv['NUMBER OF MOSQUITOES'].value_counts()"
   ]
  },
  {
   "cell_type": "code",
   "execution_count": null,
   "id": "ad70acfb",
   "metadata": {
    "id": "ad70acfb"
   },
   "outputs": [],
   "source": [
    "data_wnv.LONGITUDE.replace(np.nan,'null',inplace=True)"
   ]
  },
  {
   "cell_type": "code",
   "execution_count": null,
   "id": "dc3d61b6",
   "metadata": {
    "colab": {
     "base_uri": "https://localhost:8080/"
    },
    "id": "dc3d61b6",
    "outputId": "e2bc1441-dccc-4dda-f6c7-e8930765f406"
   },
   "outputs": [
    {
     "data": {
      "text/plain": [
       "0"
      ]
     },
     "execution_count": 10,
     "metadata": {},
     "output_type": "execute_result"
    }
   ],
   "source": [
    "data_wnv['LONGITUDE'].isnull().sum()"
   ]
  },
  {
   "cell_type": "code",
   "execution_count": null,
   "id": "5238369f",
   "metadata": {
    "colab": {
     "base_uri": "https://localhost:8080/"
    },
    "id": "5238369f",
    "outputId": "77fd493b-f2a2-404b-83b3-e47c7e83acd2"
   },
   "outputs": [
    {
     "data": {
      "text/plain": [
       "count    29489.000000\n",
       "mean        31.073587\n",
       "std          4.533390\n",
       "min         20.000000\n",
       "25%         28.000000\n",
       "50%         31.000000\n",
       "75%         35.000000\n",
       "max         40.000000\n",
       "Name: WEEK, dtype: float64"
      ]
     },
     "execution_count": 11,
     "metadata": {},
     "output_type": "execute_result"
    }
   ],
   "source": [
    "data_wnv['WEEK'].describe()"
   ]
  },
  {
   "cell_type": "code",
   "execution_count": null,
   "id": "8a2dbd17",
   "metadata": {
    "id": "8a2dbd17"
   },
   "outputs": [],
   "source": [
    "train_data_wnvset = data_wnv.sample(frac=0.8, random_state=0)\n",
    "test_data_wnvset = data_wnv.drop(train_data_wnvset.index)"
   ]
  },
  {
   "cell_type": "code",
   "execution_count": null,
   "id": "e4fcc7fd",
   "metadata": {
    "id": "e4fcc7fd"
   },
   "outputs": [],
   "source": [
    "from sklearn.model_selection import train_test_split\n",
    "train, test = train_test_split(data_wnv, test_size = 0.2)"
   ]
  },
  {
   "cell_type": "code",
   "execution_count": null,
   "id": "6d43f1a0",
   "metadata": {
    "colab": {
     "base_uri": "https://localhost:8080/",
     "height": 143
    },
    "id": "6d43f1a0",
    "outputId": "1deaad0e-c344-44c6-8f7d-69f320577246"
   },
   "outputs": [
    {
     "data": {
      "text/html": [
       "\n",
       "  <div id=\"df-15f63f4c-8aed-4ed3-afe2-8ca13ffaffb1\">\n",
       "    <div class=\"colab-df-container\">\n",
       "      <div>\n",
       "<style scoped>\n",
       "    .dataframe tbody tr th:only-of-type {\n",
       "        vertical-align: middle;\n",
       "    }\n",
       "\n",
       "    .dataframe tbody tr th {\n",
       "        vertical-align: top;\n",
       "    }\n",
       "\n",
       "    .dataframe thead th {\n",
       "        text-align: right;\n",
       "    }\n",
       "</style>\n",
       "<table border=\"1\" class=\"dataframe\">\n",
       "  <thead>\n",
       "    <tr style=\"text-align: right;\">\n",
       "      <th></th>\n",
       "      <th>SEASON YEAR</th>\n",
       "      <th>RESULT</th>\n",
       "      <th>WEEK</th>\n",
       "    </tr>\n",
       "  </thead>\n",
       "  <tbody>\n",
       "    <tr>\n",
       "      <th>SEASON YEAR</th>\n",
       "      <td>1.000000</td>\n",
       "      <td>0.095773</td>\n",
       "      <td>0.005214</td>\n",
       "    </tr>\n",
       "    <tr>\n",
       "      <th>RESULT</th>\n",
       "      <td>0.095773</td>\n",
       "      <td>1.000000</td>\n",
       "      <td>0.095540</td>\n",
       "    </tr>\n",
       "    <tr>\n",
       "      <th>WEEK</th>\n",
       "      <td>0.005214</td>\n",
       "      <td>0.095540</td>\n",
       "      <td>1.000000</td>\n",
       "    </tr>\n",
       "  </tbody>\n",
       "</table>\n",
       "</div>\n",
       "      <button class=\"colab-df-convert\" onclick=\"convertToInteractive('df-15f63f4c-8aed-4ed3-afe2-8ca13ffaffb1')\"\n",
       "              title=\"Convert this dataframe to an interactive table.\"\n",
       "              style=\"display:none;\">\n",
       "        \n",
       "  <svg xmlns=\"http://www.w3.org/2000/svg\" height=\"24px\"viewBox=\"0 0 24 24\"\n",
       "       width=\"24px\">\n",
       "    <path d=\"M0 0h24v24H0V0z\" fill=\"none\"/>\n",
       "    <path d=\"M18.56 5.44l.94 2.06.94-2.06 2.06-.94-2.06-.94-.94-2.06-.94 2.06-2.06.94zm-11 1L8.5 8.5l.94-2.06 2.06-.94-2.06-.94L8.5 2.5l-.94 2.06-2.06.94zm10 10l.94 2.06.94-2.06 2.06-.94-2.06-.94-.94-2.06-.94 2.06-2.06.94z\"/><path d=\"M17.41 7.96l-1.37-1.37c-.4-.4-.92-.59-1.43-.59-.52 0-1.04.2-1.43.59L10.3 9.45l-7.72 7.72c-.78.78-.78 2.05 0 2.83L4 21.41c.39.39.9.59 1.41.59.51 0 1.02-.2 1.41-.59l7.78-7.78 2.81-2.81c.8-.78.8-2.07 0-2.86zM5.41 20L4 18.59l7.72-7.72 1.47 1.35L5.41 20z\"/>\n",
       "  </svg>\n",
       "      </button>\n",
       "      \n",
       "  <style>\n",
       "    .colab-df-container {\n",
       "      display:flex;\n",
       "      flex-wrap:wrap;\n",
       "      gap: 12px;\n",
       "    }\n",
       "\n",
       "    .colab-df-convert {\n",
       "      background-color: #E8F0FE;\n",
       "      border: none;\n",
       "      border-radius: 50%;\n",
       "      cursor: pointer;\n",
       "      display: none;\n",
       "      fill: #1967D2;\n",
       "      height: 32px;\n",
       "      padding: 0 0 0 0;\n",
       "      width: 32px;\n",
       "    }\n",
       "\n",
       "    .colab-df-convert:hover {\n",
       "      background-color: #E2EBFA;\n",
       "      box-shadow: 0px 1px 2px rgba(60, 64, 67, 0.3), 0px 1px 3px 1px rgba(60, 64, 67, 0.15);\n",
       "      fill: #174EA6;\n",
       "    }\n",
       "\n",
       "    [theme=dark] .colab-df-convert {\n",
       "      background-color: #3B4455;\n",
       "      fill: #D2E3FC;\n",
       "    }\n",
       "\n",
       "    [theme=dark] .colab-df-convert:hover {\n",
       "      background-color: #434B5C;\n",
       "      box-shadow: 0px 1px 3px 1px rgba(0, 0, 0, 0.15);\n",
       "      filter: drop-shadow(0px 1px 2px rgba(0, 0, 0, 0.3));\n",
       "      fill: #FFFFFF;\n",
       "    }\n",
       "  </style>\n",
       "\n",
       "      <script>\n",
       "        const buttonEl =\n",
       "          document.querySelector('#df-15f63f4c-8aed-4ed3-afe2-8ca13ffaffb1 button.colab-df-convert');\n",
       "        buttonEl.style.display =\n",
       "          google.colab.kernel.accessAllowed ? 'block' : 'none';\n",
       "\n",
       "        async function convertToInteractive(key) {\n",
       "          const element = document.querySelector('#df-15f63f4c-8aed-4ed3-afe2-8ca13ffaffb1');\n",
       "          const dataTable =\n",
       "            await google.colab.kernel.invokeFunction('convertToInteractive',\n",
       "                                                     [key], {});\n",
       "          if (!dataTable) return;\n",
       "\n",
       "          const docLinkHtml = 'Like what you see? Visit the ' +\n",
       "            '<a target=\"_blank\" href=https://colab.research.google.com/notebooks/data_table.ipynb>data table notebook</a>'\n",
       "            + ' to learn more about interactive tables.';\n",
       "          element.innerHTML = '';\n",
       "          dataTable['output_type'] = 'display_data';\n",
       "          await google.colab.output.renderOutput(dataTable, element);\n",
       "          const docLink = document.createElement('div');\n",
       "          docLink.innerHTML = docLinkHtml;\n",
       "          element.appendChild(docLink);\n",
       "        }\n",
       "      </script>\n",
       "    </div>\n",
       "  </div>\n",
       "  "
      ],
      "text/plain": [
       "             SEASON YEAR    RESULT      WEEK\n",
       "SEASON YEAR     1.000000  0.095773  0.005214\n",
       "RESULT          0.095773  1.000000  0.095540\n",
       "WEEK            0.005214  0.095540  1.000000"
      ]
     },
     "execution_count": 15,
     "metadata": {},
     "output_type": "execute_result"
    }
   ],
   "source": [
    "data_wnv[['SEASON YEAR','RESULT','WEEK']].corr()"
   ]
  },
  {
   "cell_type": "code",
   "execution_count": null,
   "id": "PZR-yoJ6kU0Q",
   "metadata": {
    "colab": {
     "base_uri": "https://localhost:8080/",
     "height": 206
    },
    "id": "PZR-yoJ6kU0Q",
    "outputId": "175d2520-8005-4cbb-bbc1-770bb4f2eb96"
   },
   "outputs": [
    {
     "data": {
      "text/html": [
       "\n",
       "  <div id=\"df-3c3ae443-29ae-4e6a-bf0b-44a38fbfbf70\">\n",
       "    <div class=\"colab-df-container\">\n",
       "      <div>\n",
       "<style scoped>\n",
       "    .dataframe tbody tr th:only-of-type {\n",
       "        vertical-align: middle;\n",
       "    }\n",
       "\n",
       "    .dataframe tbody tr th {\n",
       "        vertical-align: top;\n",
       "    }\n",
       "\n",
       "    .dataframe thead th {\n",
       "        text-align: right;\n",
       "    }\n",
       "</style>\n",
       "<table border=\"1\" class=\"dataframe\">\n",
       "  <thead>\n",
       "    <tr style=\"text-align: right;\">\n",
       "      <th></th>\n",
       "      <th>WEEK</th>\n",
       "      <th>TRAP_TYPE</th>\n",
       "      <th>NUMBER OF MOSQUITOES</th>\n",
       "      <th>RESULT</th>\n",
       "      <th>SPECIES</th>\n",
       "      <th>LOCATION</th>\n",
       "    </tr>\n",
       "  </thead>\n",
       "  <tbody>\n",
       "    <tr>\n",
       "      <th>0</th>\n",
       "      <td>39</td>\n",
       "      <td>1</td>\n",
       "      <td>xs</td>\n",
       "      <td>-0.303554</td>\n",
       "      <td>2</td>\n",
       "      <td>-1</td>\n",
       "    </tr>\n",
       "    <tr>\n",
       "      <th>1</th>\n",
       "      <td>37</td>\n",
       "      <td>1</td>\n",
       "      <td>m</td>\n",
       "      <td>-0.303554</td>\n",
       "      <td>2</td>\n",
       "      <td>-1</td>\n",
       "    </tr>\n",
       "    <tr>\n",
       "      <th>2</th>\n",
       "      <td>33</td>\n",
       "      <td>1</td>\n",
       "      <td>l</td>\n",
       "      <td>3.294312</td>\n",
       "      <td>2</td>\n",
       "      <td>-1</td>\n",
       "    </tr>\n",
       "    <tr>\n",
       "      <th>3</th>\n",
       "      <td>33</td>\n",
       "      <td>1</td>\n",
       "      <td>s</td>\n",
       "      <td>3.294312</td>\n",
       "      <td>2</td>\n",
       "      <td>-1</td>\n",
       "    </tr>\n",
       "    <tr>\n",
       "      <th>4</th>\n",
       "      <td>37</td>\n",
       "      <td>1</td>\n",
       "      <td>xs</td>\n",
       "      <td>-0.303554</td>\n",
       "      <td>2</td>\n",
       "      <td>-1</td>\n",
       "    </tr>\n",
       "  </tbody>\n",
       "</table>\n",
       "</div>\n",
       "      <button class=\"colab-df-convert\" onclick=\"convertToInteractive('df-3c3ae443-29ae-4e6a-bf0b-44a38fbfbf70')\"\n",
       "              title=\"Convert this dataframe to an interactive table.\"\n",
       "              style=\"display:none;\">\n",
       "        \n",
       "  <svg xmlns=\"http://www.w3.org/2000/svg\" height=\"24px\"viewBox=\"0 0 24 24\"\n",
       "       width=\"24px\">\n",
       "    <path d=\"M0 0h24v24H0V0z\" fill=\"none\"/>\n",
       "    <path d=\"M18.56 5.44l.94 2.06.94-2.06 2.06-.94-2.06-.94-.94-2.06-.94 2.06-2.06.94zm-11 1L8.5 8.5l.94-2.06 2.06-.94-2.06-.94L8.5 2.5l-.94 2.06-2.06.94zm10 10l.94 2.06.94-2.06 2.06-.94-2.06-.94-.94-2.06-.94 2.06-2.06.94z\"/><path d=\"M17.41 7.96l-1.37-1.37c-.4-.4-.92-.59-1.43-.59-.52 0-1.04.2-1.43.59L10.3 9.45l-7.72 7.72c-.78.78-.78 2.05 0 2.83L4 21.41c.39.39.9.59 1.41.59.51 0 1.02-.2 1.41-.59l7.78-7.78 2.81-2.81c.8-.78.8-2.07 0-2.86zM5.41 20L4 18.59l7.72-7.72 1.47 1.35L5.41 20z\"/>\n",
       "  </svg>\n",
       "      </button>\n",
       "      \n",
       "  <style>\n",
       "    .colab-df-container {\n",
       "      display:flex;\n",
       "      flex-wrap:wrap;\n",
       "      gap: 12px;\n",
       "    }\n",
       "\n",
       "    .colab-df-convert {\n",
       "      background-color: #E8F0FE;\n",
       "      border: none;\n",
       "      border-radius: 50%;\n",
       "      cursor: pointer;\n",
       "      display: none;\n",
       "      fill: #1967D2;\n",
       "      height: 32px;\n",
       "      padding: 0 0 0 0;\n",
       "      width: 32px;\n",
       "    }\n",
       "\n",
       "    .colab-df-convert:hover {\n",
       "      background-color: #E2EBFA;\n",
       "      box-shadow: 0px 1px 2px rgba(60, 64, 67, 0.3), 0px 1px 3px 1px rgba(60, 64, 67, 0.15);\n",
       "      fill: #174EA6;\n",
       "    }\n",
       "\n",
       "    [theme=dark] .colab-df-convert {\n",
       "      background-color: #3B4455;\n",
       "      fill: #D2E3FC;\n",
       "    }\n",
       "\n",
       "    [theme=dark] .colab-df-convert:hover {\n",
       "      background-color: #434B5C;\n",
       "      box-shadow: 0px 1px 3px 1px rgba(0, 0, 0, 0.15);\n",
       "      filter: drop-shadow(0px 1px 2px rgba(0, 0, 0, 0.3));\n",
       "      fill: #FFFFFF;\n",
       "    }\n",
       "  </style>\n",
       "\n",
       "      <script>\n",
       "        const buttonEl =\n",
       "          document.querySelector('#df-3c3ae443-29ae-4e6a-bf0b-44a38fbfbf70 button.colab-df-convert');\n",
       "        buttonEl.style.display =\n",
       "          google.colab.kernel.accessAllowed ? 'block' : 'none';\n",
       "\n",
       "        async function convertToInteractive(key) {\n",
       "          const element = document.querySelector('#df-3c3ae443-29ae-4e6a-bf0b-44a38fbfbf70');\n",
       "          const dataTable =\n",
       "            await google.colab.kernel.invokeFunction('convertToInteractive',\n",
       "                                                     [key], {});\n",
       "          if (!dataTable) return;\n",
       "\n",
       "          const docLinkHtml = 'Like what you see? Visit the ' +\n",
       "            '<a target=\"_blank\" href=https://colab.research.google.com/notebooks/data_table.ipynb>data table notebook</a>'\n",
       "            + ' to learn more about interactive tables.';\n",
       "          element.innerHTML = '';\n",
       "          dataTable['output_type'] = 'display_data';\n",
       "          await google.colab.output.renderOutput(dataTable, element);\n",
       "          const docLink = document.createElement('div');\n",
       "          docLink.innerHTML = docLinkHtml;\n",
       "          element.appendChild(docLink);\n",
       "        }\n",
       "      </script>\n",
       "    </div>\n",
       "  </div>\n",
       "  "
      ],
      "text/plain": [
       "   WEEK  TRAP_TYPE NUMBER OF MOSQUITOES    RESULT  SPECIES  LOCATION\n",
       "0    39          1                   xs -0.303554        2        -1\n",
       "1    37          1                    m -0.303554        2        -1\n",
       "2    33          1                    l  3.294312        2        -1\n",
       "3    33          1                    s  3.294312        2        -1\n",
       "4    37          1                   xs -0.303554        2        -1"
      ]
     },
     "execution_count": 17,
     "metadata": {},
     "output_type": "execute_result"
    }
   ],
   "source": [
    "data_wnv1 = data_wnv[['WEEK', 'TRAP_TYPE','NUMBER OF MOSQUITOES', 'RESULT','SPECIES','LOCATION']]\n",
    "\n",
    "data_wnv1['TRAP_TYPE'] = data_wnv1['TRAP_TYPE'].astype('category')\n",
    "data_wnv1['TRAP_TYPE'] = data_wnv1['TRAP_TYPE'].cat.codes\n",
    "\n",
    "data_wnv1['SPECIES'] = data_wnv1['SPECIES'].astype('category')\n",
    "data_wnv1['SPECIES'] = data_wnv1['SPECIES'].cat.codes\n",
    "\n",
    "data_wnv1['LOCATION'] = data_wnv1['LOCATION'].astype('category')\n",
    "data_wnv1['LOCATION'] = data_wnv1['LOCATION'].cat.codes\n"
   ]
  },
  {
   "cell_type": "code",
   "execution_count": null,
   "id": "CKtUwOgOlPSA",
   "metadata": {
    "id": "CKtUwOgOlPSA"
   },
   "outputs": [],
   "source": [
    "train_data_wnvset = data_wnv1.sample(frac=0.8, random_state=0)\n",
    "test_data_wnvset = data_wnv1.drop(train_data_wnvset.index)\n",
    "\n",
    "# Splitting Features from Labels\n",
    "train_features = train_data_wnvset.copy()\n",
    "test_features = test_data_wnvset.copy()\n",
    "\n",
    "train_labels = train_features.pop('NUMBER OF MOSQUITOES')\n",
    "test_labels = test_features.pop('NUMBER OF MOSQUITOES')"
   ]
  },
  {
   "cell_type": "code",
   "execution_count": null,
   "id": "c6aOpj6RlPRO",
   "metadata": {
    "id": "c6aOpj6RlPRO"
   },
   "outputs": [],
   "source": [
    "# Encoding the output variable with pd.get_dummies\n",
    "train_labels1 = pd.get_dummies(train_labels, columns=['NUMBER OF MOSQUITOES'], prefix='', prefix_sep='')\n",
    "\n",
    "# Normalizing the input variables\n",
    "normalizer = preprocessing.Normalization(axis=-1)\n",
    "normalizer.adapt(np.array(train_features))"
   ]
  },
  {
   "cell_type": "code",
   "execution_count": null,
   "id": "SOnBdnK3lPLh",
   "metadata": {
    "id": "SOnBdnK3lPLh"
   },
   "outputs": [],
   "source": [
    "test_labels1 = pd.get_dummies(test_labels,columns=['NUMBER OF MOSQUITOES'],prefix='', prefix_sep='')\n",
    "normalizer.adapt(np.array(train_features))"
   ]
  },
  {
   "cell_type": "code",
   "execution_count": null,
   "id": "dqIbeModlPKq",
   "metadata": {
    "colab": {
     "base_uri": "https://localhost:8080/"
    },
    "id": "dqIbeModlPKq",
    "outputId": "a73db437-3b7f-4e77-9612-53fcf18a7075"
   },
   "outputs": [
    {
     "name": "stdout",
     "output_type": "stream",
     "text": [
      "Model: \"sequential\"\n",
      "_________________________________________________________________\n",
      " Layer (type)                Output Shape              Param #   \n",
      "=================================================================\n",
      " normalization (Normalizatio  (None, 5)                11        \n",
      " n)                                                              \n",
      "                                                                 \n",
      " dense (Dense)               (None, 12)                72        \n",
      "                                                                 \n",
      " dense_1 (Dense)             (None, 8)                 104       \n",
      "                                                                 \n",
      " dense_2 (Dense)             (None, 5)                 45        \n",
      "                                                                 \n",
      "=================================================================\n",
      "Total params: 232\n",
      "Trainable params: 221\n",
      "Non-trainable params: 11\n",
      "_________________________________________________________________\n"
     ]
    }
   ],
   "source": [
    "# define the Keras model\n",
    "model = Sequential(normalizer)\n",
    "model.add(Dense(12, input_dim=6, activation='relu'))\n",
    "model.add(Dense(8, activation='relu'))\n",
    "model.add(Dense(5, activation='softmax'))\n",
    "model.summary()"
   ]
  },
  {
   "cell_type": "code",
   "execution_count": null,
   "id": "q-i-JPHTlPFO",
   "metadata": {
    "id": "q-i-JPHTlPFO"
   },
   "outputs": [],
   "source": [
    "model.compile(loss='categorical_crossentropy', optimizer='adam', metrics=['accuracy'])"
   ]
  },
  {
   "cell_type": "code",
   "execution_count": null,
   "id": "GV9Zdug-lPEg",
   "metadata": {
    "colab": {
     "base_uri": "https://localhost:8080/"
    },
    "id": "GV9Zdug-lPEg",
    "outputId": "03332667-8c7d-4e3d-b027-e892a2d11f67"
   },
   "outputs": [
    {
     "name": "stdout",
     "output_type": "stream",
     "text": [
      "Epoch 1/150\n",
      "2360/2360 [==============================] - 5s 2ms/step - loss: 0.8067 - accuracy: 0.7473\n",
      "Epoch 2/150\n",
      "2360/2360 [==============================] - 4s 2ms/step - loss: 0.7160 - accuracy: 0.7710\n",
      "Epoch 3/150\n",
      "2360/2360 [==============================] - 4s 2ms/step - loss: 0.7083 - accuracy: 0.7725\n",
      "Epoch 4/150\n",
      "2360/2360 [==============================] - 4s 2ms/step - loss: 0.7054 - accuracy: 0.7739\n",
      "Epoch 5/150\n",
      "2360/2360 [==============================] - 5s 2ms/step - loss: 0.7034 - accuracy: 0.7737\n",
      "Epoch 6/150\n",
      "2360/2360 [==============================] - 7s 3ms/step - loss: 0.7026 - accuracy: 0.7742\n",
      "Epoch 7/150\n",
      "2360/2360 [==============================] - 9s 4ms/step - loss: 0.7016 - accuracy: 0.7737\n",
      "Epoch 8/150\n",
      "2360/2360 [==============================] - 7s 3ms/step - loss: 0.7013 - accuracy: 0.7740\n",
      "Epoch 9/150\n",
      "2360/2360 [==============================] - 7s 3ms/step - loss: 0.7007 - accuracy: 0.7734\n",
      "Epoch 10/150\n",
      "2360/2360 [==============================] - 4s 2ms/step - loss: 0.7006 - accuracy: 0.7740\n",
      "Epoch 11/150\n",
      "2360/2360 [==============================] - 4s 2ms/step - loss: 0.7005 - accuracy: 0.7742\n",
      "Epoch 12/150\n",
      "2360/2360 [==============================] - 4s 2ms/step - loss: 0.6996 - accuracy: 0.7740\n",
      "Epoch 13/150\n",
      "2360/2360 [==============================] - 4s 2ms/step - loss: 0.6997 - accuracy: 0.7740\n",
      "Epoch 14/150\n",
      "2360/2360 [==============================] - 4s 2ms/step - loss: 0.6993 - accuracy: 0.7742\n",
      "Epoch 15/150\n",
      "2360/2360 [==============================] - 4s 2ms/step - loss: 0.6994 - accuracy: 0.7737\n",
      "Epoch 16/150\n",
      "2360/2360 [==============================] - 4s 2ms/step - loss: 0.6988 - accuracy: 0.7746\n",
      "Epoch 17/150\n",
      "2360/2360 [==============================] - 4s 2ms/step - loss: 0.6986 - accuracy: 0.7740\n",
      "Epoch 18/150\n",
      "2360/2360 [==============================] - 4s 2ms/step - loss: 0.6987 - accuracy: 0.7739\n",
      "Epoch 19/150\n",
      "2360/2360 [==============================] - 4s 2ms/step - loss: 0.6986 - accuracy: 0.7749\n",
      "Epoch 20/150\n",
      "2360/2360 [==============================] - 4s 2ms/step - loss: 0.6978 - accuracy: 0.7742\n",
      "Epoch 21/150\n",
      "2360/2360 [==============================] - 4s 2ms/step - loss: 0.6980 - accuracy: 0.7740\n",
      "Epoch 22/150\n",
      "2360/2360 [==============================] - 4s 2ms/step - loss: 0.6984 - accuracy: 0.7746\n",
      "Epoch 23/150\n",
      "2360/2360 [==============================] - 4s 2ms/step - loss: 0.6977 - accuracy: 0.7747\n",
      "Epoch 24/150\n",
      "2360/2360 [==============================] - 4s 2ms/step - loss: 0.6975 - accuracy: 0.7743\n",
      "Epoch 25/150\n",
      "2360/2360 [==============================] - 4s 2ms/step - loss: 0.6976 - accuracy: 0.7751\n",
      "Epoch 26/150\n",
      "2360/2360 [==============================] - 4s 2ms/step - loss: 0.6979 - accuracy: 0.7740\n",
      "Epoch 27/150\n",
      "2360/2360 [==============================] - 4s 2ms/step - loss: 0.6974 - accuracy: 0.7747\n",
      "Epoch 28/150\n",
      "2360/2360 [==============================] - 5s 2ms/step - loss: 0.6976 - accuracy: 0.7739\n",
      "Epoch 29/150\n",
      "2360/2360 [==============================] - 4s 2ms/step - loss: 0.6973 - accuracy: 0.7739\n",
      "Epoch 30/150\n",
      "2360/2360 [==============================] - 4s 2ms/step - loss: 0.6972 - accuracy: 0.7742\n",
      "Epoch 31/150\n",
      "2360/2360 [==============================] - 4s 2ms/step - loss: 0.6974 - accuracy: 0.7739\n",
      "Epoch 32/150\n",
      "2360/2360 [==============================] - 4s 2ms/step - loss: 0.6972 - accuracy: 0.7744\n",
      "Epoch 33/150\n",
      "2360/2360 [==============================] - 4s 2ms/step - loss: 0.6968 - accuracy: 0.7741\n",
      "Epoch 34/150\n",
      "2360/2360 [==============================] - 4s 2ms/step - loss: 0.6971 - accuracy: 0.7744\n",
      "Epoch 35/150\n",
      "2360/2360 [==============================] - 4s 2ms/step - loss: 0.6964 - accuracy: 0.7742\n",
      "Epoch 36/150\n",
      "2360/2360 [==============================] - 4s 2ms/step - loss: 0.6967 - accuracy: 0.7739\n",
      "Epoch 37/150\n",
      "2360/2360 [==============================] - 4s 2ms/step - loss: 0.6966 - accuracy: 0.7742\n",
      "Epoch 38/150\n",
      "2360/2360 [==============================] - 4s 2ms/step - loss: 0.6965 - accuracy: 0.7744\n",
      "Epoch 39/150\n",
      "2360/2360 [==============================] - 6s 2ms/step - loss: 0.6962 - accuracy: 0.7744\n",
      "Epoch 40/150\n",
      "2360/2360 [==============================] - 6s 3ms/step - loss: 0.6965 - accuracy: 0.7749\n",
      "Epoch 41/150\n",
      "2360/2360 [==============================] - 5s 2ms/step - loss: 0.6964 - accuracy: 0.7742\n",
      "Epoch 42/150\n",
      "2360/2360 [==============================] - 4s 2ms/step - loss: 0.6963 - accuracy: 0.7747\n",
      "Epoch 43/150\n",
      "2360/2360 [==============================] - 4s 2ms/step - loss: 0.6962 - accuracy: 0.7746\n",
      "Epoch 44/150\n",
      "2360/2360 [==============================] - 4s 2ms/step - loss: 0.6963 - accuracy: 0.7745\n",
      "Epoch 45/150\n",
      "2360/2360 [==============================] - 4s 2ms/step - loss: 0.6963 - accuracy: 0.7746\n",
      "Epoch 46/150\n",
      "2360/2360 [==============================] - 4s 2ms/step - loss: 0.6959 - accuracy: 0.7744\n",
      "Epoch 47/150\n",
      "2360/2360 [==============================] - 4s 2ms/step - loss: 0.6961 - accuracy: 0.7745\n",
      "Epoch 48/150\n",
      "2360/2360 [==============================] - 4s 2ms/step - loss: 0.6962 - accuracy: 0.7745\n",
      "Epoch 49/150\n",
      "2360/2360 [==============================] - 4s 2ms/step - loss: 0.6961 - accuracy: 0.7744\n",
      "Epoch 50/150\n",
      "2360/2360 [==============================] - 4s 2ms/step - loss: 0.6962 - accuracy: 0.7750\n",
      "Epoch 51/150\n",
      "2360/2360 [==============================] - 4s 2ms/step - loss: 0.6955 - accuracy: 0.7745\n",
      "Epoch 52/150\n",
      "2360/2360 [==============================] - 4s 2ms/step - loss: 0.6961 - accuracy: 0.7746\n",
      "Epoch 53/150\n",
      "2360/2360 [==============================] - 4s 2ms/step - loss: 0.6961 - accuracy: 0.7743\n",
      "Epoch 54/150\n",
      "2360/2360 [==============================] - 4s 2ms/step - loss: 0.6957 - accuracy: 0.7742\n",
      "Epoch 55/150\n",
      "2360/2360 [==============================] - 4s 2ms/step - loss: 0.6957 - accuracy: 0.7742\n",
      "Epoch 56/150\n",
      "2360/2360 [==============================] - 4s 2ms/step - loss: 0.6956 - accuracy: 0.7743\n",
      "Epoch 57/150\n",
      "2360/2360 [==============================] - 4s 2ms/step - loss: 0.6953 - accuracy: 0.7746\n",
      "Epoch 58/150\n",
      "2360/2360 [==============================] - 4s 2ms/step - loss: 0.6951 - accuracy: 0.7745\n",
      "Epoch 59/150\n",
      "2360/2360 [==============================] - 4s 2ms/step - loss: 0.6956 - accuracy: 0.7753\n",
      "Epoch 60/150\n",
      "2360/2360 [==============================] - 4s 2ms/step - loss: 0.6955 - accuracy: 0.7745\n",
      "Epoch 61/150\n",
      "2360/2360 [==============================] - 4s 2ms/step - loss: 0.6951 - accuracy: 0.7747\n",
      "Epoch 62/150\n",
      "2360/2360 [==============================] - 4s 2ms/step - loss: 0.6951 - accuracy: 0.7747\n",
      "Epoch 63/150\n",
      "2360/2360 [==============================] - 4s 2ms/step - loss: 0.6955 - accuracy: 0.7747\n",
      "Epoch 64/150\n",
      "2360/2360 [==============================] - 4s 2ms/step - loss: 0.6950 - accuracy: 0.7743\n",
      "Epoch 65/150\n",
      "2360/2360 [==============================] - 4s 2ms/step - loss: 0.6954 - accuracy: 0.7742\n",
      "Epoch 66/150\n",
      "2360/2360 [==============================] - 4s 2ms/step - loss: 0.6956 - accuracy: 0.7745\n",
      "Epoch 67/150\n",
      "2360/2360 [==============================] - 4s 2ms/step - loss: 0.6952 - accuracy: 0.7747\n",
      "Epoch 68/150\n",
      "2360/2360 [==============================] - 4s 2ms/step - loss: 0.6953 - accuracy: 0.7746\n",
      "Epoch 69/150\n",
      "2360/2360 [==============================] - 4s 2ms/step - loss: 0.6950 - accuracy: 0.7747\n",
      "Epoch 70/150\n",
      "2360/2360 [==============================] - 4s 2ms/step - loss: 0.6950 - accuracy: 0.7744\n",
      "Epoch 71/150\n",
      "2360/2360 [==============================] - 4s 2ms/step - loss: 0.6948 - accuracy: 0.7742\n",
      "Epoch 72/150\n",
      "2360/2360 [==============================] - 4s 2ms/step - loss: 0.6948 - accuracy: 0.7747\n",
      "Epoch 73/150\n",
      "2360/2360 [==============================] - 4s 2ms/step - loss: 0.6948 - accuracy: 0.7748\n",
      "Epoch 74/150\n",
      "2360/2360 [==============================] - 4s 2ms/step - loss: 0.6951 - accuracy: 0.7743\n",
      "Epoch 75/150\n",
      "2360/2360 [==============================] - 4s 2ms/step - loss: 0.6951 - accuracy: 0.7745\n",
      "Epoch 76/150\n",
      "2360/2360 [==============================] - 4s 2ms/step - loss: 0.6949 - accuracy: 0.7744\n",
      "Epoch 77/150\n",
      "2360/2360 [==============================] - 4s 2ms/step - loss: 0.6945 - accuracy: 0.7746\n",
      "Epoch 78/150\n",
      "2360/2360 [==============================] - 4s 2ms/step - loss: 0.6951 - accuracy: 0.7746\n",
      "Epoch 79/150\n",
      "2360/2360 [==============================] - 4s 2ms/step - loss: 0.6946 - accuracy: 0.7738\n",
      "Epoch 80/150\n",
      "2360/2360 [==============================] - 4s 2ms/step - loss: 0.6949 - accuracy: 0.7744\n",
      "Epoch 81/150\n",
      "2360/2360 [==============================] - 4s 2ms/step - loss: 0.6946 - accuracy: 0.7745\n",
      "Epoch 82/150\n",
      "2360/2360 [==============================] - 4s 2ms/step - loss: 0.6946 - accuracy: 0.7746\n",
      "Epoch 83/150\n",
      "2360/2360 [==============================] - 4s 2ms/step - loss: 0.6944 - accuracy: 0.7747\n",
      "Epoch 84/150\n",
      "2360/2360 [==============================] - 4s 2ms/step - loss: 0.6947 - accuracy: 0.7739\n",
      "Epoch 85/150\n",
      "2360/2360 [==============================] - 4s 2ms/step - loss: 0.6944 - accuracy: 0.7747\n",
      "Epoch 86/150\n",
      "2360/2360 [==============================] - 4s 2ms/step - loss: 0.6946 - accuracy: 0.7746\n",
      "Epoch 87/150\n",
      "2360/2360 [==============================] - 4s 2ms/step - loss: 0.6945 - accuracy: 0.7742\n",
      "Epoch 88/150\n",
      "2360/2360 [==============================] - 4s 2ms/step - loss: 0.6945 - accuracy: 0.7747\n",
      "Epoch 89/150\n",
      "2360/2360 [==============================] - 4s 2ms/step - loss: 0.6944 - accuracy: 0.7744\n",
      "Epoch 90/150\n",
      "2360/2360 [==============================] - 4s 2ms/step - loss: 0.6947 - accuracy: 0.7746\n",
      "Epoch 91/150\n",
      "2360/2360 [==============================] - 4s 2ms/step - loss: 0.6946 - accuracy: 0.7744\n",
      "Epoch 92/150\n",
      "2360/2360 [==============================] - 4s 2ms/step - loss: 0.6946 - accuracy: 0.7746\n",
      "Epoch 93/150\n",
      "2360/2360 [==============================] - 4s 2ms/step - loss: 0.6945 - accuracy: 0.7749\n",
      "Epoch 94/150\n",
      "2360/2360 [==============================] - 4s 2ms/step - loss: 0.6945 - accuracy: 0.7743\n",
      "Epoch 95/150\n",
      "2360/2360 [==============================] - 4s 2ms/step - loss: 0.6948 - accuracy: 0.7748\n",
      "Epoch 96/150\n",
      "2360/2360 [==============================] - 4s 2ms/step - loss: 0.6946 - accuracy: 0.7748\n",
      "Epoch 97/150\n",
      "2360/2360 [==============================] - 4s 2ms/step - loss: 0.6944 - accuracy: 0.7743\n",
      "Epoch 98/150\n",
      "2360/2360 [==============================] - 4s 2ms/step - loss: 0.6943 - accuracy: 0.7744\n",
      "Epoch 99/150\n",
      "2360/2360 [==============================] - 4s 2ms/step - loss: 0.6944 - accuracy: 0.7744\n",
      "Epoch 100/150\n",
      "2360/2360 [==============================] - 4s 2ms/step - loss: 0.6946 - accuracy: 0.7742\n",
      "Epoch 101/150\n",
      "2360/2360 [==============================] - 4s 2ms/step - loss: 0.6943 - accuracy: 0.7744\n",
      "Epoch 102/150\n",
      "2360/2360 [==============================] - 4s 2ms/step - loss: 0.6944 - accuracy: 0.7747\n",
      "Epoch 103/150\n",
      "2360/2360 [==============================] - 4s 2ms/step - loss: 0.6943 - accuracy: 0.7755\n",
      "Epoch 104/150\n",
      "2360/2360 [==============================] - 4s 2ms/step - loss: 0.6942 - accuracy: 0.7747\n",
      "Epoch 105/150\n",
      "2360/2360 [==============================] - 4s 2ms/step - loss: 0.6944 - accuracy: 0.7749\n",
      "Epoch 106/150\n",
      "2360/2360 [==============================] - 4s 2ms/step - loss: 0.6941 - accuracy: 0.7750\n",
      "Epoch 107/150\n",
      "2360/2360 [==============================] - 4s 2ms/step - loss: 0.6949 - accuracy: 0.7749\n",
      "Epoch 108/150\n",
      "2360/2360 [==============================] - 4s 2ms/step - loss: 0.6941 - accuracy: 0.7749\n",
      "Epoch 109/150\n",
      "2360/2360 [==============================] - 4s 2ms/step - loss: 0.6944 - accuracy: 0.7744\n",
      "Epoch 110/150\n",
      "2360/2360 [==============================] - 4s 2ms/step - loss: 0.6944 - accuracy: 0.7745\n",
      "Epoch 111/150\n",
      "2360/2360 [==============================] - 4s 2ms/step - loss: 0.6942 - accuracy: 0.7744\n",
      "Epoch 112/150\n",
      "2360/2360 [==============================] - 4s 2ms/step - loss: 0.6944 - accuracy: 0.7745\n",
      "Epoch 113/150\n",
      "2360/2360 [==============================] - 4s 2ms/step - loss: 0.6942 - accuracy: 0.7744\n",
      "Epoch 114/150\n",
      "2360/2360 [==============================] - 4s 2ms/step - loss: 0.6942 - accuracy: 0.7749\n",
      "Epoch 115/150\n",
      "2360/2360 [==============================] - 4s 2ms/step - loss: 0.6944 - accuracy: 0.7750\n",
      "Epoch 116/150\n",
      "2360/2360 [==============================] - 4s 2ms/step - loss: 0.6939 - accuracy: 0.7752\n",
      "Epoch 117/150\n",
      "2360/2360 [==============================] - 4s 2ms/step - loss: 0.6941 - accuracy: 0.7744\n",
      "Epoch 118/150\n",
      "2360/2360 [==============================] - 4s 2ms/step - loss: 0.6942 - accuracy: 0.7743\n",
      "Epoch 119/150\n",
      "2360/2360 [==============================] - 4s 2ms/step - loss: 0.6940 - accuracy: 0.7742\n",
      "Epoch 120/150\n",
      "2360/2360 [==============================] - 4s 2ms/step - loss: 0.6945 - accuracy: 0.7747\n",
      "Epoch 121/150\n",
      "2360/2360 [==============================] - 4s 2ms/step - loss: 0.6943 - accuracy: 0.7744\n",
      "Epoch 122/150\n",
      "2360/2360 [==============================] - 4s 2ms/step - loss: 0.6941 - accuracy: 0.7744\n",
      "Epoch 123/150\n",
      "2360/2360 [==============================] - 4s 2ms/step - loss: 0.6942 - accuracy: 0.7745\n",
      "Epoch 124/150\n",
      "2360/2360 [==============================] - 4s 2ms/step - loss: 0.6939 - accuracy: 0.7741\n",
      "Epoch 125/150\n",
      "2360/2360 [==============================] - 4s 2ms/step - loss: 0.6940 - accuracy: 0.7751\n",
      "Epoch 126/150\n",
      "2360/2360 [==============================] - 4s 2ms/step - loss: 0.6942 - accuracy: 0.7747\n",
      "Epoch 127/150\n",
      "2360/2360 [==============================] - 4s 2ms/step - loss: 0.6939 - accuracy: 0.7747\n",
      "Epoch 128/150\n",
      "2360/2360 [==============================] - 4s 2ms/step - loss: 0.6940 - accuracy: 0.7747\n",
      "Epoch 129/150\n",
      "2360/2360 [==============================] - 4s 2ms/step - loss: 0.6942 - accuracy: 0.7744\n",
      "Epoch 130/150\n",
      "2360/2360 [==============================] - 4s 2ms/step - loss: 0.6941 - accuracy: 0.7744\n",
      "Epoch 131/150\n",
      "2360/2360 [==============================] - 4s 2ms/step - loss: 0.6939 - accuracy: 0.7747\n",
      "Epoch 132/150\n",
      "2360/2360 [==============================] - 4s 2ms/step - loss: 0.6940 - accuracy: 0.7750\n",
      "Epoch 133/150\n",
      "2360/2360 [==============================] - 4s 2ms/step - loss: 0.6937 - accuracy: 0.7747\n",
      "Epoch 134/150\n",
      "2360/2360 [==============================] - 4s 2ms/step - loss: 0.6941 - accuracy: 0.7747\n",
      "Epoch 135/150\n",
      "2360/2360 [==============================] - 4s 2ms/step - loss: 0.6940 - accuracy: 0.7739\n",
      "Epoch 136/150\n",
      "2360/2360 [==============================] - 4s 2ms/step - loss: 0.6936 - accuracy: 0.7747\n",
      "Epoch 137/150\n",
      "2360/2360 [==============================] - 4s 2ms/step - loss: 0.6938 - accuracy: 0.7750\n",
      "Epoch 138/150\n",
      "2360/2360 [==============================] - 4s 2ms/step - loss: 0.6938 - accuracy: 0.7754\n",
      "Epoch 139/150\n",
      "2360/2360 [==============================] - 4s 2ms/step - loss: 0.6940 - accuracy: 0.7751\n",
      "Epoch 140/150\n",
      "2360/2360 [==============================] - 4s 2ms/step - loss: 0.6941 - accuracy: 0.7748\n",
      "Epoch 141/150\n",
      "2360/2360 [==============================] - 4s 2ms/step - loss: 0.6941 - accuracy: 0.7746\n",
      "Epoch 142/150\n",
      "2360/2360 [==============================] - 4s 2ms/step - loss: 0.6938 - accuracy: 0.7743\n",
      "Epoch 143/150\n",
      "2360/2360 [==============================] - 4s 2ms/step - loss: 0.6936 - accuracy: 0.7750\n",
      "Epoch 144/150\n",
      "2360/2360 [==============================] - 4s 2ms/step - loss: 0.6942 - accuracy: 0.7742\n",
      "Epoch 145/150\n",
      "2360/2360 [==============================] - 4s 2ms/step - loss: 0.6938 - accuracy: 0.7746\n",
      "Epoch 146/150\n",
      "2360/2360 [==============================] - 4s 2ms/step - loss: 0.6939 - accuracy: 0.7747\n",
      "Epoch 147/150\n",
      "2360/2360 [==============================] - 4s 2ms/step - loss: 0.6935 - accuracy: 0.7746\n",
      "Epoch 148/150\n",
      "2360/2360 [==============================] - 4s 2ms/step - loss: 0.6934 - accuracy: 0.7750\n",
      "Epoch 149/150\n",
      "2360/2360 [==============================] - 4s 2ms/step - loss: 0.6939 - accuracy: 0.7744\n",
      "Epoch 150/150\n",
      "2360/2360 [==============================] - 4s 2ms/step - loss: 0.6942 - accuracy: 0.7742\n",
      "CPU times: user 10min 28s, sys: 37.8 s, total: 11min 6s\n",
      "Wall time: 10min 22s\n"
     ]
    },
    {
     "data": {
      "text/plain": [
       "<keras.callbacks.History at 0x7f16ef6f8690>"
      ]
     },
     "execution_count": 24,
     "metadata": {},
     "output_type": "execute_result"
    }
   ],
   "source": [
    "%%time\n",
    "model.fit(train_features, train_labels1, epochs=150, batch_size=10)"
   ]
  },
  {
   "cell_type": "code",
   "execution_count": null,
   "id": "DvzNO-JllO-r",
   "metadata": {
    "colab": {
     "base_uri": "https://localhost:8080/"
    },
    "id": "DvzNO-JllO-r",
    "outputId": "ca0ed838-0601-408b-b557-75bb164d35d5"
   },
   "outputs": [
    {
     "name": "stdout",
     "output_type": "stream",
     "text": [
      "185/185 [==============================] - 0s 1ms/step - loss: 0.6960 - accuracy: 0.7748\n",
      "Accuracy: 77.48\n"
     ]
    }
   ],
   "source": [
    "# evaluate the keras model\n",
    "accuracy = model.evaluate(test_features, test_labels1)\n",
    "print('Accuracy: %.2f' % (accuracy[1]*100))"
   ]
  },
  {
   "cell_type": "code",
   "execution_count": null,
   "id": "qJbl1jjulO99",
   "metadata": {
    "id": "qJbl1jjulO99"
   },
   "outputs": [],
   "source": [
    "y_pred = model.predict(test_features)"
   ]
  },
  {
   "cell_type": "code",
   "execution_count": null,
   "id": "X1fUo820lO3x",
   "metadata": {
    "id": "X1fUo820lO3x"
   },
   "outputs": [],
   "source": [
    "from sklearn.metrics import plot_confusion_matrix,classification_report, confusion_matrix, multilabel_confusion_matrix\n",
    "cm = confusion_matrix(np.argmax(np.array(test_labels1),axis=1),np.argmax(y_pred,axis=1))"
   ]
  },
  {
   "cell_type": "code",
   "execution_count": null,
   "id": "rswr5IWKocEi",
   "metadata": {
    "id": "rswr5IWKocEi"
   },
   "outputs": [],
   "source": [
    "import seaborn as sns"
   ]
  },
  {
   "cell_type": "code",
   "execution_count": null,
   "id": "GI5V4AUdlO3D",
   "metadata": {
    "colab": {
     "base_uri": "https://localhost:8080/",
     "height": 282
    },
    "id": "GI5V4AUdlO3D",
    "outputId": "baa3aa15-8c19-4de4-ad03-8c572c442aa0"
   },
   "outputs": [
    {
     "data": {
      "text/plain": [
       "<matplotlib.axes._subplots.AxesSubplot at 0x7f16f2047990>"
      ]
     },
     "execution_count": 29,
     "metadata": {},
     "output_type": "execute_result"
    },
    {
     "data": {
      "image/png": "[encoded data removed]",
      "text/plain": [
       "<Figure size 432x288 with 2 Axes>"
      ]
     },
     "metadata": {
      "needs_background": "light"
     },
     "output_type": "display_data"
    }
   ],
   "source": [
    "sns.heatmap(cm, annot=True, fmt='d')"
   ]
  },
  {
   "cell_type": "code",
   "execution_count": null,
   "id": "XUQk0EB2lOqn",
   "metadata": {
    "colab": {
     "base_uri": "https://localhost:8080/"
    },
    "id": "XUQk0EB2lOqn",
    "outputId": "02800ee9-c76e-45b1-b297-4690d4ce3ee1"
   },
   "outputs": [
    {
     "name": "stdout",
     "output_type": "stream",
     "text": [
      "              precision    recall  f1-score   support\n",
      "\n",
      "           0       0.79      0.98      0.88      4446\n",
      "           1       0.30      0.01      0.03       602\n",
      "           2       0.00      0.00      0.00       325\n",
      "           3       0.56      0.35      0.43       525\n",
      "\n",
      "    accuracy                           0.77      5898\n",
      "   macro avg       0.41      0.34      0.33      5898\n",
      "weighted avg       0.68      0.77      0.70      5898\n",
      "\n"
     ]
    }
   ],
   "source": [
    "print(classification_report(np.argmax(np.array(test_labels1),axis=1),np.argmax(y_pred,axis=1)))"
   ]
  },
  {
   "cell_type": "code",
   "execution_count": null,
   "id": "d6c826fa",
   "metadata": {
    "id": "d6c826fa"
   },
   "outputs": [],
   "source": [
    "from sklearn.cluster import KMeans"
   ]
  },
  {
   "cell_type": "code",
   "execution_count": null,
   "id": "4adfbf24",
   "metadata": {
    "id": "4adfbf24"
   },
   "outputs": [],
   "source": [
    "# Elbow method\n",
    "\n",
    "def elbow_plot(data_wnv, maxK=10, seed_centroids=None):\n",
    "    \"\"\"\n",
    "        parameters:\n",
    "        - data_wnv: pandas data_wnvFrame (data_wnv to be fitted)\n",
    "        - maxK (default = 10): integer (maximum number of clusters with which to run k-means)\n",
    "        - seed_centroids (default = None ): float (initial value of centroids for k-means)\n",
    "    \"\"\"\n",
    "    sse = {}\n",
    "    for k in range(1, maxK):\n",
    "        print(\"k: \", k)\n",
    "        if seed_centroids is not None:\n",
    "            seeds = seed_centroids.head(k)\n",
    "            kmeans = KMeans(n_clusters=k, max_iter=500, n_init=100, random_state=0, init=np.reshape(seeds, (k,1))).fit(data_wnv)\n",
    "            data_wnv[\"clusters\"] = kmeans.labels_\n",
    "        else:\n",
    "            kmeans = KMeans(n_clusters=k, max_iter=300, n_init=100, random_state=0).fit(data_wnv)\n",
    "            data_wnv[\"clusters\"] = kmeans.labels_\n",
    "        # Inertia: Sum of distances of samples to their closest cluster center\n",
    "        sse[k] = kmeans.inertia_\n",
    "    plt.figure()\n",
    "    plt.plot(list(sse.keys()), list(sse.values()))\n",
    "    plt.show()\n",
    "    return"
   ]
  },
  {
   "cell_type": "code",
   "execution_count": null,
   "id": "7b97c522",
   "metadata": {
    "colab": {
     "base_uri": "https://localhost:8080/",
     "height": 432
    },
    "id": "7b97c522",
    "outputId": "56f9c3ae-4bc1-4974-ce71-1b10a71de790"
   },
   "outputs": [
    {
     "name": "stdout",
     "output_type": "stream",
     "text": [
      "k:  1\n",
      "k:  2\n",
      "k:  3\n",
      "k:  4\n",
      "k:  5\n",
      "k:  6\n",
      "k:  7\n",
      "k:  8\n",
      "k:  9\n"
     ]
    },
    {
     "data": {
      "image/png": "[encoded data removed]",
      "text/plain": [
       "<Figure size 432x288 with 1 Axes>"
      ]
     },
     "metadata": {
      "needs_background": "light"
     },
     "output_type": "display_data"
    }
   ],
   "source": [
    "df = train_features.append(test_features)\n",
    "elbow_plot(df,maxK=10)"
   ]
  },
  {
   "cell_type": "code",
   "execution_count": null,
   "id": "6195be35",
   "metadata": {
    "colab": {
     "base_uri": "https://localhost:8080/"
    },
    "id": "6195be35",
    "outputId": "717f4c7e-69ca-4e5e-fd8c-aaeb5f60ac83"
   },
   "outputs": [
    {
     "data": {
      "text/plain": [
       "KMeans(n_clusters=3)"
      ]
     },
     "execution_count": 36,
     "metadata": {},
     "output_type": "execute_result"
    }
   ],
   "source": [
    "KMeans(n_clusters=3, ).fit(train_features.append(test_features))"
   ]
  },
  {
   "cell_type": "code",
   "execution_count": null,
   "id": "16T5NcOC021k",
   "metadata": {
    "id": "16T5NcOC021k"
   },
   "outputs": [],
   "source": []
  }
 ],
 "metadata": {
  "colab": {
   "provenance": []
  },
  "kernelspec": {
   "display_name": "Python 3 (ipykernel)",
   "language": "python",
   "name": "python3"
  },
  "language_info": {
   "codemirror_mode": {
    "name": "ipython",
    "version": 3
   },
   "file_extension": ".py",
   "mimetype": "text/x-python",
   "name": "python",
   "nbconvert_exporter": "python",
   "pygments_lexer": "ipython3",
   "version": "3.11.3"
  }
 },
 "nbformat": 4,
 "nbformat_minor": 5
}
